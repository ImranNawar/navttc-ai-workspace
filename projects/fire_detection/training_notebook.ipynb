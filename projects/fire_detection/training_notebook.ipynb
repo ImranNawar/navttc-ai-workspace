{
 "cells": [
  {
   "cell_type": "markdown",
   "metadata": {},
   "source": [
    "# 🔥 Fire Detection using YOLOv8🔥"
   ]
  },
  {
   "cell_type": "code",
   "execution_count": null,
   "metadata": {
    "collapsed": true,
    "execution": {
     "iopub.execute_input": "2025-03-12T07:24:37.900082Z",
     "iopub.status.busy": "2025-03-12T07:24:37.899780Z",
     "iopub.status.idle": "2025-03-12T07:24:43.019628Z",
     "shell.execute_reply": "2025-03-12T07:24:43.018504Z",
     "shell.execute_reply.started": "2025-03-12T07:24:37.900037Z"
    },
    "jupyter": {
     "outputs_hidden": true
    },
    "trusted": true
   },
   "outputs": [
    {
     "name": "stdout",
     "output_type": "stream",
     "text": [
      "Collecting ultralytics\n",
      "  Downloading ultralytics-8.3.88-py3-none-any.whl.metadata (35 kB)\n",
      "Requirement already satisfied: opencv-python in /usr/local/lib/python3.10/dist-packages (4.10.0.84)\n",
      "Requirement already satisfied: matplotlib in /usr/local/lib/python3.10/dist-packages (3.7.5)\n",
      "Requirement already satisfied: tqdm in /usr/local/lib/python3.10/dist-packages (4.67.1)\n",
      "Requirement already satisfied: numpy<=2.1.1,>=1.23.0 in /usr/local/lib/python3.10/dist-packages (from ultralytics) (1.26.4)\n",
      "Requirement already satisfied: pillow>=7.1.2 in /usr/local/lib/python3.10/dist-packages (from ultralytics) (11.0.0)\n",
      "Requirement already satisfied: pyyaml>=5.3.1 in /usr/local/lib/python3.10/dist-packages (from ultralytics) (6.0.2)\n",
      "Requirement already satisfied: requests>=2.23.0 in /usr/local/lib/python3.10/dist-packages (from ultralytics) (2.32.3)\n",
      "Requirement already satisfied: scipy>=1.4.1 in /usr/local/lib/python3.10/dist-packages (from ultralytics) (1.13.1)\n",
      "Requirement already satisfied: torch>=1.8.0 in /usr/local/lib/python3.10/dist-packages (from ultralytics) (2.5.1+cu121)\n",
      "Requirement already satisfied: torchvision>=0.9.0 in /usr/local/lib/python3.10/dist-packages (from ultralytics) (0.20.1+cu121)\n",
      "Requirement already satisfied: psutil in /usr/local/lib/python3.10/dist-packages (from ultralytics) (5.9.5)\n",
      "Requirement already satisfied: py-cpuinfo in /usr/local/lib/python3.10/dist-packages (from ultralytics) (9.0.0)\n",
      "Requirement already satisfied: pandas>=1.1.4 in /usr/local/lib/python3.10/dist-packages (from ultralytics) (2.2.3)\n",
      "Requirement already satisfied: seaborn>=0.11.0 in /usr/local/lib/python3.10/dist-packages (from ultralytics) (0.12.2)\n",
      "Collecting ultralytics-thop>=2.0.0 (from ultralytics)\n",
      "  Downloading ultralytics_thop-2.0.14-py3-none-any.whl.metadata (9.4 kB)\n",
      "Requirement already satisfied: contourpy>=1.0.1 in /usr/local/lib/python3.10/dist-packages (from matplotlib) (1.3.1)\n",
      "Requirement already satisfied: cycler>=0.10 in /usr/local/lib/python3.10/dist-packages (from matplotlib) (0.12.1)\n",
      "Requirement already satisfied: fonttools>=4.22.0 in /usr/local/lib/python3.10/dist-packages (from matplotlib) (4.55.3)\n",
      "Requirement already satisfied: kiwisolver>=1.0.1 in /usr/local/lib/python3.10/dist-packages (from matplotlib) (1.4.7)\n",
      "Requirement already satisfied: packaging>=20.0 in /usr/local/lib/python3.10/dist-packages (from matplotlib) (24.2)\n",
      "Requirement already satisfied: pyparsing>=2.3.1 in /usr/local/lib/python3.10/dist-packages (from matplotlib) (3.2.0)\n",
      "Requirement already satisfied: python-dateutil>=2.7 in /usr/local/lib/python3.10/dist-packages (from matplotlib) (2.9.0.post0)\n",
      "Requirement already satisfied: mkl_fft in /usr/local/lib/python3.10/dist-packages (from numpy<=2.1.1,>=1.23.0->ultralytics) (1.3.8)\n",
      "Requirement already satisfied: mkl_random in /usr/local/lib/python3.10/dist-packages (from numpy<=2.1.1,>=1.23.0->ultralytics) (1.2.4)\n",
      "Requirement already satisfied: mkl_umath in /usr/local/lib/python3.10/dist-packages (from numpy<=2.1.1,>=1.23.0->ultralytics) (0.1.1)\n",
      "Requirement already satisfied: mkl in /usr/local/lib/python3.10/dist-packages (from numpy<=2.1.1,>=1.23.0->ultralytics) (2025.0.1)\n",
      "Requirement already satisfied: tbb4py in /usr/local/lib/python3.10/dist-packages (from numpy<=2.1.1,>=1.23.0->ultralytics) (2022.0.0)\n",
      "Requirement already satisfied: mkl-service in /usr/local/lib/python3.10/dist-packages (from numpy<=2.1.1,>=1.23.0->ultralytics) (2.4.1)\n",
      "Requirement already satisfied: pytz>=2020.1 in /usr/local/lib/python3.10/dist-packages (from pandas>=1.1.4->ultralytics) (2025.1)\n",
      "Requirement already satisfied: tzdata>=2022.7 in /usr/local/lib/python3.10/dist-packages (from pandas>=1.1.4->ultralytics) (2025.1)\n",
      "Requirement already satisfied: six>=1.5 in /usr/local/lib/python3.10/dist-packages (from python-dateutil>=2.7->matplotlib) (1.17.0)\n",
      "Requirement already satisfied: charset-normalizer<4,>=2 in /usr/local/lib/python3.10/dist-packages (from requests>=2.23.0->ultralytics) (3.4.1)\n",
      "Requirement already satisfied: idna<4,>=2.5 in /usr/local/lib/python3.10/dist-packages (from requests>=2.23.0->ultralytics) (3.10)\n",
      "Requirement already satisfied: urllib3<3,>=1.21.1 in /usr/local/lib/python3.10/dist-packages (from requests>=2.23.0->ultralytics) (2.3.0)\n",
      "Requirement already satisfied: certifi>=2017.4.17 in /usr/local/lib/python3.10/dist-packages (from requests>=2.23.0->ultralytics) (2025.1.31)\n",
      "Requirement already satisfied: filelock in /usr/local/lib/python3.10/dist-packages (from torch>=1.8.0->ultralytics) (3.17.0)\n",
      "Requirement already satisfied: typing-extensions>=4.8.0 in /usr/local/lib/python3.10/dist-packages (from torch>=1.8.0->ultralytics) (4.12.2)\n",
      "Requirement already satisfied: networkx in /usr/local/lib/python3.10/dist-packages (from torch>=1.8.0->ultralytics) (3.4.2)\n",
      "Requirement already satisfied: jinja2 in /usr/local/lib/python3.10/dist-packages (from torch>=1.8.0->ultralytics) (3.1.4)\n",
      "Requirement already satisfied: fsspec in /usr/local/lib/python3.10/dist-packages (from torch>=1.8.0->ultralytics) (2024.12.0)\n",
      "Requirement already satisfied: sympy==1.13.1 in /usr/local/lib/python3.10/dist-packages (from torch>=1.8.0->ultralytics) (1.13.1)\n",
      "Requirement already satisfied: mpmath<1.4,>=1.1.0 in /usr/local/lib/python3.10/dist-packages (from sympy==1.13.1->torch>=1.8.0->ultralytics) (1.3.0)\n",
      "Requirement already satisfied: MarkupSafe>=2.0 in /usr/local/lib/python3.10/dist-packages (from jinja2->torch>=1.8.0->ultralytics) (3.0.2)\n",
      "Requirement already satisfied: intel-openmp>=2024 in /usr/local/lib/python3.10/dist-packages (from mkl->numpy<=2.1.1,>=1.23.0->ultralytics) (2024.2.0)\n",
      "Requirement already satisfied: tbb==2022.* in /usr/local/lib/python3.10/dist-packages (from mkl->numpy<=2.1.1,>=1.23.0->ultralytics) (2022.0.0)\n",
      "Requirement already satisfied: tcmlib==1.* in /usr/local/lib/python3.10/dist-packages (from tbb==2022.*->mkl->numpy<=2.1.1,>=1.23.0->ultralytics) (1.2.0)\n",
      "Requirement already satisfied: intel-cmplr-lib-rt in /usr/local/lib/python3.10/dist-packages (from mkl_umath->numpy<=2.1.1,>=1.23.0->ultralytics) (2024.2.0)\n",
      "Requirement already satisfied: intel-cmplr-lib-ur==2024.2.0 in /usr/local/lib/python3.10/dist-packages (from intel-openmp>=2024->mkl->numpy<=2.1.1,>=1.23.0->ultralytics) (2024.2.0)\n",
      "Downloading ultralytics-8.3.88-py3-none-any.whl (932 kB)\n",
      "\u001b[2K   \u001b[90m━━━━━━━━━━━━━━━━━━━━━━━━━━━━━━━━━━━━━━━━\u001b[0m \u001b[32m932.9/932.9 kB\u001b[0m \u001b[31m32.7 MB/s\u001b[0m eta \u001b[36m0:00:00\u001b[0m\n",
      "\u001b[?25hDownloading ultralytics_thop-2.0.14-py3-none-any.whl (26 kB)\n",
      "Installing collected packages: ultralytics-thop, ultralytics\n",
      "Successfully installed ultralytics-8.3.88 ultralytics-thop-2.0.14\n"
     ]
    }
   ],
   "source": [
    "!pip install ultralytics tqdm"
   ]
  },
  {
   "cell_type": "code",
   "execution_count": null,
   "metadata": {
    "execution": {
     "iopub.execute_input": "2025-03-12T07:24:46.381263Z",
     "iopub.status.busy": "2025-03-12T07:24:46.380808Z",
     "iopub.status.idle": "2025-03-12T07:24:47.107619Z",
     "shell.execute_reply": "2025-03-12T07:24:47.106752Z",
     "shell.execute_reply.started": "2025-03-12T07:24:46.381217Z"
    },
    "trusted": true
   },
   "outputs": [
    {
     "name": "stdout",
     "output_type": "stream",
     "text": [
      "Creating new Ultralytics Settings v0.0.6 file ✅ \n",
      "View Ultralytics Settings with 'yolo settings' or at '/root/.config/Ultralytics/settings.json'\n",
      "Update Settings with 'yolo settings key=value', i.e. 'yolo settings runs_dir=path/to/dir'. For help see https://docs.ultralytics.com/quickstart/#ultralytics-settings.\n"
     ]
    }
   ],
   "source": [
    "import os\n",
    "import cv2\n",
    "import torch\n",
    "from ultralytics import YOLO\n",
    "import matplotlib.pyplot as plt\n",
    "from tqdm import tqdm"
   ]
  },
  {
   "cell_type": "markdown",
   "metadata": {},
   "source": [
    "**Device Agnostic Code**"
   ]
  },
  {
   "cell_type": "code",
   "execution_count": null,
   "metadata": {
    "execution": {
     "iopub.execute_input": "2025-03-12T07:24:49.680503Z",
     "iopub.status.busy": "2025-03-12T07:24:49.680015Z",
     "iopub.status.idle": "2025-03-12T07:24:49.729913Z",
     "shell.execute_reply": "2025-03-12T07:24:49.729012Z",
     "shell.execute_reply.started": "2025-03-12T07:24:49.680473Z"
    },
    "trusted": true
   },
   "outputs": [
    {
     "name": "stdout",
     "output_type": "stream",
     "text": [
      "Using device: cuda\n"
     ]
    }
   ],
   "source": [
    "device = 'cuda' if torch.cuda.is_available() else 'cpu'\n",
    "device"
   ]
  },
  {
   "cell_type": "markdown",
   "metadata": {},
   "source": [
    "**Dataset Directory**"
   ]
  },
  {
   "cell_type": "code",
   "execution_count": null,
   "metadata": {
    "execution": {
     "iopub.execute_input": "2025-03-12T07:35:28.996601Z",
     "iopub.status.busy": "2025-03-12T07:35:28.996306Z",
     "iopub.status.idle": "2025-03-12T07:35:29.000536Z",
     "shell.execute_reply": "2025-03-12T07:35:28.999732Z",
     "shell.execute_reply.started": "2025-03-12T07:35:28.996570Z"
    },
    "trusted": true
   },
   "outputs": [],
   "source": [
    "DATASET_PATH = '/kaggle/input/fire-detection/Fire-Detection'\n",
    "\n",
    "def setup_data():\n",
    "    if not os.path.exists(DATASET_PATH):\n",
    "        print(\"Dataset not found! Please add the dataset to Kaggle Notebook.\")\n",
    "    else:\n",
    "        print(\"Dataset found and ready to use.\")"
   ]
  },
  {
   "cell_type": "markdown",
   "metadata": {},
   "source": [
    "### Load YOLOv8 model"
   ]
  },
  {
   "cell_type": "code",
   "execution_count": null,
   "metadata": {
    "execution": {
     "iopub.execute_input": "2025-03-12T07:35:29.713801Z",
     "iopub.status.busy": "2025-03-12T07:35:29.713504Z",
     "iopub.status.idle": "2025-03-12T07:35:29.760026Z",
     "shell.execute_reply": "2025-03-12T07:35:29.759322Z",
     "shell.execute_reply.started": "2025-03-12T07:35:29.713777Z"
    },
    "trusted": true
   },
   "outputs": [],
   "source": [
    "model = YOLO(\"yolov8n.pt\")"
   ]
  },
  {
   "cell_type": "code",
   "execution_count": null,
   "metadata": {
    "execution": {
     "iopub.execute_input": "2025-03-12T07:35:46.359513Z",
     "iopub.status.busy": "2025-03-12T07:35:46.359209Z",
     "iopub.status.idle": "2025-03-12T07:35:46.364092Z",
     "shell.execute_reply": "2025-03-12T07:35:46.363257Z",
     "shell.execute_reply.started": "2025-03-12T07:35:46.359489Z"
    },
    "trusted": true
   },
   "outputs": [
    {
     "name": "stdout",
     "output_type": "stream",
     "text": [
      "Using dataset:  /kaggle/input/fire-detection/Fire-Detection/data.yaml\n"
     ]
    }
   ],
   "source": [
    "data_yaml = \"/kaggle/input/fire-detection/Fire-Detection/data.yaml\"\n",
    "print(\"Using dataset: \", data_yaml)"
   ]
  },
  {
   "cell_type": "markdown",
   "metadata": {},
   "source": [
    "### Train YOLOv8 Model\n",
    "- The default image size for Yolov8 is `640x640`."
   ]
  },
  {
   "cell_type": "code",
   "execution_count": null,
   "metadata": {
    "collapsed": true,
    "execution": {
     "iopub.execute_input": "2025-03-12T07:35:48.570631Z",
     "iopub.status.busy": "2025-03-12T07:35:48.570311Z",
     "iopub.status.idle": "2025-03-12T07:49:45.063120Z",
     "shell.execute_reply": "2025-03-12T07:49:45.062129Z",
     "shell.execute_reply.started": "2025-03-12T07:35:48.570602Z"
    },
    "jupyter": {
     "outputs_hidden": true
    },
    "trusted": true
   },
   "outputs": [
    {
     "name": "stdout",
     "output_type": "stream",
     "text": [
      "Ultralytics 8.3.88 🚀 Python-3.10.12 torch-2.5.1+cu121 CUDA:0 (Tesla P100-PCIE-16GB, 16269MiB)\n",
      "\u001b[34m\u001b[1mengine/trainer: \u001b[0mtask=detect, mode=train, model=yolov8n.pt, data=/kaggle/input/fire-detection/Fire-Detection/data.yaml, epochs=50, time=None, patience=100, batch=16, imgsz=640, save=True, save_period=-1, cache=False, device=cuda, workers=8, project=None, name=train4, exist_ok=False, pretrained=True, optimizer=auto, verbose=True, seed=0, deterministic=True, single_cls=False, rect=False, cos_lr=False, close_mosaic=10, resume=False, amp=True, fraction=1.0, profile=False, freeze=None, multi_scale=False, overlap_mask=True, mask_ratio=4, dropout=0.0, val=True, split=val, save_json=False, save_hybrid=False, conf=None, iou=0.7, max_det=300, half=False, dnn=False, plots=True, source=None, vid_stride=1, stream_buffer=False, visualize=False, augment=False, agnostic_nms=False, classes=None, retina_masks=False, embed=None, show=False, save_frames=False, save_txt=False, save_conf=False, save_crop=False, show_labels=True, show_conf=True, show_boxes=True, line_width=None, format=torchscript, keras=False, optimize=False, int8=False, dynamic=False, simplify=True, opset=None, workspace=None, nms=False, lr0=0.01, lrf=0.01, momentum=0.937, weight_decay=0.0005, warmup_epochs=3.0, warmup_momentum=0.8, warmup_bias_lr=0.1, box=7.5, cls=0.5, dfl=1.5, pose=12.0, kobj=1.0, nbs=64, hsv_h=0.015, hsv_s=0.7, hsv_v=0.4, degrees=0.0, translate=0.1, scale=0.5, shear=0.0, perspective=0.0, flipud=0.0, fliplr=0.5, bgr=0.0, mosaic=1.0, mixup=0.0, copy_paste=0.0, copy_paste_mode=flip, auto_augment=randaugment, erasing=0.4, crop_fraction=1.0, cfg=None, tracker=botsort.yaml, save_dir=runs/detect/train4\n",
      "Downloading https://ultralytics.com/assets/Arial.ttf to '/root/.config/Ultralytics/Arial.ttf'...\n"
     ]
    },
    {
     "name": "stderr",
     "output_type": "stream",
     "text": [
      "100%|██████████| 755k/755k [00:00<00:00, 33.1MB/s]\n"
     ]
    },
    {
     "name": "stdout",
     "output_type": "stream",
     "text": [
      "Overriding model.yaml nc=80 with nc=1\n",
      "\n",
      "                   from  n    params  module                                       arguments                     \n",
      "  0                  -1  1       464  ultralytics.nn.modules.conv.Conv             [3, 16, 3, 2]                 \n",
      "  1                  -1  1      4672  ultralytics.nn.modules.conv.Conv             [16, 32, 3, 2]                \n",
      "  2                  -1  1      7360  ultralytics.nn.modules.block.C2f             [32, 32, 1, True]             \n",
      "  3                  -1  1     18560  ultralytics.nn.modules.conv.Conv             [32, 64, 3, 2]                \n",
      "  4                  -1  2     49664  ultralytics.nn.modules.block.C2f             [64, 64, 2, True]             \n",
      "  5                  -1  1     73984  ultralytics.nn.modules.conv.Conv             [64, 128, 3, 2]               \n",
      "  6                  -1  2    197632  ultralytics.nn.modules.block.C2f             [128, 128, 2, True]           \n",
      "  7                  -1  1    295424  ultralytics.nn.modules.conv.Conv             [128, 256, 3, 2]              \n",
      "  8                  -1  1    460288  ultralytics.nn.modules.block.C2f             [256, 256, 1, True]           \n",
      "  9                  -1  1    164608  ultralytics.nn.modules.block.SPPF            [256, 256, 5]                 \n",
      " 10                  -1  1         0  torch.nn.modules.upsampling.Upsample         [None, 2, 'nearest']          \n",
      " 11             [-1, 6]  1         0  ultralytics.nn.modules.conv.Concat           [1]                           \n",
      " 12                  -1  1    148224  ultralytics.nn.modules.block.C2f             [384, 128, 1]                 \n",
      " 13                  -1  1         0  torch.nn.modules.upsampling.Upsample         [None, 2, 'nearest']          \n",
      " 14             [-1, 4]  1         0  ultralytics.nn.modules.conv.Concat           [1]                           \n",
      " 15                  -1  1     37248  ultralytics.nn.modules.block.C2f             [192, 64, 1]                  \n",
      " 16                  -1  1     36992  ultralytics.nn.modules.conv.Conv             [64, 64, 3, 2]                \n",
      " 17            [-1, 12]  1         0  ultralytics.nn.modules.conv.Concat           [1]                           \n",
      " 18                  -1  1    123648  ultralytics.nn.modules.block.C2f             [192, 128, 1]                 \n",
      " 19                  -1  1    147712  ultralytics.nn.modules.conv.Conv             [128, 128, 3, 2]              \n",
      " 20             [-1, 9]  1         0  ultralytics.nn.modules.conv.Concat           [1]                           \n",
      " 21                  -1  1    493056  ultralytics.nn.modules.block.C2f             [384, 256, 1]                 \n",
      " 22        [15, 18, 21]  1    751507  ultralytics.nn.modules.head.Detect           [1, [64, 128, 256]]           \n",
      "Model summary: 129 layers, 3,011,043 parameters, 3,011,027 gradients, 8.2 GFLOPs\n",
      "\n",
      "Transferred 319/355 items from pretrained weights\n",
      "\u001b[34m\u001b[1mTensorBoard: \u001b[0mStart with 'tensorboard --logdir runs/detect/train4', view at http://localhost:6006/\n",
      "Freezing layer 'model.22.dfl.conv.weight'\n",
      "\u001b[34m\u001b[1mAMP: \u001b[0mrunning Automatic Mixed Precision (AMP) checks...\n",
      "Downloading https://github.com/ultralytics/assets/releases/download/v8.3.0/yolo11n.pt to 'yolo11n.pt'...\n"
     ]
    },
    {
     "name": "stderr",
     "output_type": "stream",
     "text": [
      "100%|██████████| 5.35M/5.35M [00:00<00:00, 153MB/s]\n"
     ]
    },
    {
     "name": "stdout",
     "output_type": "stream",
     "text": [
      "\u001b[34m\u001b[1mAMP: \u001b[0mchecks passed ✅\n"
     ]
    },
    {
     "name": "stderr",
     "output_type": "stream",
     "text": [
      "\u001b[34m\u001b[1mtrain: \u001b[0mScanning /kaggle/input/fire-detection/Fire-Detection/train/labels... 1004 images, 2 backgrounds, 0 corrupt: 100%|██████████| 1004/1004 [00:02<00:00, 464.03it/s]\n"
     ]
    },
    {
     "name": "stdout",
     "output_type": "stream",
     "text": [
      "\u001b[34m\u001b[1mtrain: \u001b[0mWARNING ⚠️ Cache directory /kaggle/input/fire-detection/Fire-Detection/train is not writeable, cache not saved.\n",
      "\u001b[34m\u001b[1malbumentations: \u001b[0mBlur(p=0.01, blur_limit=(3, 7)), MedianBlur(p=0.01, blur_limit=(3, 7)), ToGray(p=0.01, num_output_channels=3, method='weighted_average'), CLAHE(p=0.01, clip_limit=(1.0, 4.0), tile_grid_size=(8, 8))\n"
     ]
    },
    {
     "name": "stderr",
     "output_type": "stream",
     "text": [
      "/usr/local/lib/python3.10/dist-packages/albumentations/__init__.py:24: UserWarning: A new version of Albumentations is available: 2.0.5 (you have 1.4.20). Upgrade using: pip install -U albumentations. To disable automatic update checks, set the environment variable NO_ALBUMENTATIONS_UPDATE to 1.\n",
      "  check_for_updates()\n",
      "\u001b[34m\u001b[1mval: \u001b[0mScanning /kaggle/input/fire-detection/Fire-Detection/valid/labels... 754 images, 2 backgrounds, 0 corrupt: 100%|██████████| 754/754 [00:01<00:00, 456.24it/s]"
     ]
    },
    {
     "name": "stdout",
     "output_type": "stream",
     "text": [
      "\u001b[34m\u001b[1mval: \u001b[0mWARNING ⚠️ Cache directory /kaggle/input/fire-detection/Fire-Detection/valid is not writeable, cache not saved.\n"
     ]
    },
    {
     "name": "stderr",
     "output_type": "stream",
     "text": [
      "\n"
     ]
    },
    {
     "name": "stdout",
     "output_type": "stream",
     "text": [
      "Plotting labels to runs/detect/train4/labels.jpg... \n",
      "\u001b[34m\u001b[1moptimizer:\u001b[0m 'optimizer=auto' found, ignoring 'lr0=0.01' and 'momentum=0.937' and determining best 'optimizer', 'lr0' and 'momentum' automatically... \n",
      "\u001b[34m\u001b[1moptimizer:\u001b[0m AdamW(lr=0.002, momentum=0.9) with parameter groups 57 weight(decay=0.0), 64 weight(decay=0.0005), 63 bias(decay=0.0)\n",
      "\u001b[34m\u001b[1mTensorBoard: \u001b[0mmodel graph visualization added ✅\n",
      "Image sizes 640 train, 640 val\n",
      "Using 4 dataloader workers\n",
      "Logging results to \u001b[1mruns/detect/train4\u001b[0m\n",
      "Starting training for 50 epochs...\n",
      "\n",
      "      Epoch    GPU_mem   box_loss   cls_loss   dfl_loss  Instances       Size\n"
     ]
    },
    {
     "name": "stderr",
     "output_type": "stream",
     "text": [
      "       1/50      2.18G      1.484        2.5      1.496         27        640: 100%|██████████| 63/63 [00:13<00:00,  4.82it/s]\n",
      "                 Class     Images  Instances      Box(P          R      mAP50  mAP50-95): 100%|██████████| 24/24 [00:06<00:00,  3.95it/s]\n"
     ]
    },
    {
     "name": "stdout",
     "output_type": "stream",
     "text": [
      "                   all        754        950      0.614      0.465      0.508      0.259\n",
      "\n",
      "      Epoch    GPU_mem   box_loss   cls_loss   dfl_loss  Instances       Size\n"
     ]
    },
    {
     "name": "stderr",
     "output_type": "stream",
     "text": [
      "       2/50      2.44G      1.501      1.987      1.499         41        640: 100%|██████████| 63/63 [00:11<00:00,  5.39it/s]\n",
      "                 Class     Images  Instances      Box(P          R      mAP50  mAP50-95): 100%|██████████| 24/24 [00:04<00:00,  4.86it/s]\n"
     ]
    },
    {
     "name": "stdout",
     "output_type": "stream",
     "text": [
      "                   all        754        950      0.281      0.276      0.193     0.0715\n",
      "\n",
      "      Epoch    GPU_mem   box_loss   cls_loss   dfl_loss  Instances       Size\n"
     ]
    },
    {
     "name": "stderr",
     "output_type": "stream",
     "text": [
      "       3/50      2.44G      1.534      1.883      1.508         29        640: 100%|██████████| 63/63 [00:11<00:00,  5.39it/s]\n",
      "                 Class     Images  Instances      Box(P          R      mAP50  mAP50-95): 100%|██████████| 24/24 [00:04<00:00,  5.77it/s]\n"
     ]
    },
    {
     "name": "stdout",
     "output_type": "stream",
     "text": [
      "                   all        754        950      0.579      0.473      0.522      0.256\n",
      "\n",
      "      Epoch    GPU_mem   box_loss   cls_loss   dfl_loss  Instances       Size\n"
     ]
    },
    {
     "name": "stderr",
     "output_type": "stream",
     "text": [
      "       4/50      2.44G      1.539       1.78      1.517         26        640: 100%|██████████| 63/63 [00:11<00:00,  5.53it/s]\n",
      "                 Class     Images  Instances      Box(P          R      mAP50  mAP50-95): 100%|██████████| 24/24 [00:04<00:00,  5.84it/s]\n"
     ]
    },
    {
     "name": "stdout",
     "output_type": "stream",
     "text": [
      "                   all        754        950      0.546      0.545      0.544      0.283\n",
      "\n",
      "      Epoch    GPU_mem   box_loss   cls_loss   dfl_loss  Instances       Size\n"
     ]
    },
    {
     "name": "stderr",
     "output_type": "stream",
     "text": [
      "       5/50      2.44G      1.482      1.619      1.484         32        640: 100%|██████████| 63/63 [00:11<00:00,  5.57it/s]\n",
      "                 Class     Images  Instances      Box(P          R      mAP50  mAP50-95): 100%|██████████| 24/24 [00:04<00:00,  5.81it/s]\n"
     ]
    },
    {
     "name": "stdout",
     "output_type": "stream",
     "text": [
      "                   all        754        950      0.608      0.654      0.607      0.334\n",
      "\n",
      "      Epoch    GPU_mem   box_loss   cls_loss   dfl_loss  Instances       Size\n"
     ]
    },
    {
     "name": "stderr",
     "output_type": "stream",
     "text": [
      "       6/50      2.44G      1.446      1.539      1.468         32        640: 100%|██████████| 63/63 [00:11<00:00,  5.54it/s]\n",
      "                 Class     Images  Instances      Box(P          R      mAP50  mAP50-95): 100%|██████████| 24/24 [00:04<00:00,  5.86it/s]\n"
     ]
    },
    {
     "name": "stdout",
     "output_type": "stream",
     "text": [
      "                   all        754        950      0.492      0.569      0.496      0.283\n",
      "\n",
      "      Epoch    GPU_mem   box_loss   cls_loss   dfl_loss  Instances       Size\n"
     ]
    },
    {
     "name": "stderr",
     "output_type": "stream",
     "text": [
      "       7/50      2.44G      1.443      1.474      1.454         27        640: 100%|██████████| 63/63 [00:11<00:00,  5.56it/s]\n",
      "                 Class     Images  Instances      Box(P          R      mAP50  mAP50-95): 100%|██████████| 24/24 [00:04<00:00,  5.87it/s]"
     ]
    },
    {
     "name": "stdout",
     "output_type": "stream",
     "text": [
      "                   all        754        950       0.52       0.66      0.556      0.296\n"
     ]
    },
    {
     "name": "stderr",
     "output_type": "stream",
     "text": [
      "\n"
     ]
    },
    {
     "name": "stdout",
     "output_type": "stream",
     "text": [
      "\n",
      "      Epoch    GPU_mem   box_loss   cls_loss   dfl_loss  Instances       Size\n"
     ]
    },
    {
     "name": "stderr",
     "output_type": "stream",
     "text": [
      "       8/50      2.44G      1.411      1.382      1.433         28        640: 100%|██████████| 63/63 [00:11<00:00,  5.51it/s]\n",
      "                 Class     Images  Instances      Box(P          R      mAP50  mAP50-95): 100%|██████████| 24/24 [00:04<00:00,  5.80it/s]\n"
     ]
    },
    {
     "name": "stdout",
     "output_type": "stream",
     "text": [
      "                   all        754        950      0.739      0.657      0.735      0.449\n",
      "\n",
      "      Epoch    GPU_mem   box_loss   cls_loss   dfl_loss  Instances       Size\n"
     ]
    },
    {
     "name": "stderr",
     "output_type": "stream",
     "text": [
      "       9/50      2.44G      1.354      1.359      1.405         24        640: 100%|██████████| 63/63 [00:11<00:00,  5.57it/s]\n",
      "                 Class     Images  Instances      Box(P          R      mAP50  mAP50-95): 100%|██████████| 24/24 [00:04<00:00,  5.48it/s]"
     ]
    },
    {
     "name": "stdout",
     "output_type": "stream",
     "text": [
      "                   all        754        950      0.649      0.634      0.678      0.392\n"
     ]
    },
    {
     "name": "stderr",
     "output_type": "stream",
     "text": [
      "\n"
     ]
    },
    {
     "name": "stdout",
     "output_type": "stream",
     "text": [
      "\n",
      "      Epoch    GPU_mem   box_loss   cls_loss   dfl_loss  Instances       Size\n"
     ]
    },
    {
     "name": "stderr",
     "output_type": "stream",
     "text": [
      "      10/50      2.44G      1.373      1.311      1.413         32        640: 100%|██████████| 63/63 [00:11<00:00,  5.53it/s]\n",
      "                 Class     Images  Instances      Box(P          R      mAP50  mAP50-95): 100%|██████████| 24/24 [00:03<00:00,  6.04it/s]"
     ]
    },
    {
     "name": "stdout",
     "output_type": "stream",
     "text": [
      "                   all        754        950      0.681      0.678      0.687      0.429\n"
     ]
    },
    {
     "name": "stderr",
     "output_type": "stream",
     "text": [
      "\n"
     ]
    },
    {
     "name": "stdout",
     "output_type": "stream",
     "text": [
      "\n",
      "      Epoch    GPU_mem   box_loss   cls_loss   dfl_loss  Instances       Size\n"
     ]
    },
    {
     "name": "stderr",
     "output_type": "stream",
     "text": [
      "      11/50      2.44G      1.327      1.261      1.392         32        640: 100%|██████████| 63/63 [00:11<00:00,  5.58it/s]\n",
      "                 Class     Images  Instances      Box(P          R      mAP50  mAP50-95): 100%|██████████| 24/24 [00:03<00:00,  6.06it/s]"
     ]
    },
    {
     "name": "stdout",
     "output_type": "stream",
     "text": [
      "                   all        754        950      0.835      0.735      0.827      0.499\n"
     ]
    },
    {
     "name": "stderr",
     "output_type": "stream",
     "text": [
      "\n"
     ]
    },
    {
     "name": "stdout",
     "output_type": "stream",
     "text": [
      "\n",
      "      Epoch    GPU_mem   box_loss   cls_loss   dfl_loss  Instances       Size\n"
     ]
    },
    {
     "name": "stderr",
     "output_type": "stream",
     "text": [
      "      12/50      2.44G       1.31      1.232      1.372         41        640: 100%|██████████| 63/63 [00:11<00:00,  5.56it/s]\n",
      "                 Class     Images  Instances      Box(P          R      mAP50  mAP50-95): 100%|██████████| 24/24 [00:04<00:00,  5.94it/s]"
     ]
    },
    {
     "name": "stdout",
     "output_type": "stream",
     "text": [
      "                   all        754        950      0.773      0.704      0.786      0.481\n"
     ]
    },
    {
     "name": "stderr",
     "output_type": "stream",
     "text": [
      "\n"
     ]
    },
    {
     "name": "stdout",
     "output_type": "stream",
     "text": [
      "\n",
      "      Epoch    GPU_mem   box_loss   cls_loss   dfl_loss  Instances       Size\n"
     ]
    },
    {
     "name": "stderr",
     "output_type": "stream",
     "text": [
      "      13/50      2.44G       1.27       1.19      1.329         27        640: 100%|██████████| 63/63 [00:11<00:00,  5.60it/s]\n",
      "                 Class     Images  Instances      Box(P          R      mAP50  mAP50-95): 100%|██████████| 24/24 [00:03<00:00,  6.07it/s]"
     ]
    },
    {
     "name": "stdout",
     "output_type": "stream",
     "text": [
      "                   all        754        950      0.788      0.711      0.791      0.494\n"
     ]
    },
    {
     "name": "stderr",
     "output_type": "stream",
     "text": [
      "\n"
     ]
    },
    {
     "name": "stdout",
     "output_type": "stream",
     "text": [
      "\n",
      "      Epoch    GPU_mem   box_loss   cls_loss   dfl_loss  Instances       Size\n"
     ]
    },
    {
     "name": "stderr",
     "output_type": "stream",
     "text": [
      "      14/50      2.44G      1.291      1.195       1.35         27        640: 100%|██████████| 63/63 [00:11<00:00,  5.53it/s]\n",
      "                 Class     Images  Instances      Box(P          R      mAP50  mAP50-95): 100%|██████████| 24/24 [00:04<00:00,  5.88it/s]"
     ]
    },
    {
     "name": "stdout",
     "output_type": "stream",
     "text": [
      "                   all        754        950      0.663      0.746       0.74      0.461\n"
     ]
    },
    {
     "name": "stderr",
     "output_type": "stream",
     "text": [
      "\n"
     ]
    },
    {
     "name": "stdout",
     "output_type": "stream",
     "text": [
      "\n",
      "      Epoch    GPU_mem   box_loss   cls_loss   dfl_loss  Instances       Size\n"
     ]
    },
    {
     "name": "stderr",
     "output_type": "stream",
     "text": [
      "      15/50      2.44G      1.294      1.165      1.363         31        640: 100%|██████████| 63/63 [00:11<00:00,  5.58it/s]\n",
      "                 Class     Images  Instances      Box(P          R      mAP50  mAP50-95): 100%|██████████| 24/24 [00:04<00:00,  5.97it/s]"
     ]
    },
    {
     "name": "stdout",
     "output_type": "stream",
     "text": [
      "                   all        754        950      0.795      0.679      0.758      0.462\n"
     ]
    },
    {
     "name": "stderr",
     "output_type": "stream",
     "text": [
      "\n"
     ]
    },
    {
     "name": "stdout",
     "output_type": "stream",
     "text": [
      "\n",
      "      Epoch    GPU_mem   box_loss   cls_loss   dfl_loss  Instances       Size\n"
     ]
    },
    {
     "name": "stderr",
     "output_type": "stream",
     "text": [
      "      16/50      2.44G      1.262      1.173      1.331         28        640: 100%|██████████| 63/63 [00:11<00:00,  5.57it/s]\n",
      "                 Class     Images  Instances      Box(P          R      mAP50  mAP50-95): 100%|██████████| 24/24 [00:03<00:00,  6.01it/s]"
     ]
    },
    {
     "name": "stdout",
     "output_type": "stream",
     "text": [
      "                   all        754        950      0.695      0.619      0.693      0.412\n"
     ]
    },
    {
     "name": "stderr",
     "output_type": "stream",
     "text": [
      "\n"
     ]
    },
    {
     "name": "stdout",
     "output_type": "stream",
     "text": [
      "\n",
      "      Epoch    GPU_mem   box_loss   cls_loss   dfl_loss  Instances       Size\n"
     ]
    },
    {
     "name": "stderr",
     "output_type": "stream",
     "text": [
      "      17/50      2.44G      1.241      1.119      1.316         34        640: 100%|██████████| 63/63 [00:11<00:00,  5.58it/s]\n",
      "                 Class     Images  Instances      Box(P          R      mAP50  mAP50-95): 100%|██████████| 24/24 [00:03<00:00,  6.09it/s]"
     ]
    },
    {
     "name": "stdout",
     "output_type": "stream",
     "text": [
      "                   all        754        950      0.851      0.706      0.829       0.55\n"
     ]
    },
    {
     "name": "stderr",
     "output_type": "stream",
     "text": [
      "\n"
     ]
    },
    {
     "name": "stdout",
     "output_type": "stream",
     "text": [
      "\n",
      "      Epoch    GPU_mem   box_loss   cls_loss   dfl_loss  Instances       Size\n"
     ]
    },
    {
     "name": "stderr",
     "output_type": "stream",
     "text": [
      "      18/50      2.44G      1.206      1.091      1.307         42        640: 100%|██████████| 63/63 [00:11<00:00,  5.54it/s]\n",
      "                 Class     Images  Instances      Box(P          R      mAP50  mAP50-95): 100%|██████████| 24/24 [00:03<00:00,  6.06it/s]"
     ]
    },
    {
     "name": "stdout",
     "output_type": "stream",
     "text": [
      "                   all        754        950      0.843      0.734      0.827      0.562\n"
     ]
    },
    {
     "name": "stderr",
     "output_type": "stream",
     "text": [
      "\n"
     ]
    },
    {
     "name": "stdout",
     "output_type": "stream",
     "text": [
      "\n",
      "      Epoch    GPU_mem   box_loss   cls_loss   dfl_loss  Instances       Size\n"
     ]
    },
    {
     "name": "stderr",
     "output_type": "stream",
     "text": [
      "      19/50      2.44G      1.186      1.069      1.286         23        640: 100%|██████████| 63/63 [00:11<00:00,  5.58it/s]\n",
      "                 Class     Images  Instances      Box(P          R      mAP50  mAP50-95): 100%|██████████| 24/24 [00:04<00:00,  5.89it/s]"
     ]
    },
    {
     "name": "stdout",
     "output_type": "stream",
     "text": [
      "                   all        754        950      0.799      0.757      0.814      0.509\n"
     ]
    },
    {
     "name": "stderr",
     "output_type": "stream",
     "text": [
      "\n"
     ]
    },
    {
     "name": "stdout",
     "output_type": "stream",
     "text": [
      "\n",
      "      Epoch    GPU_mem   box_loss   cls_loss   dfl_loss  Instances       Size\n"
     ]
    },
    {
     "name": "stderr",
     "output_type": "stream",
     "text": [
      "      20/50      2.44G      1.162      1.037      1.274         33        640: 100%|██████████| 63/63 [00:11<00:00,  5.56it/s]\n",
      "                 Class     Images  Instances      Box(P          R      mAP50  mAP50-95): 100%|██████████| 24/24 [00:03<00:00,  6.04it/s]"
     ]
    },
    {
     "name": "stdout",
     "output_type": "stream",
     "text": [
      "                   all        754        950      0.748      0.754      0.819      0.521\n"
     ]
    },
    {
     "name": "stderr",
     "output_type": "stream",
     "text": [
      "\n"
     ]
    },
    {
     "name": "stdout",
     "output_type": "stream",
     "text": [
      "\n",
      "      Epoch    GPU_mem   box_loss   cls_loss   dfl_loss  Instances       Size\n"
     ]
    },
    {
     "name": "stderr",
     "output_type": "stream",
     "text": [
      "      21/50      2.44G      1.202      1.074       1.29         38        640: 100%|██████████| 63/63 [00:11<00:00,  5.61it/s]\n",
      "                 Class     Images  Instances      Box(P          R      mAP50  mAP50-95): 100%|██████████| 24/24 [00:04<00:00,  5.98it/s]"
     ]
    },
    {
     "name": "stdout",
     "output_type": "stream",
     "text": [
      "                   all        754        950      0.833      0.703      0.804      0.515\n"
     ]
    },
    {
     "name": "stderr",
     "output_type": "stream",
     "text": [
      "\n"
     ]
    },
    {
     "name": "stdout",
     "output_type": "stream",
     "text": [
      "\n",
      "      Epoch    GPU_mem   box_loss   cls_loss   dfl_loss  Instances       Size\n"
     ]
    },
    {
     "name": "stderr",
     "output_type": "stream",
     "text": [
      "      22/50      2.44G      1.165      1.037      1.263         32        640: 100%|██████████| 63/63 [00:11<00:00,  5.55it/s]\n",
      "                 Class     Images  Instances      Box(P          R      mAP50  mAP50-95): 100%|██████████| 24/24 [00:04<00:00,  5.93it/s]"
     ]
    },
    {
     "name": "stdout",
     "output_type": "stream",
     "text": [
      "                   all        754        950      0.843      0.754      0.864       0.58\n"
     ]
    },
    {
     "name": "stderr",
     "output_type": "stream",
     "text": [
      "\n"
     ]
    },
    {
     "name": "stdout",
     "output_type": "stream",
     "text": [
      "\n",
      "      Epoch    GPU_mem   box_loss   cls_loss   dfl_loss  Instances       Size\n"
     ]
    },
    {
     "name": "stderr",
     "output_type": "stream",
     "text": [
      "      23/50      2.44G      1.148      1.017      1.267         23        640: 100%|██████████| 63/63 [00:11<00:00,  5.57it/s]\n",
      "                 Class     Images  Instances      Box(P          R      mAP50  mAP50-95): 100%|██████████| 24/24 [00:03<00:00,  6.02it/s]"
     ]
    },
    {
     "name": "stdout",
     "output_type": "stream",
     "text": [
      "                   all        754        950      0.813       0.74      0.787       0.52\n"
     ]
    },
    {
     "name": "stderr",
     "output_type": "stream",
     "text": [
      "\n"
     ]
    },
    {
     "name": "stdout",
     "output_type": "stream",
     "text": [
      "\n",
      "      Epoch    GPU_mem   box_loss   cls_loss   dfl_loss  Instances       Size\n"
     ]
    },
    {
     "name": "stderr",
     "output_type": "stream",
     "text": [
      "      24/50      2.44G      1.136      1.025      1.257         32        640: 100%|██████████| 63/63 [00:11<00:00,  5.58it/s]\n",
      "                 Class     Images  Instances      Box(P          R      mAP50  mAP50-95): 100%|██████████| 24/24 [00:04<00:00,  5.84it/s]"
     ]
    },
    {
     "name": "stdout",
     "output_type": "stream",
     "text": [
      "                   all        754        950      0.858      0.727       0.82      0.575\n"
     ]
    },
    {
     "name": "stderr",
     "output_type": "stream",
     "text": [
      "\n"
     ]
    },
    {
     "name": "stdout",
     "output_type": "stream",
     "text": [
      "\n",
      "      Epoch    GPU_mem   box_loss   cls_loss   dfl_loss  Instances       Size\n"
     ]
    },
    {
     "name": "stderr",
     "output_type": "stream",
     "text": [
      "      25/50      2.44G      1.157      0.993      1.269         38        640: 100%|██████████| 63/63 [00:11<00:00,  5.56it/s]\n",
      "                 Class     Images  Instances      Box(P          R      mAP50  mAP50-95): 100%|██████████| 24/24 [00:04<00:00,  5.96it/s]"
     ]
    },
    {
     "name": "stdout",
     "output_type": "stream",
     "text": [
      "                   all        754        950      0.839       0.76      0.844      0.562\n"
     ]
    },
    {
     "name": "stderr",
     "output_type": "stream",
     "text": [
      "\n"
     ]
    },
    {
     "name": "stdout",
     "output_type": "stream",
     "text": [
      "\n",
      "      Epoch    GPU_mem   box_loss   cls_loss   dfl_loss  Instances       Size\n"
     ]
    },
    {
     "name": "stderr",
     "output_type": "stream",
     "text": [
      "      26/50      2.44G      1.101     0.9496      1.226         27        640: 100%|██████████| 63/63 [00:11<00:00,  5.58it/s]\n",
      "                 Class     Images  Instances      Box(P          R      mAP50  mAP50-95): 100%|██████████| 24/24 [00:04<00:00,  5.67it/s]"
     ]
    },
    {
     "name": "stdout",
     "output_type": "stream",
     "text": [
      "                   all        754        950      0.847      0.748       0.85      0.581\n"
     ]
    },
    {
     "name": "stderr",
     "output_type": "stream",
     "text": [
      "\n"
     ]
    },
    {
     "name": "stdout",
     "output_type": "stream",
     "text": [
      "\n",
      "      Epoch    GPU_mem   box_loss   cls_loss   dfl_loss  Instances       Size\n"
     ]
    },
    {
     "name": "stderr",
     "output_type": "stream",
     "text": [
      "      27/50      2.44G      1.117     0.9594      1.242         30        640: 100%|██████████| 63/63 [00:11<00:00,  5.58it/s]\n",
      "                 Class     Images  Instances      Box(P          R      mAP50  mAP50-95): 100%|██████████| 24/24 [00:03<00:00,  6.04it/s]"
     ]
    },
    {
     "name": "stdout",
     "output_type": "stream",
     "text": [
      "                   all        754        950      0.851      0.722      0.836       0.57\n"
     ]
    },
    {
     "name": "stderr",
     "output_type": "stream",
     "text": [
      "\n"
     ]
    },
    {
     "name": "stdout",
     "output_type": "stream",
     "text": [
      "\n",
      "      Epoch    GPU_mem   box_loss   cls_loss   dfl_loss  Instances       Size\n"
     ]
    },
    {
     "name": "stderr",
     "output_type": "stream",
     "text": [
      "      28/50      2.44G      1.098     0.9592      1.231         45        640: 100%|██████████| 63/63 [00:11<00:00,  5.62it/s]\n",
      "                 Class     Images  Instances      Box(P          R      mAP50  mAP50-95): 100%|██████████| 24/24 [00:04<00:00,  5.78it/s]"
     ]
    },
    {
     "name": "stdout",
     "output_type": "stream",
     "text": [
      "                   all        754        950      0.899      0.761      0.881      0.604\n"
     ]
    },
    {
     "name": "stderr",
     "output_type": "stream",
     "text": [
      "\n"
     ]
    },
    {
     "name": "stdout",
     "output_type": "stream",
     "text": [
      "\n",
      "      Epoch    GPU_mem   box_loss   cls_loss   dfl_loss  Instances       Size\n"
     ]
    },
    {
     "name": "stderr",
     "output_type": "stream",
     "text": [
      "      29/50      2.44G      1.092      0.918      1.229         29        640: 100%|██████████| 63/63 [00:11<00:00,  5.61it/s]\n",
      "                 Class     Images  Instances      Box(P          R      mAP50  mAP50-95): 100%|██████████| 24/24 [00:03<00:00,  6.13it/s]"
     ]
    },
    {
     "name": "stdout",
     "output_type": "stream",
     "text": [
      "                   all        754        950      0.853      0.773      0.871      0.604\n"
     ]
    },
    {
     "name": "stderr",
     "output_type": "stream",
     "text": [
      "\n"
     ]
    },
    {
     "name": "stdout",
     "output_type": "stream",
     "text": [
      "\n",
      "      Epoch    GPU_mem   box_loss   cls_loss   dfl_loss  Instances       Size\n"
     ]
    },
    {
     "name": "stderr",
     "output_type": "stream",
     "text": [
      "      30/50      2.44G      1.083     0.9355      1.224         25        640: 100%|██████████| 63/63 [00:11<00:00,  5.56it/s]\n",
      "                 Class     Images  Instances      Box(P          R      mAP50  mAP50-95): 100%|██████████| 24/24 [00:04<00:00,  5.73it/s]"
     ]
    },
    {
     "name": "stdout",
     "output_type": "stream",
     "text": [
      "                   all        754        950      0.883      0.795      0.892      0.622\n"
     ]
    },
    {
     "name": "stderr",
     "output_type": "stream",
     "text": [
      "\n"
     ]
    },
    {
     "name": "stdout",
     "output_type": "stream",
     "text": [
      "\n",
      "      Epoch    GPU_mem   box_loss   cls_loss   dfl_loss  Instances       Size\n"
     ]
    },
    {
     "name": "stderr",
     "output_type": "stream",
     "text": [
      "      31/50      2.44G      1.075     0.8802       1.23         30        640: 100%|██████████| 63/63 [00:11<00:00,  5.59it/s]\n",
      "                 Class     Images  Instances      Box(P          R      mAP50  mAP50-95): 100%|██████████| 24/24 [00:03<00:00,  6.08it/s]"
     ]
    },
    {
     "name": "stdout",
     "output_type": "stream",
     "text": [
      "                   all        754        950      0.814      0.755      0.835      0.569\n"
     ]
    },
    {
     "name": "stderr",
     "output_type": "stream",
     "text": [
      "\n"
     ]
    },
    {
     "name": "stdout",
     "output_type": "stream",
     "text": [
      "\n",
      "      Epoch    GPU_mem   box_loss   cls_loss   dfl_loss  Instances       Size\n"
     ]
    },
    {
     "name": "stderr",
     "output_type": "stream",
     "text": [
      "      32/50      2.44G      1.044     0.8762      1.202         32        640: 100%|██████████| 63/63 [00:11<00:00,  5.59it/s]\n",
      "                 Class     Images  Instances      Box(P          R      mAP50  mAP50-95): 100%|██████████| 24/24 [00:04<00:00,  5.92it/s]"
     ]
    },
    {
     "name": "stdout",
     "output_type": "stream",
     "text": [
      "                   all        754        950      0.873      0.792      0.889      0.634\n"
     ]
    },
    {
     "name": "stderr",
     "output_type": "stream",
     "text": [
      "\n"
     ]
    },
    {
     "name": "stdout",
     "output_type": "stream",
     "text": [
      "\n",
      "      Epoch    GPU_mem   box_loss   cls_loss   dfl_loss  Instances       Size\n"
     ]
    },
    {
     "name": "stderr",
     "output_type": "stream",
     "text": [
      "      33/50      2.44G      1.031       0.85      1.182         30        640: 100%|██████████| 63/63 [00:11<00:00,  5.55it/s]\n",
      "                 Class     Images  Instances      Box(P          R      mAP50  mAP50-95): 100%|██████████| 24/24 [00:03<00:00,  6.14it/s]"
     ]
    },
    {
     "name": "stdout",
     "output_type": "stream",
     "text": [
      "                   all        754        950      0.892      0.796      0.893      0.613\n"
     ]
    },
    {
     "name": "stderr",
     "output_type": "stream",
     "text": [
      "\n"
     ]
    },
    {
     "name": "stdout",
     "output_type": "stream",
     "text": [
      "\n",
      "      Epoch    GPU_mem   box_loss   cls_loss   dfl_loss  Instances       Size\n"
     ]
    },
    {
     "name": "stderr",
     "output_type": "stream",
     "text": [
      "      34/50      2.44G      1.023     0.8531      1.192         26        640: 100%|██████████| 63/63 [00:11<00:00,  5.57it/s]\n",
      "                 Class     Images  Instances      Box(P          R      mAP50  mAP50-95): 100%|██████████| 24/24 [00:03<00:00,  6.08it/s]"
     ]
    },
    {
     "name": "stdout",
     "output_type": "stream",
     "text": [
      "                   all        754        950      0.903      0.805      0.901      0.616\n"
     ]
    },
    {
     "name": "stderr",
     "output_type": "stream",
     "text": [
      "\n"
     ]
    },
    {
     "name": "stdout",
     "output_type": "stream",
     "text": [
      "\n",
      "      Epoch    GPU_mem   box_loss   cls_loss   dfl_loss  Instances       Size\n"
     ]
    },
    {
     "name": "stderr",
     "output_type": "stream",
     "text": [
      "      35/50      2.44G      1.006     0.8013      1.167         30        640: 100%|██████████| 63/63 [00:11<00:00,  5.51it/s]\n",
      "                 Class     Images  Instances      Box(P          R      mAP50  mAP50-95): 100%|██████████| 24/24 [00:03<00:00,  6.12it/s]"
     ]
    },
    {
     "name": "stdout",
     "output_type": "stream",
     "text": [
      "                   all        754        950      0.886        0.8      0.894      0.622\n"
     ]
    },
    {
     "name": "stderr",
     "output_type": "stream",
     "text": [
      "\n"
     ]
    },
    {
     "name": "stdout",
     "output_type": "stream",
     "text": [
      "\n",
      "      Epoch    GPU_mem   box_loss   cls_loss   dfl_loss  Instances       Size\n"
     ]
    },
    {
     "name": "stderr",
     "output_type": "stream",
     "text": [
      "      36/50      2.44G      1.012      0.817      1.187         19        640: 100%|██████████| 63/63 [00:11<00:00,  5.58it/s]\n",
      "                 Class     Images  Instances      Box(P          R      mAP50  mAP50-95): 100%|██████████| 24/24 [00:04<00:00,  5.95it/s]"
     ]
    },
    {
     "name": "stdout",
     "output_type": "stream",
     "text": [
      "                   all        754        950      0.906      0.752      0.877      0.621\n"
     ]
    },
    {
     "name": "stderr",
     "output_type": "stream",
     "text": [
      "\n"
     ]
    },
    {
     "name": "stdout",
     "output_type": "stream",
     "text": [
      "\n",
      "      Epoch    GPU_mem   box_loss   cls_loss   dfl_loss  Instances       Size\n"
     ]
    },
    {
     "name": "stderr",
     "output_type": "stream",
     "text": [
      "      37/50      2.44G     0.9865     0.8112      1.178         30        640: 100%|██████████| 63/63 [00:11<00:00,  5.50it/s]\n",
      "                 Class     Images  Instances      Box(P          R      mAP50  mAP50-95): 100%|██████████| 24/24 [00:04<00:00,  5.93it/s]"
     ]
    },
    {
     "name": "stdout",
     "output_type": "stream",
     "text": [
      "                   all        754        950      0.817      0.808       0.88      0.611\n"
     ]
    },
    {
     "name": "stderr",
     "output_type": "stream",
     "text": [
      "\n"
     ]
    },
    {
     "name": "stdout",
     "output_type": "stream",
     "text": [
      "\n",
      "      Epoch    GPU_mem   box_loss   cls_loss   dfl_loss  Instances       Size\n"
     ]
    },
    {
     "name": "stderr",
     "output_type": "stream",
     "text": [
      "      38/50      2.44G     0.9952     0.8082      1.171         36        640: 100%|██████████| 63/63 [00:11<00:00,  5.53it/s]\n",
      "                 Class     Images  Instances      Box(P          R      mAP50  mAP50-95): 100%|██████████| 24/24 [00:03<00:00,  6.07it/s]"
     ]
    },
    {
     "name": "stdout",
     "output_type": "stream",
     "text": [
      "                   all        754        950      0.929      0.775      0.886      0.635\n"
     ]
    },
    {
     "name": "stderr",
     "output_type": "stream",
     "text": [
      "\n"
     ]
    },
    {
     "name": "stdout",
     "output_type": "stream",
     "text": [
      "\n",
      "      Epoch    GPU_mem   box_loss   cls_loss   dfl_loss  Instances       Size\n"
     ]
    },
    {
     "name": "stderr",
     "output_type": "stream",
     "text": [
      "      39/50      2.44G      1.002     0.8044      1.174         23        640: 100%|██████████| 63/63 [00:11<00:00,  5.50it/s]\n",
      "                 Class     Images  Instances      Box(P          R      mAP50  mAP50-95): 100%|██████████| 24/24 [00:03<00:00,  6.10it/s]"
     ]
    },
    {
     "name": "stdout",
     "output_type": "stream",
     "text": [
      "                   all        754        950      0.887      0.777      0.892      0.635\n"
     ]
    },
    {
     "name": "stderr",
     "output_type": "stream",
     "text": [
      "\n"
     ]
    },
    {
     "name": "stdout",
     "output_type": "stream",
     "text": [
      "\n",
      "      Epoch    GPU_mem   box_loss   cls_loss   dfl_loss  Instances       Size\n"
     ]
    },
    {
     "name": "stderr",
     "output_type": "stream",
     "text": [
      "      40/50      2.44G     0.9992     0.7953      1.171         40        640: 100%|██████████| 63/63 [00:11<00:00,  5.57it/s]\n",
      "                 Class     Images  Instances      Box(P          R      mAP50  mAP50-95): 100%|██████████| 24/24 [00:03<00:00,  6.06it/s]"
     ]
    },
    {
     "name": "stdout",
     "output_type": "stream",
     "text": [
      "                   all        754        950       0.89      0.781      0.885      0.641\n"
     ]
    },
    {
     "name": "stderr",
     "output_type": "stream",
     "text": [
      "\n"
     ]
    },
    {
     "name": "stdout",
     "output_type": "stream",
     "text": [
      "Closing dataloader mosaic\n",
      "\u001b[34m\u001b[1malbumentations: \u001b[0mBlur(p=0.01, blur_limit=(3, 7)), MedianBlur(p=0.01, blur_limit=(3, 7)), ToGray(p=0.01, num_output_channels=3, method='weighted_average'), CLAHE(p=0.01, clip_limit=(1.0, 4.0), tile_grid_size=(8, 8))\n",
      "\n",
      "      Epoch    GPU_mem   box_loss   cls_loss   dfl_loss  Instances       Size\n"
     ]
    },
    {
     "name": "stderr",
     "output_type": "stream",
     "text": [
      "      41/50      2.44G     0.9201     0.6731      1.117         16        640: 100%|██████████| 63/63 [00:12<00:00,  5.09it/s]\n",
      "                 Class     Images  Instances      Box(P          R      mAP50  mAP50-95): 100%|██████████| 24/24 [00:03<00:00,  6.07it/s]"
     ]
    },
    {
     "name": "stdout",
     "output_type": "stream",
     "text": [
      "                   all        754        950      0.883      0.815      0.893      0.644\n"
     ]
    },
    {
     "name": "stderr",
     "output_type": "stream",
     "text": [
      "\n"
     ]
    },
    {
     "name": "stdout",
     "output_type": "stream",
     "text": [
      "\n",
      "      Epoch    GPU_mem   box_loss   cls_loss   dfl_loss  Instances       Size\n"
     ]
    },
    {
     "name": "stderr",
     "output_type": "stream",
     "text": [
      "      42/50      2.44G     0.8856     0.6486      1.099         16        640: 100%|██████████| 63/63 [00:11<00:00,  5.55it/s]\n",
      "                 Class     Images  Instances      Box(P          R      mAP50  mAP50-95): 100%|██████████| 24/24 [00:03<00:00,  6.17it/s]"
     ]
    },
    {
     "name": "stdout",
     "output_type": "stream",
     "text": [
      "                   all        754        950      0.881      0.773      0.881      0.638\n"
     ]
    },
    {
     "name": "stderr",
     "output_type": "stream",
     "text": [
      "\n"
     ]
    },
    {
     "name": "stdout",
     "output_type": "stream",
     "text": [
      "\n",
      "      Epoch    GPU_mem   box_loss   cls_loss   dfl_loss  Instances       Size\n"
     ]
    },
    {
     "name": "stderr",
     "output_type": "stream",
     "text": [
      "      43/50      2.44G     0.8816     0.6311      1.102         20        640: 100%|██████████| 63/63 [00:11<00:00,  5.54it/s]\n",
      "                 Class     Images  Instances      Box(P          R      mAP50  mAP50-95): 100%|██████████| 24/24 [00:03<00:00,  6.18it/s]"
     ]
    },
    {
     "name": "stdout",
     "output_type": "stream",
     "text": [
      "                   all        754        950      0.888      0.803      0.898      0.648\n"
     ]
    },
    {
     "name": "stderr",
     "output_type": "stream",
     "text": [
      "\n"
     ]
    },
    {
     "name": "stdout",
     "output_type": "stream",
     "text": [
      "\n",
      "      Epoch    GPU_mem   box_loss   cls_loss   dfl_loss  Instances       Size\n"
     ]
    },
    {
     "name": "stderr",
     "output_type": "stream",
     "text": [
      "      44/50      2.44G     0.8745     0.6014      1.086         17        640: 100%|██████████| 63/63 [00:11<00:00,  5.59it/s]\n",
      "                 Class     Images  Instances      Box(P          R      mAP50  mAP50-95): 100%|██████████| 24/24 [00:03<00:00,  6.12it/s]"
     ]
    },
    {
     "name": "stdout",
     "output_type": "stream",
     "text": [
      "                   all        754        950      0.902      0.809      0.902      0.651\n"
     ]
    },
    {
     "name": "stderr",
     "output_type": "stream",
     "text": [
      "\n"
     ]
    },
    {
     "name": "stdout",
     "output_type": "stream",
     "text": [
      "\n",
      "      Epoch    GPU_mem   box_loss   cls_loss   dfl_loss  Instances       Size\n"
     ]
    },
    {
     "name": "stderr",
     "output_type": "stream",
     "text": [
      "      45/50      2.44G     0.8552      0.609       1.07         18        640: 100%|██████████| 63/63 [00:11<00:00,  5.55it/s]\n",
      "                 Class     Images  Instances      Box(P          R      mAP50  mAP50-95): 100%|██████████| 24/24 [00:03<00:00,  6.24it/s]"
     ]
    },
    {
     "name": "stdout",
     "output_type": "stream",
     "text": [
      "                   all        754        950      0.884      0.795      0.892      0.638\n"
     ]
    },
    {
     "name": "stderr",
     "output_type": "stream",
     "text": [
      "\n"
     ]
    },
    {
     "name": "stdout",
     "output_type": "stream",
     "text": [
      "\n",
      "      Epoch    GPU_mem   box_loss   cls_loss   dfl_loss  Instances       Size\n"
     ]
    },
    {
     "name": "stderr",
     "output_type": "stream",
     "text": [
      "      46/50      2.44G     0.8235     0.5843      1.056         20        640: 100%|██████████| 63/63 [00:11<00:00,  5.59it/s]\n",
      "                 Class     Images  Instances      Box(P          R      mAP50  mAP50-95): 100%|██████████| 24/24 [00:03<00:00,  6.18it/s]"
     ]
    },
    {
     "name": "stdout",
     "output_type": "stream",
     "text": [
      "                   all        754        950      0.908      0.801       0.91      0.669\n"
     ]
    },
    {
     "name": "stderr",
     "output_type": "stream",
     "text": [
      "\n"
     ]
    },
    {
     "name": "stdout",
     "output_type": "stream",
     "text": [
      "\n",
      "      Epoch    GPU_mem   box_loss   cls_loss   dfl_loss  Instances       Size\n"
     ]
    },
    {
     "name": "stderr",
     "output_type": "stream",
     "text": [
      "      47/50      2.44G     0.8212     0.5538      1.055         19        640: 100%|██████████| 63/63 [00:11<00:00,  5.53it/s]\n",
      "                 Class     Images  Instances      Box(P          R      mAP50  mAP50-95): 100%|██████████| 24/24 [00:03<00:00,  6.10it/s]"
     ]
    },
    {
     "name": "stdout",
     "output_type": "stream",
     "text": [
      "                   all        754        950      0.902        0.8      0.904      0.655\n"
     ]
    },
    {
     "name": "stderr",
     "output_type": "stream",
     "text": [
      "\n"
     ]
    },
    {
     "name": "stdout",
     "output_type": "stream",
     "text": [
      "\n",
      "      Epoch    GPU_mem   box_loss   cls_loss   dfl_loss  Instances       Size\n"
     ]
    },
    {
     "name": "stderr",
     "output_type": "stream",
     "text": [
      "      48/50      2.44G     0.8075     0.5569      1.054         16        640: 100%|██████████| 63/63 [00:11<00:00,  5.61it/s]\n",
      "                 Class     Images  Instances      Box(P          R      mAP50  mAP50-95): 100%|██████████| 24/24 [00:03<00:00,  6.14it/s]"
     ]
    },
    {
     "name": "stdout",
     "output_type": "stream",
     "text": [
      "                   all        754        950      0.895      0.811      0.905      0.657\n"
     ]
    },
    {
     "name": "stderr",
     "output_type": "stream",
     "text": [
      "\n"
     ]
    },
    {
     "name": "stdout",
     "output_type": "stream",
     "text": [
      "\n",
      "      Epoch    GPU_mem   box_loss   cls_loss   dfl_loss  Instances       Size\n"
     ]
    },
    {
     "name": "stderr",
     "output_type": "stream",
     "text": [
      "      49/50      2.44G      0.815     0.5626      1.055         15        640: 100%|██████████| 63/63 [00:11<00:00,  5.57it/s]\n",
      "                 Class     Images  Instances      Box(P          R      mAP50  mAP50-95): 100%|██████████| 24/24 [00:03<00:00,  6.26it/s]"
     ]
    },
    {
     "name": "stdout",
     "output_type": "stream",
     "text": [
      "                   all        754        950      0.893      0.803      0.903      0.658\n"
     ]
    },
    {
     "name": "stderr",
     "output_type": "stream",
     "text": [
      "\n"
     ]
    },
    {
     "name": "stdout",
     "output_type": "stream",
     "text": [
      "\n",
      "      Epoch    GPU_mem   box_loss   cls_loss   dfl_loss  Instances       Size\n"
     ]
    },
    {
     "name": "stderr",
     "output_type": "stream",
     "text": [
      "      50/50      2.44G     0.7935     0.5434      1.043         18        640: 100%|██████████| 63/63 [00:11<00:00,  5.60it/s]\n",
      "                 Class     Images  Instances      Box(P          R      mAP50  mAP50-95): 100%|██████████| 24/24 [00:03<00:00,  6.11it/s]"
     ]
    },
    {
     "name": "stdout",
     "output_type": "stream",
     "text": [
      "                   all        754        950      0.914      0.805      0.901      0.655\n"
     ]
    },
    {
     "name": "stderr",
     "output_type": "stream",
     "text": [
      "\n"
     ]
    },
    {
     "name": "stdout",
     "output_type": "stream",
     "text": [
      "\n",
      "50 epochs completed in 0.220 hours.\n",
      "Optimizer stripped from runs/detect/train4/weights/last.pt, 6.2MB\n",
      "Optimizer stripped from runs/detect/train4/weights/best.pt, 6.2MB\n",
      "\n",
      "Validating runs/detect/train4/weights/best.pt...\n",
      "Ultralytics 8.3.88 🚀 Python-3.10.12 torch-2.5.1+cu121 CUDA:0 (Tesla P100-PCIE-16GB, 16269MiB)\n",
      "Model summary (fused): 72 layers, 3,005,843 parameters, 0 gradients, 8.1 GFLOPs\n"
     ]
    },
    {
     "name": "stderr",
     "output_type": "stream",
     "text": [
      "                 Class     Images  Instances      Box(P          R      mAP50  mAP50-95): 100%|██████████| 24/24 [00:05<00:00,  4.70it/s]\n"
     ]
    },
    {
     "name": "stdout",
     "output_type": "stream",
     "text": [
      "                   all        754        950      0.908      0.801       0.91      0.669\n"
     ]
    },
    {
     "name": "stderr",
     "output_type": "stream",
     "text": [
      "/usr/local/lib/python3.10/dist-packages/matplotlib/colors.py:721: RuntimeWarning: invalid value encountered in less\n",
      "  xa[xa < 0] = -1\n",
      "/usr/local/lib/python3.10/dist-packages/matplotlib/colors.py:721: RuntimeWarning: invalid value encountered in less\n",
      "  xa[xa < 0] = -1\n"
     ]
    },
    {
     "name": "stdout",
     "output_type": "stream",
     "text": [
      "Speed: 0.2ms preprocess, 1.9ms inference, 0.0ms loss, 1.1ms postprocess per image\n",
      "Results saved to \u001b[1mruns/detect/train4\u001b[0m\n"
     ]
    },
    {
     "data": {
      "text/plain": [
       "ultralytics.utils.metrics.DetMetrics object with attributes:\n",
       "\n",
       "ap_class_index: array([0])\n",
       "box: ultralytics.utils.metrics.Metric object\n",
       "confusion_matrix: <ultralytics.utils.metrics.ConfusionMatrix object at 0x7ad6bea22a40>\n",
       "curves: ['Precision-Recall(B)', 'F1-Confidence(B)', 'Precision-Confidence(B)', 'Recall-Confidence(B)']\n",
       "curves_results: [[array([          0,    0.001001,    0.002002,    0.003003,    0.004004,    0.005005,    0.006006,    0.007007,    0.008008,    0.009009,     0.01001,    0.011011,    0.012012,    0.013013,    0.014014,    0.015015,    0.016016,    0.017017,    0.018018,    0.019019,     0.02002,    0.021021,    0.022022,    0.023023,\n",
       "          0.024024,    0.025025,    0.026026,    0.027027,    0.028028,    0.029029,     0.03003,    0.031031,    0.032032,    0.033033,    0.034034,    0.035035,    0.036036,    0.037037,    0.038038,    0.039039,     0.04004,    0.041041,    0.042042,    0.043043,    0.044044,    0.045045,    0.046046,    0.047047,\n",
       "          0.048048,    0.049049,     0.05005,    0.051051,    0.052052,    0.053053,    0.054054,    0.055055,    0.056056,    0.057057,    0.058058,    0.059059,     0.06006,    0.061061,    0.062062,    0.063063,    0.064064,    0.065065,    0.066066,    0.067067,    0.068068,    0.069069,     0.07007,    0.071071,\n",
       "          0.072072,    0.073073,    0.074074,    0.075075,    0.076076,    0.077077,    0.078078,    0.079079,     0.08008,    0.081081,    0.082082,    0.083083,    0.084084,    0.085085,    0.086086,    0.087087,    0.088088,    0.089089,     0.09009,    0.091091,    0.092092,    0.093093,    0.094094,    0.095095,\n",
       "          0.096096,    0.097097,    0.098098,    0.099099,      0.1001,      0.1011,      0.1021,      0.1031,      0.1041,     0.10511,     0.10611,     0.10711,     0.10811,     0.10911,     0.11011,     0.11111,     0.11211,     0.11311,     0.11411,     0.11512,     0.11612,     0.11712,     0.11812,     0.11912,\n",
       "           0.12012,     0.12112,     0.12212,     0.12312,     0.12412,     0.12513,     0.12613,     0.12713,     0.12813,     0.12913,     0.13013,     0.13113,     0.13213,     0.13313,     0.13413,     0.13514,     0.13614,     0.13714,     0.13814,     0.13914,     0.14014,     0.14114,     0.14214,     0.14314,\n",
       "           0.14414,     0.14515,     0.14615,     0.14715,     0.14815,     0.14915,     0.15015,     0.15115,     0.15215,     0.15315,     0.15415,     0.15516,     0.15616,     0.15716,     0.15816,     0.15916,     0.16016,     0.16116,     0.16216,     0.16316,     0.16416,     0.16517,     0.16617,     0.16717,\n",
       "           0.16817,     0.16917,     0.17017,     0.17117,     0.17217,     0.17317,     0.17417,     0.17518,     0.17618,     0.17718,     0.17818,     0.17918,     0.18018,     0.18118,     0.18218,     0.18318,     0.18418,     0.18519,     0.18619,     0.18719,     0.18819,     0.18919,     0.19019,     0.19119,\n",
       "           0.19219,     0.19319,     0.19419,      0.1952,      0.1962,      0.1972,      0.1982,      0.1992,      0.2002,      0.2012,      0.2022,      0.2032,      0.2042,     0.20521,     0.20621,     0.20721,     0.20821,     0.20921,     0.21021,     0.21121,     0.21221,     0.21321,     0.21421,     0.21522,\n",
       "           0.21622,     0.21722,     0.21822,     0.21922,     0.22022,     0.22122,     0.22222,     0.22322,     0.22422,     0.22523,     0.22623,     0.22723,     0.22823,     0.22923,     0.23023,     0.23123,     0.23223,     0.23323,     0.23423,     0.23524,     0.23624,     0.23724,     0.23824,     0.23924,\n",
       "           0.24024,     0.24124,     0.24224,     0.24324,     0.24424,     0.24525,     0.24625,     0.24725,     0.24825,     0.24925,     0.25025,     0.25125,     0.25225,     0.25325,     0.25425,     0.25526,     0.25626,     0.25726,     0.25826,     0.25926,     0.26026,     0.26126,     0.26226,     0.26326,\n",
       "           0.26426,     0.26527,     0.26627,     0.26727,     0.26827,     0.26927,     0.27027,     0.27127,     0.27227,     0.27327,     0.27427,     0.27528,     0.27628,     0.27728,     0.27828,     0.27928,     0.28028,     0.28128,     0.28228,     0.28328,     0.28428,     0.28529,     0.28629,     0.28729,\n",
       "           0.28829,     0.28929,     0.29029,     0.29129,     0.29229,     0.29329,     0.29429,      0.2953,      0.2963,      0.2973,      0.2983,      0.2993,      0.3003,      0.3013,      0.3023,      0.3033,      0.3043,     0.30531,     0.30631,     0.30731,     0.30831,     0.30931,     0.31031,     0.31131,\n",
       "           0.31231,     0.31331,     0.31431,     0.31532,     0.31632,     0.31732,     0.31832,     0.31932,     0.32032,     0.32132,     0.32232,     0.32332,     0.32432,     0.32533,     0.32633,     0.32733,     0.32833,     0.32933,     0.33033,     0.33133,     0.33233,     0.33333,     0.33433,     0.33534,\n",
       "           0.33634,     0.33734,     0.33834,     0.33934,     0.34034,     0.34134,     0.34234,     0.34334,     0.34434,     0.34535,     0.34635,     0.34735,     0.34835,     0.34935,     0.35035,     0.35135,     0.35235,     0.35335,     0.35435,     0.35536,     0.35636,     0.35736,     0.35836,     0.35936,\n",
       "           0.36036,     0.36136,     0.36236,     0.36336,     0.36436,     0.36537,     0.36637,     0.36737,     0.36837,     0.36937,     0.37037,     0.37137,     0.37237,     0.37337,     0.37437,     0.37538,     0.37638,     0.37738,     0.37838,     0.37938,     0.38038,     0.38138,     0.38238,     0.38338,\n",
       "           0.38438,     0.38539,     0.38639,     0.38739,     0.38839,     0.38939,     0.39039,     0.39139,     0.39239,     0.39339,     0.39439,      0.3954,      0.3964,      0.3974,      0.3984,      0.3994,      0.4004,      0.4014,      0.4024,      0.4034,      0.4044,     0.40541,     0.40641,     0.40741,\n",
       "           0.40841,     0.40941,     0.41041,     0.41141,     0.41241,     0.41341,     0.41441,     0.41542,     0.41642,     0.41742,     0.41842,     0.41942,     0.42042,     0.42142,     0.42242,     0.42342,     0.42442,     0.42543,     0.42643,     0.42743,     0.42843,     0.42943,     0.43043,     0.43143,\n",
       "           0.43243,     0.43343,     0.43443,     0.43544,     0.43644,     0.43744,     0.43844,     0.43944,     0.44044,     0.44144,     0.44244,     0.44344,     0.44444,     0.44545,     0.44645,     0.44745,     0.44845,     0.44945,     0.45045,     0.45145,     0.45245,     0.45345,     0.45445,     0.45546,\n",
       "           0.45646,     0.45746,     0.45846,     0.45946,     0.46046,     0.46146,     0.46246,     0.46346,     0.46446,     0.46547,     0.46647,     0.46747,     0.46847,     0.46947,     0.47047,     0.47147,     0.47247,     0.47347,     0.47447,     0.47548,     0.47648,     0.47748,     0.47848,     0.47948,\n",
       "           0.48048,     0.48148,     0.48248,     0.48348,     0.48448,     0.48549,     0.48649,     0.48749,     0.48849,     0.48949,     0.49049,     0.49149,     0.49249,     0.49349,     0.49449,      0.4955,      0.4965,      0.4975,      0.4985,      0.4995,      0.5005,      0.5015,      0.5025,      0.5035,\n",
       "            0.5045,     0.50551,     0.50651,     0.50751,     0.50851,     0.50951,     0.51051,     0.51151,     0.51251,     0.51351,     0.51451,     0.51552,     0.51652,     0.51752,     0.51852,     0.51952,     0.52052,     0.52152,     0.52252,     0.52352,     0.52452,     0.52553,     0.52653,     0.52753,\n",
       "           0.52853,     0.52953,     0.53053,     0.53153,     0.53253,     0.53353,     0.53453,     0.53554,     0.53654,     0.53754,     0.53854,     0.53954,     0.54054,     0.54154,     0.54254,     0.54354,     0.54454,     0.54555,     0.54655,     0.54755,     0.54855,     0.54955,     0.55055,     0.55155,\n",
       "           0.55255,     0.55355,     0.55455,     0.55556,     0.55656,     0.55756,     0.55856,     0.55956,     0.56056,     0.56156,     0.56256,     0.56356,     0.56456,     0.56557,     0.56657,     0.56757,     0.56857,     0.56957,     0.57057,     0.57157,     0.57257,     0.57357,     0.57457,     0.57558,\n",
       "           0.57658,     0.57758,     0.57858,     0.57958,     0.58058,     0.58158,     0.58258,     0.58358,     0.58458,     0.58559,     0.58659,     0.58759,     0.58859,     0.58959,     0.59059,     0.59159,     0.59259,     0.59359,     0.59459,      0.5956,      0.5966,      0.5976,      0.5986,      0.5996,\n",
       "            0.6006,      0.6016,      0.6026,      0.6036,      0.6046,     0.60561,     0.60661,     0.60761,     0.60861,     0.60961,     0.61061,     0.61161,     0.61261,     0.61361,     0.61461,     0.61562,     0.61662,     0.61762,     0.61862,     0.61962,     0.62062,     0.62162,     0.62262,     0.62362,\n",
       "           0.62462,     0.62563,     0.62663,     0.62763,     0.62863,     0.62963,     0.63063,     0.63163,     0.63263,     0.63363,     0.63463,     0.63564,     0.63664,     0.63764,     0.63864,     0.63964,     0.64064,     0.64164,     0.64264,     0.64364,     0.64464,     0.64565,     0.64665,     0.64765,\n",
       "           0.64865,     0.64965,     0.65065,     0.65165,     0.65265,     0.65365,     0.65465,     0.65566,     0.65666,     0.65766,     0.65866,     0.65966,     0.66066,     0.66166,     0.66266,     0.66366,     0.66466,     0.66567,     0.66667,     0.66767,     0.66867,     0.66967,     0.67067,     0.67167,\n",
       "           0.67267,     0.67367,     0.67467,     0.67568,     0.67668,     0.67768,     0.67868,     0.67968,     0.68068,     0.68168,     0.68268,     0.68368,     0.68468,     0.68569,     0.68669,     0.68769,     0.68869,     0.68969,     0.69069,     0.69169,     0.69269,     0.69369,     0.69469,      0.6957,\n",
       "            0.6967,      0.6977,      0.6987,      0.6997,      0.7007,      0.7017,      0.7027,      0.7037,      0.7047,     0.70571,     0.70671,     0.70771,     0.70871,     0.70971,     0.71071,     0.71171,     0.71271,     0.71371,     0.71471,     0.71572,     0.71672,     0.71772,     0.71872,     0.71972,\n",
       "           0.72072,     0.72172,     0.72272,     0.72372,     0.72472,     0.72573,     0.72673,     0.72773,     0.72873,     0.72973,     0.73073,     0.73173,     0.73273,     0.73373,     0.73473,     0.73574,     0.73674,     0.73774,     0.73874,     0.73974,     0.74074,     0.74174,     0.74274,     0.74374,\n",
       "           0.74474,     0.74575,     0.74675,     0.74775,     0.74875,     0.74975,     0.75075,     0.75175,     0.75275,     0.75375,     0.75475,     0.75576,     0.75676,     0.75776,     0.75876,     0.75976,     0.76076,     0.76176,     0.76276,     0.76376,     0.76476,     0.76577,     0.76677,     0.76777,\n",
       "           0.76877,     0.76977,     0.77077,     0.77177,     0.77277,     0.77377,     0.77477,     0.77578,     0.77678,     0.77778,     0.77878,     0.77978,     0.78078,     0.78178,     0.78278,     0.78378,     0.78478,     0.78579,     0.78679,     0.78779,     0.78879,     0.78979,     0.79079,     0.79179,\n",
       "           0.79279,     0.79379,     0.79479,      0.7958,      0.7968,      0.7978,      0.7988,      0.7998,      0.8008,      0.8018,      0.8028,      0.8038,      0.8048,     0.80581,     0.80681,     0.80781,     0.80881,     0.80981,     0.81081,     0.81181,     0.81281,     0.81381,     0.81481,     0.81582,\n",
       "           0.81682,     0.81782,     0.81882,     0.81982,     0.82082,     0.82182,     0.82282,     0.82382,     0.82482,     0.82583,     0.82683,     0.82783,     0.82883,     0.82983,     0.83083,     0.83183,     0.83283,     0.83383,     0.83483,     0.83584,     0.83684,     0.83784,     0.83884,     0.83984,\n",
       "           0.84084,     0.84184,     0.84284,     0.84384,     0.84484,     0.84585,     0.84685,     0.84785,     0.84885,     0.84985,     0.85085,     0.85185,     0.85285,     0.85385,     0.85485,     0.85586,     0.85686,     0.85786,     0.85886,     0.85986,     0.86086,     0.86186,     0.86286,     0.86386,\n",
       "           0.86486,     0.86587,     0.86687,     0.86787,     0.86887,     0.86987,     0.87087,     0.87187,     0.87287,     0.87387,     0.87487,     0.87588,     0.87688,     0.87788,     0.87888,     0.87988,     0.88088,     0.88188,     0.88288,     0.88388,     0.88488,     0.88589,     0.88689,     0.88789,\n",
       "           0.88889,     0.88989,     0.89089,     0.89189,     0.89289,     0.89389,     0.89489,      0.8959,      0.8969,      0.8979,      0.8989,      0.8999,      0.9009,      0.9019,      0.9029,      0.9039,      0.9049,     0.90591,     0.90691,     0.90791,     0.90891,     0.90991,     0.91091,     0.91191,\n",
       "           0.91291,     0.91391,     0.91491,     0.91592,     0.91692,     0.91792,     0.91892,     0.91992,     0.92092,     0.92192,     0.92292,     0.92392,     0.92492,     0.92593,     0.92693,     0.92793,     0.92893,     0.92993,     0.93093,     0.93193,     0.93293,     0.93393,     0.93493,     0.93594,\n",
       "           0.93694,     0.93794,     0.93894,     0.93994,     0.94094,     0.94194,     0.94294,     0.94394,     0.94494,     0.94595,     0.94695,     0.94795,     0.94895,     0.94995,     0.95095,     0.95195,     0.95295,     0.95395,     0.95495,     0.95596,     0.95696,     0.95796,     0.95896,     0.95996,\n",
       "           0.96096,     0.96196,     0.96296,     0.96396,     0.96496,     0.96597,     0.96697,     0.96797,     0.96897,     0.96997,     0.97097,     0.97197,     0.97297,     0.97397,     0.97497,     0.97598,     0.97698,     0.97798,     0.97898,     0.97998,     0.98098,     0.98198,     0.98298,     0.98398,\n",
       "           0.98498,     0.98599,     0.98699,     0.98799,     0.98899,     0.98999,     0.99099,     0.99199,     0.99299,     0.99399,     0.99499,       0.996,       0.997,       0.998,       0.999,           1]), array([[          1,           1,           1,           1,           1,           1,           1,           1,           1,           1,           1,           1,           1,           1,           1,           1,           1,           1,           1,           1,           1,           1,           1,\n",
       "                  1,           1,           1,           1,           1,           1,           1,           1,           1,           1,           1,           1,           1,           1,           1,           1,           1,           1,           1,           1,           1,           1,           1,\n",
       "                  1,           1,           1,           1,           1,           1,           1,           1,           1,           1,           1,           1,           1,           1,           1,           1,           1,           1,           1,           1,           1,           1,           1,\n",
       "                  1,           1,           1,           1,           1,           1,           1,           1,           1,           1,           1,           1,           1,           1,           1,           1,           1,           1,           1,           1,           1,           1,           1,\n",
       "                  1,           1,           1,           1,           1,           1,           1,           1,           1,           1,           1,           1,           1,           1,           1,           1,           1,           1,           1,           1,           1,           1,           1,\n",
       "                  1,           1,           1,           1,           1,           1,           1,           1,           1,           1,           1,           1,           1,           1,           1,           1,           1,           1,           1,           1,           1,           1,           1,\n",
       "                  1,           1,           1,           1,           1,           1,           1,           1,           1,           1,           1,           1,           1,           1,           1,           1,           1,           1,           1,           1,           1,           1,           1,\n",
       "                  1,           1,           1,           1,           1,           1,           1,           1,           1,           1,           1,           1,           1,           1,           1,           1,           1,           1,           1,           1,           1,           1,           1,\n",
       "                  1,           1,           1,           1,           1,           1,           1,           1,           1,           1,           1,           1,           1,           1,           1,           1,           1,           1,           1,           1,           1,           1,           1,\n",
       "                  1,           1,           1,           1,           1,           1,           1,           1,           1,           1,           1,           1,           1,           1,           1,           1,           1,           1,           1,           1,           1,           1,           1,\n",
       "                  1,           1,           1,           1,           1,           1,           1,           1,           1,           1,           1,           1,           1,           1,           1,           1,           1,           1,           1,           1,           1,           1,           1,\n",
       "                  1,           1,           1,           1,           1,           1,           1,           1,           1,           1,           1,           1,           1,           1,           1,           1,           1,           1,           1,           1,           1,           1,           1,\n",
       "                  1,           1,           1,           1,           1,           1,           1,           1,           1,           1,           1,           1,           1,           1,           1,           1,           1,           1,           1,           1,           1,           1,           1,\n",
       "                  1,           1,           1,           1,           1,           1,           1,           1,           1,           1,           1,           1,           1,           1,           1,           1,           1,           1,           1,           1,           1,           1,           1,\n",
       "                  1,           1,           1,           1,           1,           1,           1,           1,           1,           1,           1,           1,           1,           1,           1,           1,           1,           1,           1,           1,           1,           1,           1,\n",
       "                  1,           1,           1,           1,           1,           1,           1,           1,           1,           1,           1,           1,           1,           1,           1,           1,           1,           1,           1,           1,           1,           1,           1,\n",
       "                  1,           1,           1,           1,           1,           1,           1,           1,           1,           1,           1,           1,           1,           1,           1,           1,           1,           1,           1,           1,           1,           1,           1,\n",
       "                  1,           1,           1,           1,           1,           1,           1,           1,           1,           1,           1,           1,           1,           1,           1,           1,           1,           1,           1,           1,           1,           1,           1,\n",
       "                  1,           1,           1,           1,           1,           1,           1,           1,           1,           1,           1,           1,           1,           1,           1,           1,           1,           1,           1,           1,           1,           1,           1,\n",
       "                  1,           1,           1,           1,           1,           1,           1,     0.99773,     0.99773,     0.99773,     0.99773,     0.99773,     0.99773,     0.99773,     0.99773,     0.99773,     0.99773,     0.99773,     0.99773,     0.99773,     0.99773,     0.99773,     0.99773,\n",
       "            0.99773,     0.99773,     0.99773,     0.99587,     0.99587,     0.99587,     0.99587,     0.99587,     0.99587,     0.99587,     0.99587,     0.99587,     0.99587,     0.99587,     0.99587,     0.99587,     0.99587,     0.99587,     0.99587,     0.99587,     0.99587,     0.99587,     0.99587,\n",
       "            0.99587,     0.99587,     0.99587,     0.99587,     0.99587,     0.99587,     0.99587,     0.99587,     0.99587,     0.99587,     0.99587,     0.99587,     0.99587,     0.99587,     0.99587,     0.99587,     0.99587,     0.99587,     0.99587,     0.99587,     0.99587,     0.99587,     0.99587,\n",
       "            0.99587,     0.99435,     0.99435,     0.99435,     0.99435,     0.99435,     0.99435,     0.99435,     0.99435,     0.99435,     0.99435,     0.99435,     0.99435,     0.99435,     0.99435,     0.99435,     0.99435,     0.99435,     0.99435,     0.99435,     0.99435,     0.99435,     0.99435,\n",
       "            0.99435,     0.99435,     0.99435,     0.99435,     0.99435,     0.99435,     0.99435,     0.99435,     0.99435,     0.99435,     0.99435,     0.99435,     0.99435,     0.99435,     0.99435,     0.99435,     0.99435,     0.99435,     0.99435,     0.99435,     0.99435,     0.99435,     0.99435,\n",
       "            0.99435,     0.99435,     0.99435,     0.99435,     0.99254,     0.99254,     0.99254,     0.99254,     0.99093,     0.99093,     0.99093,     0.99093,     0.99093,     0.99093,     0.99093,     0.99093,     0.99093,     0.99093,     0.99093,     0.99093,     0.99093,     0.99093,     0.99093,\n",
       "            0.98919,     0.98919,     0.98919,     0.98763,     0.98763,     0.98763,     0.98763,     0.98763,     0.98763,     0.98763,     0.98763,     0.98763,     0.98763,     0.98635,     0.98635,     0.98635,     0.98635,     0.98635,     0.98635,     0.98635,     0.98635,     0.98635,     0.98635,\n",
       "            0.98635,     0.98635,     0.98635,     0.98635,     0.98635,     0.98635,     0.98635,     0.98635,     0.98635,     0.98635,     0.98477,     0.98477,     0.98477,     0.98477,     0.98477,     0.98339,     0.98339,     0.98339,     0.98339,     0.98339,     0.98339,     0.98339,     0.98339,\n",
       "            0.98339,     0.98339,     0.98191,     0.98191,     0.98191,     0.98191,     0.98191,     0.98039,     0.98039,     0.98039,      0.9794,      0.9794,      0.9794,      0.9794,      0.9794,      0.9794,      0.9794,      0.9794,      0.9794,      0.9794,      0.9794,      0.9794,      0.9794,\n",
       "             0.9794,      0.9794,      0.9794,      0.9794,      0.9794,      0.9794,     0.97823,     0.97823,     0.97823,     0.97823,     0.97823,     0.97823,     0.97823,     0.97823,     0.97823,     0.97823,     0.97823,     0.97823,     0.97682,     0.97682,     0.97682,      0.9755,      0.9755,\n",
       "             0.9755,      0.9755,      0.9755,      0.9742,      0.9742,      0.9742,      0.9742,      0.9742,      0.9742,     0.97289,     0.97289,     0.97289,     0.97289,     0.97181,     0.97181,     0.97181,     0.97181,     0.97181,     0.97181,     0.97181,     0.97181,     0.97181,     0.97054,\n",
       "            0.97054,     0.97054,     0.97054,     0.96943,     0.96943,     0.96943,     0.96943,     0.96943,     0.96943,     0.96943,     0.96943,     0.96667,     0.96547,     0.96547,     0.96547,     0.96547,     0.96434,     0.96434,     0.96434,     0.96434,     0.96434,     0.96302,     0.96186,\n",
       "            0.96186,     0.96186,     0.96186,     0.96186,     0.96067,     0.96067,     0.96067,     0.95804,     0.95718,     0.95718,     0.95718,     0.95718,     0.95718,     0.95718,     0.95718,     0.95718,     0.95592,     0.95467,     0.95342,     0.95102,     0.95102,     0.95102,     0.95102,\n",
       "             0.9498,     0.94886,     0.94886,     0.94886,     0.94886,     0.94886,       0.948,       0.948,       0.948,       0.948,       0.948,       0.948,     0.94681,     0.94452,     0.94452,     0.94452,      0.9435,      0.9435,      0.9435,      0.9435,     0.94271,     0.94271,     0.94271,\n",
       "            0.94271,     0.94271,     0.94271,     0.94156,     0.93967,     0.93967,     0.93967,     0.93967,     0.93967,     0.93967,     0.93967,     0.93854,     0.93511,     0.93511,     0.93047,     0.92938,     0.92938,      0.9283,     0.92777,     0.92777,     0.92777,     0.92777,     0.92777,\n",
       "            0.92777,     0.92777,      0.9268,      0.9268,     0.92469,     0.92469,     0.92365,      0.9227,      0.9227,     0.92054,     0.91859,     0.91859,     0.91859,     0.91425,     0.91425,     0.91325,     0.91236,     0.91236,      0.9092,     0.90844,     0.90844,     0.90844,      0.9078,\n",
       "             0.9078,      0.9078,      0.9078,     0.90684,      0.9027,      0.9007,     0.89884,     0.89884,     0.89607,     0.89607,     0.89607,     0.89607,     0.89208,     0.89118,     0.87627,     0.87346,     0.87165,     0.86986,     0.86903,     0.86534,     0.86454,     0.86199,     0.86199,\n",
       "            0.85745,     0.85498,     0.85498,     0.85054,     0.84722,     0.84722,      0.8411,     0.83949,     0.83949,     0.83789,     0.83631,     0.83299,     0.83144,     0.83144,     0.83144,     0.83144,     0.83144,     0.83144,     0.82734,     0.81994,     0.81269,     0.80819,     0.80819,\n",
       "             0.7853,      0.7853,      0.7853,     0.78324,     0.78236,     0.78236,     0.78236,     0.78236,     0.78032,     0.77905,     0.77557,     0.77286,     0.76252,     0.76252,     0.75574,     0.74435,     0.73661,     0.72393,     0.71913,     0.71441,      0.6934,      0.6934,      0.6902,\n",
       "            0.67974,     0.67669,      0.6753,      0.6753,     0.65956,     0.65931,     0.65854,     0.64264,     0.63899,     0.63043,     0.63043,     0.62509,     0.62031,     0.61832,     0.61634,     0.61304,     0.61288,     0.60442,     0.60085,     0.59817,     0.59803,     0.59789,     0.59525,\n",
       "            0.59141,     0.59141,     0.59006,      0.5859,     0.58023,     0.57856,     0.57679,     0.57679,       0.574,     0.57314,     0.57114,      0.5673,     0.56425,     0.56197,     0.56153,     0.55428,     0.55386,     0.54751,     0.54133,      0.5396,     0.53856,     0.53856,      0.5326,\n",
       "            0.53256,     0.53027,     0.52984,     0.52984,     0.52984,     0.52977,     0.52977,     0.52973,     0.52528,     0.51756,     0.51304,     0.51184,     0.51152,     0.51152,     0.51151,     0.50828,     0.50254,     0.50197,     0.50197,      0.5014,     0.50056,     0.49861,     0.49861,\n",
       "             0.4975,     0.49504,     0.49368,     0.48833,     0.48808,     0.48443,     0.48211,     0.48111,     0.48036,     0.47964,     0.47964,     0.46974,     0.46401,     0.46287,     0.45687,     0.45646,     0.45646,       0.454,     0.44716,     0.43201,     0.42605,     0.41739,      0.4124,\n",
       "            0.40863,     0.40608,     0.40608,     0.37874,     0.37874,     0.32789,     0.31431,     0.30805,     0.29429,     0.28615,     0.26718,     0.26124,     0.25775,     0.25775,     0.25471,     0.23238,     0.23056,     0.22021,     0.21773,     0.21047,     0.18779,     0.17354,     0.15814,\n",
       "            0.15006,    0.094125,    0.083667,    0.073208,     0.06275,    0.052292,    0.041833,    0.031375,    0.020917,    0.010458,           0]]), 'Recall', 'Precision'], [array([          0,    0.001001,    0.002002,    0.003003,    0.004004,    0.005005,    0.006006,    0.007007,    0.008008,    0.009009,     0.01001,    0.011011,    0.012012,    0.013013,    0.014014,    0.015015,    0.016016,    0.017017,    0.018018,    0.019019,     0.02002,    0.021021,    0.022022,    0.023023,\n",
       "          0.024024,    0.025025,    0.026026,    0.027027,    0.028028,    0.029029,     0.03003,    0.031031,    0.032032,    0.033033,    0.034034,    0.035035,    0.036036,    0.037037,    0.038038,    0.039039,     0.04004,    0.041041,    0.042042,    0.043043,    0.044044,    0.045045,    0.046046,    0.047047,\n",
       "          0.048048,    0.049049,     0.05005,    0.051051,    0.052052,    0.053053,    0.054054,    0.055055,    0.056056,    0.057057,    0.058058,    0.059059,     0.06006,    0.061061,    0.062062,    0.063063,    0.064064,    0.065065,    0.066066,    0.067067,    0.068068,    0.069069,     0.07007,    0.071071,\n",
       "          0.072072,    0.073073,    0.074074,    0.075075,    0.076076,    0.077077,    0.078078,    0.079079,     0.08008,    0.081081,    0.082082,    0.083083,    0.084084,    0.085085,    0.086086,    0.087087,    0.088088,    0.089089,     0.09009,    0.091091,    0.092092,    0.093093,    0.094094,    0.095095,\n",
       "          0.096096,    0.097097,    0.098098,    0.099099,      0.1001,      0.1011,      0.1021,      0.1031,      0.1041,     0.10511,     0.10611,     0.10711,     0.10811,     0.10911,     0.11011,     0.11111,     0.11211,     0.11311,     0.11411,     0.11512,     0.11612,     0.11712,     0.11812,     0.11912,\n",
       "           0.12012,     0.12112,     0.12212,     0.12312,     0.12412,     0.12513,     0.12613,     0.12713,     0.12813,     0.12913,     0.13013,     0.13113,     0.13213,     0.13313,     0.13413,     0.13514,     0.13614,     0.13714,     0.13814,     0.13914,     0.14014,     0.14114,     0.14214,     0.14314,\n",
       "           0.14414,     0.14515,     0.14615,     0.14715,     0.14815,     0.14915,     0.15015,     0.15115,     0.15215,     0.15315,     0.15415,     0.15516,     0.15616,     0.15716,     0.15816,     0.15916,     0.16016,     0.16116,     0.16216,     0.16316,     0.16416,     0.16517,     0.16617,     0.16717,\n",
       "           0.16817,     0.16917,     0.17017,     0.17117,     0.17217,     0.17317,     0.17417,     0.17518,     0.17618,     0.17718,     0.17818,     0.17918,     0.18018,     0.18118,     0.18218,     0.18318,     0.18418,     0.18519,     0.18619,     0.18719,     0.18819,     0.18919,     0.19019,     0.19119,\n",
       "           0.19219,     0.19319,     0.19419,      0.1952,      0.1962,      0.1972,      0.1982,      0.1992,      0.2002,      0.2012,      0.2022,      0.2032,      0.2042,     0.20521,     0.20621,     0.20721,     0.20821,     0.20921,     0.21021,     0.21121,     0.21221,     0.21321,     0.21421,     0.21522,\n",
       "           0.21622,     0.21722,     0.21822,     0.21922,     0.22022,     0.22122,     0.22222,     0.22322,     0.22422,     0.22523,     0.22623,     0.22723,     0.22823,     0.22923,     0.23023,     0.23123,     0.23223,     0.23323,     0.23423,     0.23524,     0.23624,     0.23724,     0.23824,     0.23924,\n",
       "           0.24024,     0.24124,     0.24224,     0.24324,     0.24424,     0.24525,     0.24625,     0.24725,     0.24825,     0.24925,     0.25025,     0.25125,     0.25225,     0.25325,     0.25425,     0.25526,     0.25626,     0.25726,     0.25826,     0.25926,     0.26026,     0.26126,     0.26226,     0.26326,\n",
       "           0.26426,     0.26527,     0.26627,     0.26727,     0.26827,     0.26927,     0.27027,     0.27127,     0.27227,     0.27327,     0.27427,     0.27528,     0.27628,     0.27728,     0.27828,     0.27928,     0.28028,     0.28128,     0.28228,     0.28328,     0.28428,     0.28529,     0.28629,     0.28729,\n",
       "           0.28829,     0.28929,     0.29029,     0.29129,     0.29229,     0.29329,     0.29429,      0.2953,      0.2963,      0.2973,      0.2983,      0.2993,      0.3003,      0.3013,      0.3023,      0.3033,      0.3043,     0.30531,     0.30631,     0.30731,     0.30831,     0.30931,     0.31031,     0.31131,\n",
       "           0.31231,     0.31331,     0.31431,     0.31532,     0.31632,     0.31732,     0.31832,     0.31932,     0.32032,     0.32132,     0.32232,     0.32332,     0.32432,     0.32533,     0.32633,     0.32733,     0.32833,     0.32933,     0.33033,     0.33133,     0.33233,     0.33333,     0.33433,     0.33534,\n",
       "           0.33634,     0.33734,     0.33834,     0.33934,     0.34034,     0.34134,     0.34234,     0.34334,     0.34434,     0.34535,     0.34635,     0.34735,     0.34835,     0.34935,     0.35035,     0.35135,     0.35235,     0.35335,     0.35435,     0.35536,     0.35636,     0.35736,     0.35836,     0.35936,\n",
       "           0.36036,     0.36136,     0.36236,     0.36336,     0.36436,     0.36537,     0.36637,     0.36737,     0.36837,     0.36937,     0.37037,     0.37137,     0.37237,     0.37337,     0.37437,     0.37538,     0.37638,     0.37738,     0.37838,     0.37938,     0.38038,     0.38138,     0.38238,     0.38338,\n",
       "           0.38438,     0.38539,     0.38639,     0.38739,     0.38839,     0.38939,     0.39039,     0.39139,     0.39239,     0.39339,     0.39439,      0.3954,      0.3964,      0.3974,      0.3984,      0.3994,      0.4004,      0.4014,      0.4024,      0.4034,      0.4044,     0.40541,     0.40641,     0.40741,\n",
       "           0.40841,     0.40941,     0.41041,     0.41141,     0.41241,     0.41341,     0.41441,     0.41542,     0.41642,     0.41742,     0.41842,     0.41942,     0.42042,     0.42142,     0.42242,     0.42342,     0.42442,     0.42543,     0.42643,     0.42743,     0.42843,     0.42943,     0.43043,     0.43143,\n",
       "           0.43243,     0.43343,     0.43443,     0.43544,     0.43644,     0.43744,     0.43844,     0.43944,     0.44044,     0.44144,     0.44244,     0.44344,     0.44444,     0.44545,     0.44645,     0.44745,     0.44845,     0.44945,     0.45045,     0.45145,     0.45245,     0.45345,     0.45445,     0.45546,\n",
       "           0.45646,     0.45746,     0.45846,     0.45946,     0.46046,     0.46146,     0.46246,     0.46346,     0.46446,     0.46547,     0.46647,     0.46747,     0.46847,     0.46947,     0.47047,     0.47147,     0.47247,     0.47347,     0.47447,     0.47548,     0.47648,     0.47748,     0.47848,     0.47948,\n",
       "           0.48048,     0.48148,     0.48248,     0.48348,     0.48448,     0.48549,     0.48649,     0.48749,     0.48849,     0.48949,     0.49049,     0.49149,     0.49249,     0.49349,     0.49449,      0.4955,      0.4965,      0.4975,      0.4985,      0.4995,      0.5005,      0.5015,      0.5025,      0.5035,\n",
       "            0.5045,     0.50551,     0.50651,     0.50751,     0.50851,     0.50951,     0.51051,     0.51151,     0.51251,     0.51351,     0.51451,     0.51552,     0.51652,     0.51752,     0.51852,     0.51952,     0.52052,     0.52152,     0.52252,     0.52352,     0.52452,     0.52553,     0.52653,     0.52753,\n",
       "           0.52853,     0.52953,     0.53053,     0.53153,     0.53253,     0.53353,     0.53453,     0.53554,     0.53654,     0.53754,     0.53854,     0.53954,     0.54054,     0.54154,     0.54254,     0.54354,     0.54454,     0.54555,     0.54655,     0.54755,     0.54855,     0.54955,     0.55055,     0.55155,\n",
       "           0.55255,     0.55355,     0.55455,     0.55556,     0.55656,     0.55756,     0.55856,     0.55956,     0.56056,     0.56156,     0.56256,     0.56356,     0.56456,     0.56557,     0.56657,     0.56757,     0.56857,     0.56957,     0.57057,     0.57157,     0.57257,     0.57357,     0.57457,     0.57558,\n",
       "           0.57658,     0.57758,     0.57858,     0.57958,     0.58058,     0.58158,     0.58258,     0.58358,     0.58458,     0.58559,     0.58659,     0.58759,     0.58859,     0.58959,     0.59059,     0.59159,     0.59259,     0.59359,     0.59459,      0.5956,      0.5966,      0.5976,      0.5986,      0.5996,\n",
       "            0.6006,      0.6016,      0.6026,      0.6036,      0.6046,     0.60561,     0.60661,     0.60761,     0.60861,     0.60961,     0.61061,     0.61161,     0.61261,     0.61361,     0.61461,     0.61562,     0.61662,     0.61762,     0.61862,     0.61962,     0.62062,     0.62162,     0.62262,     0.62362,\n",
       "           0.62462,     0.62563,     0.62663,     0.62763,     0.62863,     0.62963,     0.63063,     0.63163,     0.63263,     0.63363,     0.63463,     0.63564,     0.63664,     0.63764,     0.63864,     0.63964,     0.64064,     0.64164,     0.64264,     0.64364,     0.64464,     0.64565,     0.64665,     0.64765,\n",
       "           0.64865,     0.64965,     0.65065,     0.65165,     0.65265,     0.65365,     0.65465,     0.65566,     0.65666,     0.65766,     0.65866,     0.65966,     0.66066,     0.66166,     0.66266,     0.66366,     0.66466,     0.66567,     0.66667,     0.66767,     0.66867,     0.66967,     0.67067,     0.67167,\n",
       "           0.67267,     0.67367,     0.67467,     0.67568,     0.67668,     0.67768,     0.67868,     0.67968,     0.68068,     0.68168,     0.68268,     0.68368,     0.68468,     0.68569,     0.68669,     0.68769,     0.68869,     0.68969,     0.69069,     0.69169,     0.69269,     0.69369,     0.69469,      0.6957,\n",
       "            0.6967,      0.6977,      0.6987,      0.6997,      0.7007,      0.7017,      0.7027,      0.7037,      0.7047,     0.70571,     0.70671,     0.70771,     0.70871,     0.70971,     0.71071,     0.71171,     0.71271,     0.71371,     0.71471,     0.71572,     0.71672,     0.71772,     0.71872,     0.71972,\n",
       "           0.72072,     0.72172,     0.72272,     0.72372,     0.72472,     0.72573,     0.72673,     0.72773,     0.72873,     0.72973,     0.73073,     0.73173,     0.73273,     0.73373,     0.73473,     0.73574,     0.73674,     0.73774,     0.73874,     0.73974,     0.74074,     0.74174,     0.74274,     0.74374,\n",
       "           0.74474,     0.74575,     0.74675,     0.74775,     0.74875,     0.74975,     0.75075,     0.75175,     0.75275,     0.75375,     0.75475,     0.75576,     0.75676,     0.75776,     0.75876,     0.75976,     0.76076,     0.76176,     0.76276,     0.76376,     0.76476,     0.76577,     0.76677,     0.76777,\n",
       "           0.76877,     0.76977,     0.77077,     0.77177,     0.77277,     0.77377,     0.77477,     0.77578,     0.77678,     0.77778,     0.77878,     0.77978,     0.78078,     0.78178,     0.78278,     0.78378,     0.78478,     0.78579,     0.78679,     0.78779,     0.78879,     0.78979,     0.79079,     0.79179,\n",
       "           0.79279,     0.79379,     0.79479,      0.7958,      0.7968,      0.7978,      0.7988,      0.7998,      0.8008,      0.8018,      0.8028,      0.8038,      0.8048,     0.80581,     0.80681,     0.80781,     0.80881,     0.80981,     0.81081,     0.81181,     0.81281,     0.81381,     0.81481,     0.81582,\n",
       "           0.81682,     0.81782,     0.81882,     0.81982,     0.82082,     0.82182,     0.82282,     0.82382,     0.82482,     0.82583,     0.82683,     0.82783,     0.82883,     0.82983,     0.83083,     0.83183,     0.83283,     0.83383,     0.83483,     0.83584,     0.83684,     0.83784,     0.83884,     0.83984,\n",
       "           0.84084,     0.84184,     0.84284,     0.84384,     0.84484,     0.84585,     0.84685,     0.84785,     0.84885,     0.84985,     0.85085,     0.85185,     0.85285,     0.85385,     0.85485,     0.85586,     0.85686,     0.85786,     0.85886,     0.85986,     0.86086,     0.86186,     0.86286,     0.86386,\n",
       "           0.86486,     0.86587,     0.86687,     0.86787,     0.86887,     0.86987,     0.87087,     0.87187,     0.87287,     0.87387,     0.87487,     0.87588,     0.87688,     0.87788,     0.87888,     0.87988,     0.88088,     0.88188,     0.88288,     0.88388,     0.88488,     0.88589,     0.88689,     0.88789,\n",
       "           0.88889,     0.88989,     0.89089,     0.89189,     0.89289,     0.89389,     0.89489,      0.8959,      0.8969,      0.8979,      0.8989,      0.8999,      0.9009,      0.9019,      0.9029,      0.9039,      0.9049,     0.90591,     0.90691,     0.90791,     0.90891,     0.90991,     0.91091,     0.91191,\n",
       "           0.91291,     0.91391,     0.91491,     0.91592,     0.91692,     0.91792,     0.91892,     0.91992,     0.92092,     0.92192,     0.92292,     0.92392,     0.92492,     0.92593,     0.92693,     0.92793,     0.92893,     0.92993,     0.93093,     0.93193,     0.93293,     0.93393,     0.93493,     0.93594,\n",
       "           0.93694,     0.93794,     0.93894,     0.93994,     0.94094,     0.94194,     0.94294,     0.94394,     0.94494,     0.94595,     0.94695,     0.94795,     0.94895,     0.94995,     0.95095,     0.95195,     0.95295,     0.95395,     0.95495,     0.95596,     0.95696,     0.95796,     0.95896,     0.95996,\n",
       "           0.96096,     0.96196,     0.96296,     0.96396,     0.96496,     0.96597,     0.96697,     0.96797,     0.96897,     0.96997,     0.97097,     0.97197,     0.97297,     0.97397,     0.97497,     0.97598,     0.97698,     0.97798,     0.97898,     0.97998,     0.98098,     0.98198,     0.98298,     0.98398,\n",
       "           0.98498,     0.98599,     0.98699,     0.98799,     0.98899,     0.98999,     0.99099,     0.99199,     0.99299,     0.99399,     0.99499,       0.996,       0.997,       0.998,       0.999,           1]), array([[    0.17998,     0.17998,      0.2518,     0.29934,     0.33404,     0.35963,     0.37979,      0.3993,     0.41493,     0.42772,     0.44233,     0.45465,     0.46487,     0.47373,     0.48214,     0.48863,     0.49556,     0.50362,     0.51071,     0.51667,     0.52384,     0.52935,     0.53413,\n",
       "            0.53881,      0.5435,     0.54637,     0.55074,     0.55527,     0.55888,     0.56139,     0.56447,     0.56818,     0.57141,     0.57349,     0.57539,     0.57895,     0.58228,     0.58446,     0.58719,     0.58921,     0.59235,     0.59467,     0.59584,     0.59722,     0.59903,     0.60153,\n",
       "            0.60303,     0.60561,     0.60818,     0.60981,     0.61183,     0.61333,     0.61507,     0.61666,      0.6176,     0.61848,     0.62016,     0.62286,      0.6241,     0.62456,     0.62639,       0.627,      0.6291,     0.62991,     0.63246,     0.63416,     0.63467,      0.6367,     0.63799,\n",
       "            0.63826,     0.63862,     0.64087,     0.64196,     0.64426,     0.64546,     0.64751,     0.64851,     0.64934,     0.65011,     0.65152,     0.65211,     0.65226,     0.65324,     0.65396,     0.65594,     0.65771,     0.65905,     0.65938,     0.66051,     0.66102,     0.66102,     0.66122,\n",
       "            0.66224,     0.66261,      0.6638,     0.66489,     0.66502,     0.66595,     0.66701,     0.66791,     0.66941,     0.67115,     0.67157,     0.67215,     0.67274,     0.67451,     0.67391,     0.67345,     0.67376,     0.67319,     0.67412,     0.67451,     0.67586,     0.67709,     0.67847,\n",
       "            0.67876,     0.67902,      0.6793,     0.67934,     0.67997,      0.6806,     0.68045,     0.68048,     0.68123,     0.68293,     0.68331,     0.68398,     0.68499,     0.68509,     0.68545,     0.68622,     0.68718,     0.68862,     0.68952,     0.68964,     0.68995,     0.69113,     0.69182,\n",
       "             0.6923,     0.69317,     0.69402,     0.69492,     0.69526,     0.69516,     0.69528,     0.69571,     0.69661,     0.69645,     0.69666,     0.69738,     0.69822,     0.69864,     0.69841,     0.69909,     0.69969,     0.70008,     0.70106,     0.70124,      0.7009,     0.70109,     0.70178,\n",
       "            0.70214,      0.7022,     0.70269,     0.70272,      0.7033,     0.70348,     0.70375,     0.70455,     0.70368,     0.70463,     0.70517,     0.70538,     0.70614,     0.70644,     0.70734,     0.70804,      0.7087,     0.70887,      0.7093,      0.7096,     0.71038,      0.7112,       0.712,\n",
       "            0.71279,     0.71232,      0.7124,     0.71257,     0.71281,     0.71294,     0.71307,      0.7132,     0.71437,     0.71512,     0.71528,     0.71549,     0.71597,     0.71622,     0.71705,     0.71717,     0.71682,     0.71664,     0.71699,     0.71831,     0.71871,     0.71946,     0.72013,\n",
       "            0.72063,     0.72027,     0.72148,     0.72166,     0.72259,     0.72335,     0.72358,     0.72412,     0.72449,     0.72587,     0.72638,     0.72612,     0.72584,     0.72636,       0.727,     0.72728,     0.72806,     0.72863,     0.72896,     0.72897,     0.72931,     0.72973,     0.73005,\n",
       "            0.72964,     0.72987,     0.73053,     0.73099,     0.73237,     0.73303,     0.73307,      0.7339,     0.73528,     0.73572,     0.73599,      0.7358,     0.73564,     0.73549,     0.73534,     0.73583,     0.73614,     0.73658,     0.73769,     0.73849,     0.73888,     0.73966,      0.7401,\n",
       "             0.7412,     0.74123,     0.74108,     0.74199,     0.74244,     0.74306,     0.74311,     0.74389,     0.74501,     0.74606,     0.74654,     0.74692,     0.74718,      0.7475,     0.74796,     0.74839,      0.7493,     0.75051,     0.75122,     0.75153,     0.75222,     0.75263,      0.7531,\n",
       "            0.75365,     0.75345,     0.75308,     0.75349,     0.75396,      0.7552,     0.75534,     0.75593,     0.75633,     0.75691,     0.75722,     0.75764,     0.75874,     0.75966,     0.75981,     0.75995,     0.76009,     0.76023,     0.76065,     0.76121,     0.76183,     0.76231,     0.76318,\n",
       "            0.76293,      0.7637,     0.76425,     0.76506,     0.76627,     0.76648,     0.76666,      0.7668,     0.76695,      0.7681,     0.76849,     0.76955,     0.76976,     0.77127,     0.77142,     0.77199,     0.77287,     0.77301,     0.77316,     0.77288,       0.774,     0.77468,     0.77503,\n",
       "            0.77524,     0.77558,     0.77639,     0.77661,     0.77703,     0.77796,     0.77845,     0.77892,     0.77951,     0.77987,     0.78062,     0.78135,     0.78217,     0.78257,     0.78294,     0.78339,     0.78361,     0.78408,     0.78504,      0.7847,     0.78493,     0.78576,     0.78596,\n",
       "            0.78651,     0.78662,     0.78673,     0.78684,     0.78699,     0.78716,      0.7876,     0.78705,     0.78716,     0.78727,     0.78738,     0.78766,      0.7888,     0.78965,     0.78989,     0.78997,     0.79004,     0.79012,      0.7902,     0.79046,     0.79085,     0.79124,     0.79152,\n",
       "            0.79174,     0.79212,     0.79261,     0.79294,     0.79314,     0.79344,     0.79427,     0.79466,     0.79543,     0.79591,     0.79613,     0.79633,      0.7971,     0.79688,     0.79667,     0.79703,     0.79743,     0.79787,     0.79819,     0.79839,     0.79872,     0.79951,     0.80039,\n",
       "            0.80079,     0.80178,     0.80216,     0.80239,     0.80269,     0.80309,      0.8034,     0.80361,      0.8039,     0.80476,     0.80559,       0.806,      0.8064,      0.8072,       0.807,      0.8067,      0.8075,     0.80771,     0.80835,     0.80911,     0.80931,      0.8095,     0.80965,\n",
       "             0.8098,     0.81051,     0.80987,     0.80957,     0.80976,     0.81017,     0.81043,     0.81063,     0.81167,      0.8119,      0.8121,     0.81234,     0.81315,     0.81397,     0.81479,      0.8152,     0.81536,     0.81546,     0.81557,     0.81567,     0.81588,     0.81625,     0.81646,\n",
       "             0.8166,     0.81674,     0.81693,     0.81713,      0.8175,     0.81792,     0.81775,     0.81817,       0.818,     0.81823,     0.81844,     0.81858,     0.81828,     0.81709,     0.81751,     0.81787,     0.81735,     0.81775,     0.81799,     0.81843,     0.81812,     0.81708,     0.81696,\n",
       "            0.81728,     0.81749,      0.8177,     0.81791,     0.81825,     0.81937,     0.81959,     0.81994,     0.82037,     0.82101,     0.82115,     0.82129,     0.82249,     0.82418,     0.82461,     0.82504,     0.82632,     0.82675,     0.82718,     0.82762,     0.82815,     0.82826,     0.82837,\n",
       "            0.82851,     0.82892,     0.82914,     0.82815,     0.82837,     0.82863,     0.82949,     0.83036,     0.83059,     0.83028,     0.83014,     0.83036,     0.83195,      0.8323,     0.83252,     0.83314,     0.83329,     0.83344,     0.83361,     0.83358,     0.83428,     0.83443,     0.83458,\n",
       "            0.83578,     0.83623,     0.83667,     0.83696,     0.83718,      0.8368,     0.83702,     0.83743,     0.83763,     0.83777,     0.83792,     0.83858,      0.8388,     0.83851,      0.8382,     0.83757,     0.83695,     0.83579,     0.83602,     0.83613,     0.83567,     0.83612,      0.8359,\n",
       "            0.83605,      0.8362,     0.83643,     0.83688,     0.83716,     0.83767,     0.83737,     0.83759,     0.83782,     0.83805,     0.83811,     0.83798,     0.83785,     0.83773,      0.8376,     0.83813,     0.83836,     0.83803,     0.83813,     0.83858,     0.83904,     0.83949,     0.83977,\n",
       "               0.84,     0.84061,     0.84076,     0.84092,     0.83976,     0.84069,     0.84092,     0.84098,     0.84121,     0.84185,       0.842,     0.84216,     0.84249,     0.84292,      0.8426,     0.84264,     0.84279,     0.84295,     0.84318,     0.84333,     0.84349,      0.8439,     0.84416,\n",
       "             0.8444,     0.84431,     0.84367,     0.84407,     0.84454,     0.84477,     0.84482,     0.84456,     0.84431,     0.84475,     0.84491,     0.84507,     0.84543,     0.84558,     0.84571,      0.8455,     0.84528,     0.84607,     0.84589,     0.84557,     0.84594,     0.84601,     0.84694,\n",
       "            0.84691,     0.84818,     0.84946,      0.8497,     0.84994,     0.85018,     0.85042,     0.85065,     0.85105,     0.85222,     0.85317,     0.85334,     0.85318,     0.85302,     0.85286,     0.85283,     0.85307,     0.85334,     0.85366,     0.85413,     0.85461,       0.854,     0.85304,\n",
       "            0.85322,      0.8537,     0.85411,     0.85367,      0.8531,     0.85319,     0.85351,     0.85383,     0.85407,     0.85433,     0.85482,     0.85518,     0.85518,     0.85493,     0.85498,     0.85433,     0.85275,     0.85291,     0.85315,     0.85251,     0.85218,     0.85125,     0.85158,\n",
       "            0.85131,     0.85137,     0.85186,     0.85227,     0.85194,     0.85153,     0.85117,     0.85144,     0.85118,     0.85091,     0.85177,     0.85253,     0.85277,     0.85255,     0.85228,     0.85118,     0.85097,     0.85122,     0.85143,     0.85125,     0.85071,     0.84988,     0.85021,\n",
       "            0.85065,     0.84967,     0.84918,     0.84898,     0.84879,     0.84726,     0.84699,     0.84672,     0.84573,     0.84539,     0.84555,     0.84507,     0.84521,     0.84535,     0.84546,     0.84535,     0.84599,     0.84608,     0.84633,     0.84664,     0.84678,     0.84627,     0.84642,\n",
       "            0.84656,      0.8467,     0.84552,      0.8445,     0.84381,     0.84219,     0.84249,     0.84266,     0.84253,     0.84183,      0.8408,     0.84011,     0.83937,     0.83819,     0.83736,     0.83756,     0.83765,     0.83719,      0.8368,     0.83645,     0.83648,     0.83612,     0.83604,\n",
       "            0.83383,     0.83278,     0.83119,     0.83058,      0.8301,     0.82963,     0.82963,     0.82944,      0.8281,     0.82848,     0.82795,     0.82797,     0.82786,      0.8275,     0.82776,      0.8264,     0.82427,     0.82361,     0.82313,     0.82265,     0.82266,     0.82218,     0.82229,\n",
       "            0.82249,     0.82305,     0.82265,     0.82134,     0.81933,     0.81904,     0.81874,     0.81892,     0.81882,     0.81854,     0.81842,     0.81661,     0.81536,     0.81562,     0.81423,     0.81374,     0.81332,     0.81286,     0.81242,      0.8094,     0.80668,     0.80618,     0.80629,\n",
       "            0.80592,     0.80441,     0.80344,     0.80293,     0.80243,      0.8014,     0.80053,         0.8,     0.79758,     0.79792,     0.79689,     0.79611,     0.79557,     0.79531,     0.79505,     0.79373,     0.79266,     0.79181,     0.78925,     0.78845,     0.78743,      0.7864,     0.78614,\n",
       "            0.78579,      0.7849,     0.78451,     0.78387,      0.7818,     0.78146,     0.78171,     0.77967,     0.77654,      0.7744,     0.77118,     0.76945,     0.76796,     0.76754,     0.76629,     0.76522,     0.76244,     0.75849,     0.75767,     0.75711,     0.75678,     0.75451,     0.75409,\n",
       "            0.75269,     0.75002,     0.74903,     0.74489,     0.74402,     0.74338,     0.74254,     0.73977,     0.73836,      0.7375,     0.73737,     0.73587,     0.73444,     0.73334,     0.72993,     0.72786,     0.72707,     0.72655,     0.72224,     0.72102,     0.71787,     0.71562,     0.71504,\n",
       "            0.71445,     0.71173,     0.70887,       0.702,     0.70002,      0.6939,     0.69027,     0.68752,     0.68294,     0.67965,     0.67828,     0.67363,     0.66849,     0.66565,     0.66185,     0.65623,     0.65323,     0.64855,     0.64451,     0.64059,     0.63567,     0.62746,     0.62419,\n",
       "            0.62144,     0.61809,     0.61502,     0.61239,     0.61031,      0.6072,     0.59893,     0.59265,     0.58947,     0.58048,     0.57833,     0.57127,      0.5593,     0.55156,     0.54038,     0.53356,     0.52782,     0.52319,     0.51968,     0.51647,     0.51377,     0.50671,     0.50194,\n",
       "            0.49476,     0.49099,      0.4814,     0.47891,     0.47519,     0.46403,     0.45271,     0.44378,     0.43474,      0.4256,     0.41237,     0.40651,     0.39436,     0.38793,     0.37576,     0.36841,     0.35847,      0.3383,     0.33093,     0.32349,     0.31896,      0.3075,     0.30532,\n",
       "            0.29833,     0.29299,     0.28211,     0.26793,     0.25673,     0.24538,     0.23732,     0.22721,     0.22381,     0.21873,     0.20975,     0.20632,     0.19877,      0.1976,     0.19512,     0.19281,     0.18235,     0.17681,     0.16797,     0.16097,     0.15732,     0.14463,     0.14181,\n",
       "            0.13717,     0.13342,     0.12781,     0.12402,     0.11649,     0.11078,     0.10124,    0.090072,    0.085746,    0.074652,    0.073318,    0.069897,    0.066505,    0.063799,    0.059746,    0.057462,    0.054709,    0.053347,    0.051335,    0.045271,    0.042199,    0.037141,    0.036101,\n",
       "           0.035027,    0.033637,    0.028742,    0.026762,     0.02536,      0.0219,    0.019807,     0.01717,     0.01297,    0.011696,    0.010629,   0.0097427,   0.0088876,   0.0080317,   0.0071751,   0.0063177,   0.0052504,   0.0041849,   0.0034683,   0.0027512,           0,           0,           0,\n",
       "                  0,           0,           0,           0,           0,           0,           0,           0,           0,           0,           0,           0,           0,           0,           0,           0,           0,           0,           0,           0,           0,           0,           0,\n",
       "                  0,           0,           0,           0,           0,           0,           0,           0,           0,           0,           0]]), 'Confidence', 'F1'], [array([          0,    0.001001,    0.002002,    0.003003,    0.004004,    0.005005,    0.006006,    0.007007,    0.008008,    0.009009,     0.01001,    0.011011,    0.012012,    0.013013,    0.014014,    0.015015,    0.016016,    0.017017,    0.018018,    0.019019,     0.02002,    0.021021,    0.022022,    0.023023,\n",
       "          0.024024,    0.025025,    0.026026,    0.027027,    0.028028,    0.029029,     0.03003,    0.031031,    0.032032,    0.033033,    0.034034,    0.035035,    0.036036,    0.037037,    0.038038,    0.039039,     0.04004,    0.041041,    0.042042,    0.043043,    0.044044,    0.045045,    0.046046,    0.047047,\n",
       "          0.048048,    0.049049,     0.05005,    0.051051,    0.052052,    0.053053,    0.054054,    0.055055,    0.056056,    0.057057,    0.058058,    0.059059,     0.06006,    0.061061,    0.062062,    0.063063,    0.064064,    0.065065,    0.066066,    0.067067,    0.068068,    0.069069,     0.07007,    0.071071,\n",
       "          0.072072,    0.073073,    0.074074,    0.075075,    0.076076,    0.077077,    0.078078,    0.079079,     0.08008,    0.081081,    0.082082,    0.083083,    0.084084,    0.085085,    0.086086,    0.087087,    0.088088,    0.089089,     0.09009,    0.091091,    0.092092,    0.093093,    0.094094,    0.095095,\n",
       "          0.096096,    0.097097,    0.098098,    0.099099,      0.1001,      0.1011,      0.1021,      0.1031,      0.1041,     0.10511,     0.10611,     0.10711,     0.10811,     0.10911,     0.11011,     0.11111,     0.11211,     0.11311,     0.11411,     0.11512,     0.11612,     0.11712,     0.11812,     0.11912,\n",
       "           0.12012,     0.12112,     0.12212,     0.12312,     0.12412,     0.12513,     0.12613,     0.12713,     0.12813,     0.12913,     0.13013,     0.13113,     0.13213,     0.13313,     0.13413,     0.13514,     0.13614,     0.13714,     0.13814,     0.13914,     0.14014,     0.14114,     0.14214,     0.14314,\n",
       "           0.14414,     0.14515,     0.14615,     0.14715,     0.14815,     0.14915,     0.15015,     0.15115,     0.15215,     0.15315,     0.15415,     0.15516,     0.15616,     0.15716,     0.15816,     0.15916,     0.16016,     0.16116,     0.16216,     0.16316,     0.16416,     0.16517,     0.16617,     0.16717,\n",
       "           0.16817,     0.16917,     0.17017,     0.17117,     0.17217,     0.17317,     0.17417,     0.17518,     0.17618,     0.17718,     0.17818,     0.17918,     0.18018,     0.18118,     0.18218,     0.18318,     0.18418,     0.18519,     0.18619,     0.18719,     0.18819,     0.18919,     0.19019,     0.19119,\n",
       "           0.19219,     0.19319,     0.19419,      0.1952,      0.1962,      0.1972,      0.1982,      0.1992,      0.2002,      0.2012,      0.2022,      0.2032,      0.2042,     0.20521,     0.20621,     0.20721,     0.20821,     0.20921,     0.21021,     0.21121,     0.21221,     0.21321,     0.21421,     0.21522,\n",
       "           0.21622,     0.21722,     0.21822,     0.21922,     0.22022,     0.22122,     0.22222,     0.22322,     0.22422,     0.22523,     0.22623,     0.22723,     0.22823,     0.22923,     0.23023,     0.23123,     0.23223,     0.23323,     0.23423,     0.23524,     0.23624,     0.23724,     0.23824,     0.23924,\n",
       "           0.24024,     0.24124,     0.24224,     0.24324,     0.24424,     0.24525,     0.24625,     0.24725,     0.24825,     0.24925,     0.25025,     0.25125,     0.25225,     0.25325,     0.25425,     0.25526,     0.25626,     0.25726,     0.25826,     0.25926,     0.26026,     0.26126,     0.26226,     0.26326,\n",
       "           0.26426,     0.26527,     0.26627,     0.26727,     0.26827,     0.26927,     0.27027,     0.27127,     0.27227,     0.27327,     0.27427,     0.27528,     0.27628,     0.27728,     0.27828,     0.27928,     0.28028,     0.28128,     0.28228,     0.28328,     0.28428,     0.28529,     0.28629,     0.28729,\n",
       "           0.28829,     0.28929,     0.29029,     0.29129,     0.29229,     0.29329,     0.29429,      0.2953,      0.2963,      0.2973,      0.2983,      0.2993,      0.3003,      0.3013,      0.3023,      0.3033,      0.3043,     0.30531,     0.30631,     0.30731,     0.30831,     0.30931,     0.31031,     0.31131,\n",
       "           0.31231,     0.31331,     0.31431,     0.31532,     0.31632,     0.31732,     0.31832,     0.31932,     0.32032,     0.32132,     0.32232,     0.32332,     0.32432,     0.32533,     0.32633,     0.32733,     0.32833,     0.32933,     0.33033,     0.33133,     0.33233,     0.33333,     0.33433,     0.33534,\n",
       "           0.33634,     0.33734,     0.33834,     0.33934,     0.34034,     0.34134,     0.34234,     0.34334,     0.34434,     0.34535,     0.34635,     0.34735,     0.34835,     0.34935,     0.35035,     0.35135,     0.35235,     0.35335,     0.35435,     0.35536,     0.35636,     0.35736,     0.35836,     0.35936,\n",
       "           0.36036,     0.36136,     0.36236,     0.36336,     0.36436,     0.36537,     0.36637,     0.36737,     0.36837,     0.36937,     0.37037,     0.37137,     0.37237,     0.37337,     0.37437,     0.37538,     0.37638,     0.37738,     0.37838,     0.37938,     0.38038,     0.38138,     0.38238,     0.38338,\n",
       "           0.38438,     0.38539,     0.38639,     0.38739,     0.38839,     0.38939,     0.39039,     0.39139,     0.39239,     0.39339,     0.39439,      0.3954,      0.3964,      0.3974,      0.3984,      0.3994,      0.4004,      0.4014,      0.4024,      0.4034,      0.4044,     0.40541,     0.40641,     0.40741,\n",
       "           0.40841,     0.40941,     0.41041,     0.41141,     0.41241,     0.41341,     0.41441,     0.41542,     0.41642,     0.41742,     0.41842,     0.41942,     0.42042,     0.42142,     0.42242,     0.42342,     0.42442,     0.42543,     0.42643,     0.42743,     0.42843,     0.42943,     0.43043,     0.43143,\n",
       "           0.43243,     0.43343,     0.43443,     0.43544,     0.43644,     0.43744,     0.43844,     0.43944,     0.44044,     0.44144,     0.44244,     0.44344,     0.44444,     0.44545,     0.44645,     0.44745,     0.44845,     0.44945,     0.45045,     0.45145,     0.45245,     0.45345,     0.45445,     0.45546,\n",
       "           0.45646,     0.45746,     0.45846,     0.45946,     0.46046,     0.46146,     0.46246,     0.46346,     0.46446,     0.46547,     0.46647,     0.46747,     0.46847,     0.46947,     0.47047,     0.47147,     0.47247,     0.47347,     0.47447,     0.47548,     0.47648,     0.47748,     0.47848,     0.47948,\n",
       "           0.48048,     0.48148,     0.48248,     0.48348,     0.48448,     0.48549,     0.48649,     0.48749,     0.48849,     0.48949,     0.49049,     0.49149,     0.49249,     0.49349,     0.49449,      0.4955,      0.4965,      0.4975,      0.4985,      0.4995,      0.5005,      0.5015,      0.5025,      0.5035,\n",
       "            0.5045,     0.50551,     0.50651,     0.50751,     0.50851,     0.50951,     0.51051,     0.51151,     0.51251,     0.51351,     0.51451,     0.51552,     0.51652,     0.51752,     0.51852,     0.51952,     0.52052,     0.52152,     0.52252,     0.52352,     0.52452,     0.52553,     0.52653,     0.52753,\n",
       "           0.52853,     0.52953,     0.53053,     0.53153,     0.53253,     0.53353,     0.53453,     0.53554,     0.53654,     0.53754,     0.53854,     0.53954,     0.54054,     0.54154,     0.54254,     0.54354,     0.54454,     0.54555,     0.54655,     0.54755,     0.54855,     0.54955,     0.55055,     0.55155,\n",
       "           0.55255,     0.55355,     0.55455,     0.55556,     0.55656,     0.55756,     0.55856,     0.55956,     0.56056,     0.56156,     0.56256,     0.56356,     0.56456,     0.56557,     0.56657,     0.56757,     0.56857,     0.56957,     0.57057,     0.57157,     0.57257,     0.57357,     0.57457,     0.57558,\n",
       "           0.57658,     0.57758,     0.57858,     0.57958,     0.58058,     0.58158,     0.58258,     0.58358,     0.58458,     0.58559,     0.58659,     0.58759,     0.58859,     0.58959,     0.59059,     0.59159,     0.59259,     0.59359,     0.59459,      0.5956,      0.5966,      0.5976,      0.5986,      0.5996,\n",
       "            0.6006,      0.6016,      0.6026,      0.6036,      0.6046,     0.60561,     0.60661,     0.60761,     0.60861,     0.60961,     0.61061,     0.61161,     0.61261,     0.61361,     0.61461,     0.61562,     0.61662,     0.61762,     0.61862,     0.61962,     0.62062,     0.62162,     0.62262,     0.62362,\n",
       "           0.62462,     0.62563,     0.62663,     0.62763,     0.62863,     0.62963,     0.63063,     0.63163,     0.63263,     0.63363,     0.63463,     0.63564,     0.63664,     0.63764,     0.63864,     0.63964,     0.64064,     0.64164,     0.64264,     0.64364,     0.64464,     0.64565,     0.64665,     0.64765,\n",
       "           0.64865,     0.64965,     0.65065,     0.65165,     0.65265,     0.65365,     0.65465,     0.65566,     0.65666,     0.65766,     0.65866,     0.65966,     0.66066,     0.66166,     0.66266,     0.66366,     0.66466,     0.66567,     0.66667,     0.66767,     0.66867,     0.66967,     0.67067,     0.67167,\n",
       "           0.67267,     0.67367,     0.67467,     0.67568,     0.67668,     0.67768,     0.67868,     0.67968,     0.68068,     0.68168,     0.68268,     0.68368,     0.68468,     0.68569,     0.68669,     0.68769,     0.68869,     0.68969,     0.69069,     0.69169,     0.69269,     0.69369,     0.69469,      0.6957,\n",
       "            0.6967,      0.6977,      0.6987,      0.6997,      0.7007,      0.7017,      0.7027,      0.7037,      0.7047,     0.70571,     0.70671,     0.70771,     0.70871,     0.70971,     0.71071,     0.71171,     0.71271,     0.71371,     0.71471,     0.71572,     0.71672,     0.71772,     0.71872,     0.71972,\n",
       "           0.72072,     0.72172,     0.72272,     0.72372,     0.72472,     0.72573,     0.72673,     0.72773,     0.72873,     0.72973,     0.73073,     0.73173,     0.73273,     0.73373,     0.73473,     0.73574,     0.73674,     0.73774,     0.73874,     0.73974,     0.74074,     0.74174,     0.74274,     0.74374,\n",
       "           0.74474,     0.74575,     0.74675,     0.74775,     0.74875,     0.74975,     0.75075,     0.75175,     0.75275,     0.75375,     0.75475,     0.75576,     0.75676,     0.75776,     0.75876,     0.75976,     0.76076,     0.76176,     0.76276,     0.76376,     0.76476,     0.76577,     0.76677,     0.76777,\n",
       "           0.76877,     0.76977,     0.77077,     0.77177,     0.77277,     0.77377,     0.77477,     0.77578,     0.77678,     0.77778,     0.77878,     0.77978,     0.78078,     0.78178,     0.78278,     0.78378,     0.78478,     0.78579,     0.78679,     0.78779,     0.78879,     0.78979,     0.79079,     0.79179,\n",
       "           0.79279,     0.79379,     0.79479,      0.7958,      0.7968,      0.7978,      0.7988,      0.7998,      0.8008,      0.8018,      0.8028,      0.8038,      0.8048,     0.80581,     0.80681,     0.80781,     0.80881,     0.80981,     0.81081,     0.81181,     0.81281,     0.81381,     0.81481,     0.81582,\n",
       "           0.81682,     0.81782,     0.81882,     0.81982,     0.82082,     0.82182,     0.82282,     0.82382,     0.82482,     0.82583,     0.82683,     0.82783,     0.82883,     0.82983,     0.83083,     0.83183,     0.83283,     0.83383,     0.83483,     0.83584,     0.83684,     0.83784,     0.83884,     0.83984,\n",
       "           0.84084,     0.84184,     0.84284,     0.84384,     0.84484,     0.84585,     0.84685,     0.84785,     0.84885,     0.84985,     0.85085,     0.85185,     0.85285,     0.85385,     0.85485,     0.85586,     0.85686,     0.85786,     0.85886,     0.85986,     0.86086,     0.86186,     0.86286,     0.86386,\n",
       "           0.86486,     0.86587,     0.86687,     0.86787,     0.86887,     0.86987,     0.87087,     0.87187,     0.87287,     0.87387,     0.87487,     0.87588,     0.87688,     0.87788,     0.87888,     0.87988,     0.88088,     0.88188,     0.88288,     0.88388,     0.88488,     0.88589,     0.88689,     0.88789,\n",
       "           0.88889,     0.88989,     0.89089,     0.89189,     0.89289,     0.89389,     0.89489,      0.8959,      0.8969,      0.8979,      0.8989,      0.8999,      0.9009,      0.9019,      0.9029,      0.9039,      0.9049,     0.90591,     0.90691,     0.90791,     0.90891,     0.90991,     0.91091,     0.91191,\n",
       "           0.91291,     0.91391,     0.91491,     0.91592,     0.91692,     0.91792,     0.91892,     0.91992,     0.92092,     0.92192,     0.92292,     0.92392,     0.92492,     0.92593,     0.92693,     0.92793,     0.92893,     0.92993,     0.93093,     0.93193,     0.93293,     0.93393,     0.93493,     0.93594,\n",
       "           0.93694,     0.93794,     0.93894,     0.93994,     0.94094,     0.94194,     0.94294,     0.94394,     0.94494,     0.94595,     0.94695,     0.94795,     0.94895,     0.94995,     0.95095,     0.95195,     0.95295,     0.95395,     0.95495,     0.95596,     0.95696,     0.95796,     0.95896,     0.95996,\n",
       "           0.96096,     0.96196,     0.96296,     0.96396,     0.96496,     0.96597,     0.96697,     0.96797,     0.96897,     0.96997,     0.97097,     0.97197,     0.97297,     0.97397,     0.97497,     0.97598,     0.97698,     0.97798,     0.97898,     0.97998,     0.98098,     0.98198,     0.98298,     0.98398,\n",
       "           0.98498,     0.98599,     0.98699,     0.98799,     0.98899,     0.98999,     0.99099,     0.99199,     0.99299,     0.99399,     0.99499,       0.996,       0.997,       0.998,       0.999,           1]), array([[    0.09898,     0.09898,     0.14423,     0.17641,     0.20107,     0.22001,     0.23548,     0.25066,     0.26333,      0.2738,     0.28589,     0.29647,     0.30521,     0.31301,     0.32051,     0.32627,      0.3326,     0.33991,      0.3464,     0.35191,     0.35859,     0.36378,      0.3683,\n",
       "            0.37277,     0.37727,     0.38037,     0.38462,     0.38905,     0.39261,     0.39509,     0.39814,     0.40185,     0.40509,     0.40755,     0.40966,     0.41347,     0.41688,     0.41931,     0.42213,     0.42422,     0.42769,     0.43012,     0.43134,       0.433,     0.43491,     0.43755,\n",
       "            0.43913,     0.44188,     0.44461,     0.44637,     0.44876,     0.45038,     0.45225,     0.45398,     0.45523,     0.45667,      0.4585,     0.46145,     0.46283,     0.46378,     0.46585,     0.46652,     0.46885,        0.47,     0.47284,     0.47475,     0.47532,      0.4776,     0.47947,\n",
       "            0.48017,     0.48083,     0.48367,     0.48518,     0.48795,     0.48976,     0.49212,     0.49349,     0.49478,     0.49571,     0.49765,     0.49833,     0.49909,     0.50054,     0.50229,     0.50463,     0.50673,     0.50863,     0.50903,     0.51038,      0.5113,     0.51141,     0.51249,\n",
       "            0.51404,     0.51449,     0.51592,     0.51724,     0.51772,     0.51884,     0.52013,     0.52123,     0.52305,     0.52524,     0.52604,     0.52675,     0.52747,     0.52966,     0.52954,     0.52928,     0.52976,     0.53044,      0.5316,     0.53235,     0.53447,     0.53602,     0.53775,\n",
       "            0.53836,     0.53881,     0.53915,     0.53957,     0.54037,     0.54116,     0.54117,     0.54137,     0.54233,     0.54449,     0.54497,     0.54582,      0.5471,      0.5476,     0.54808,     0.54906,     0.55028,     0.55213,     0.55329,     0.55368,     0.55462,     0.55615,     0.55704,\n",
       "            0.55766,      0.5588,      0.5599,     0.56107,     0.56192,     0.56219,     0.56234,     0.56291,     0.56408,      0.5641,     0.56455,      0.5655,     0.56661,     0.56716,     0.56727,     0.56817,     0.56896,     0.56947,     0.57077,     0.57101,     0.57098,     0.57123,     0.57214,\n",
       "            0.57262,     0.57297,     0.57377,     0.57424,     0.57502,     0.57526,     0.57561,     0.57669,     0.57638,     0.57765,     0.57849,     0.57909,     0.58012,     0.58096,     0.58219,     0.58313,     0.58403,     0.58426,     0.58485,      0.5857,     0.58676,     0.58788,     0.58898,\n",
       "            0.59005,     0.58981,     0.58998,      0.5902,     0.59054,     0.59117,     0.59135,     0.59152,     0.59314,     0.59417,     0.59439,     0.59514,     0.59581,     0.59616,     0.59731,     0.59793,     0.59792,     0.59798,     0.59864,     0.60048,     0.60152,     0.60256,      0.6035,\n",
       "             0.6042,     0.60418,     0.60589,     0.60615,     0.60745,     0.60853,     0.60886,     0.60963,     0.61015,      0.6121,     0.61283,     0.61301,     0.61287,      0.6138,     0.61472,     0.61512,     0.61624,     0.61755,     0.61821,     0.61855,     0.61904,     0.61965,     0.62011,\n",
       "            0.62003,     0.62037,     0.62132,     0.62199,     0.62399,     0.62504,     0.62553,     0.62675,     0.62876,      0.6294,     0.62979,     0.63012,     0.63004,     0.62997,     0.62989,     0.63063,     0.63108,     0.63173,     0.63337,     0.63455,     0.63513,     0.63627,     0.63693,\n",
       "            0.63856,     0.63886,     0.63892,     0.64029,     0.64095,     0.64189,     0.64252,     0.64369,     0.64537,     0.64694,     0.64767,     0.64824,     0.64863,     0.64911,      0.6498,     0.65045,     0.65183,     0.65366,     0.65474,     0.65522,     0.65626,     0.65689,     0.65759,\n",
       "            0.65844,     0.65912,      0.6593,     0.65997,     0.66069,      0.6626,     0.66281,     0.66372,     0.66433,     0.66523,     0.66571,     0.66636,     0.66806,      0.6695,     0.66972,     0.66994,     0.67016,     0.67038,     0.67103,     0.67191,     0.67288,     0.67362,     0.67521,\n",
       "            0.67521,     0.67642,     0.67792,     0.67982,     0.68173,     0.68206,     0.68235,     0.68258,     0.68281,     0.68463,     0.68525,     0.68694,     0.68727,     0.68969,     0.69058,      0.6915,     0.69291,     0.69315,     0.69338,     0.69426,     0.69607,     0.69717,     0.69774,\n",
       "            0.69808,     0.69864,     0.69995,      0.7003,     0.70099,     0.70251,     0.70331,     0.70407,     0.70503,     0.70562,     0.70686,     0.70805,      0.7094,     0.71005,     0.71067,      0.7114,     0.71176,     0.71254,     0.71434,     0.71419,     0.71466,     0.71604,     0.71636,\n",
       "            0.71728,     0.71747,     0.71765,     0.71783,     0.71809,     0.71837,     0.71912,      0.7189,     0.71908,     0.71926,     0.71945,     0.71993,     0.72183,     0.72326,     0.72438,     0.72451,     0.72464,     0.72477,      0.7249,     0.72534,       0.726,     0.72665,     0.72712,\n",
       "             0.7275,     0.72815,     0.72897,     0.72953,     0.72987,     0.73038,     0.73178,     0.73244,     0.73376,     0.73458,     0.73495,     0.73529,     0.73661,     0.73652,     0.73643,     0.73725,     0.73793,     0.73869,     0.73923,     0.73957,     0.74015,      0.7415,     0.74302,\n",
       "            0.74371,     0.74619,     0.74686,     0.74725,     0.74776,     0.74846,     0.74901,     0.74936,     0.74988,     0.75138,     0.75283,     0.75353,     0.75424,     0.75564,     0.75564,     0.75552,     0.75697,     0.75733,     0.75847,      0.7598,     0.76016,     0.76049,     0.76075,\n",
       "            0.76101,     0.76227,     0.76223,     0.76212,     0.76259,     0.76331,     0.76377,     0.76414,     0.76597,     0.76639,     0.76675,     0.76717,     0.76863,     0.77009,     0.77155,      0.7723,     0.77342,     0.77361,     0.77379,     0.77398,     0.77437,     0.77546,     0.77625,\n",
       "            0.77651,     0.77676,      0.7771,     0.77748,     0.77815,     0.77891,     0.77946,     0.78022,     0.78078,      0.7812,     0.78159,     0.78226,     0.78215,     0.78174,     0.78251,     0.78322,     0.78309,     0.78383,     0.78428,     0.78526,     0.78515,     0.78479,     0.78505,\n",
       "            0.78563,     0.78602,     0.78641,     0.78681,     0.78743,     0.78951,     0.78991,     0.79057,     0.79136,     0.79255,     0.79282,     0.79308,     0.79533,     0.79849,      0.7993,     0.80011,     0.80251,     0.80333,     0.80414,     0.80496,     0.80598,     0.80619,     0.80639,\n",
       "            0.80665,     0.80743,     0.80784,     0.80787,     0.80829,     0.80879,     0.81043,     0.81209,     0.81266,     0.81256,     0.81264,     0.81306,     0.81611,     0.81679,     0.81721,      0.8184,     0.81869,     0.81897,     0.81984,     0.82023,     0.82159,     0.82188,     0.82217,\n",
       "            0.82451,     0.82538,     0.82625,      0.8268,     0.82724,      0.8275,     0.82793,     0.82873,     0.82911,      0.8294,      0.8297,     0.83098,     0.83142,     0.83135,     0.83126,     0.83108,      0.8309,      0.8306,     0.83104,      0.8314,     0.83139,     0.83228,     0.83287,\n",
       "            0.83317,     0.83347,     0.83393,     0.83483,     0.83643,     0.83783,      0.8379,     0.83835,      0.8388,     0.83926,     0.83948,     0.83944,     0.83941,     0.83937,     0.83934,     0.84048,     0.84094,     0.84099,     0.84155,     0.84246,     0.84338,      0.8443,     0.84487,\n",
       "            0.84533,     0.84657,     0.84688,     0.84719,     0.84691,     0.84891,     0.84938,      0.8506,     0.85107,     0.85238,     0.85269,     0.85301,      0.8537,     0.85493,     0.85485,     0.85623,     0.85734,     0.85799,     0.85847,     0.85879,     0.85911,     0.85996,     0.86052,\n",
       "              0.861,     0.86186,      0.8617,      0.8626,     0.86358,     0.86407,     0.86534,     0.86528,     0.86522,     0.86635,     0.86667,       0.867,     0.86777,     0.86893,     0.86982,     0.86977,     0.86972,     0.87147,     0.87159,     0.87152,     0.87238,     0.87373,     0.87571,\n",
       "             0.8762,     0.87958,     0.88234,     0.88286,     0.88337,     0.88389,      0.8844,     0.88492,     0.88577,     0.88832,     0.89038,     0.89207,     0.89204,     0.89201,     0.89198,     0.89213,     0.89265,     0.89325,     0.89395,     0.89498,     0.89604,     0.89595,     0.89577,\n",
       "            0.89679,     0.89786,     0.89883,     0.89875,     0.89864,      0.8993,     0.90131,     0.90202,     0.90256,     0.90446,     0.90555,     0.90635,      0.9068,     0.90712,     0.90776,     0.90765,     0.90738,     0.90788,     0.90844,     0.90833,     0.90828,     0.90816,      0.9089,\n",
       "            0.90913,     0.90979,     0.91091,     0.91233,     0.91227,     0.91323,     0.91344,     0.91424,      0.9142,     0.91415,     0.91622,     0.91797,     0.91854,     0.91855,     0.91851,     0.91834,     0.91858,     0.91916,      0.9226,     0.92364,     0.92368,     0.92461,      0.9254,\n",
       "            0.92644,     0.92664,     0.92766,     0.92764,     0.92761,      0.9274,     0.92736,     0.92732,     0.92719,     0.92714,     0.92826,     0.92945,     0.92979,     0.93014,     0.93046,     0.93164,     0.93502,     0.93651,     0.93713,     0.93787,     0.93853,     0.93854,     0.93889,\n",
       "            0.93924,     0.93959,     0.93953,     0.93941,     0.93933,     0.93914,     0.94024,     0.94225,     0.94267,      0.9426,     0.94248,     0.94241,     0.94232,     0.94338,     0.94358,     0.94409,     0.94451,     0.94446,     0.94442,     0.94438,     0.94679,     0.94711,     0.94796,\n",
       "            0.94773,     0.94869,     0.94869,     0.94863,     0.94858,     0.94853,     0.94914,      0.9504,     0.95218,     0.95342,     0.95463,     0.95542,      0.9559,     0.95597,     0.95665,     0.95705,     0.95687,     0.95681,     0.95677,     0.95673,     0.95803,     0.95799,     0.95846,\n",
       "            0.95901,     0.96052,     0.96064,     0.96054,      0.9617,     0.96168,     0.96166,     0.96246,     0.96299,     0.96336,      0.9643,     0.96417,     0.96423,     0.96494,     0.96536,     0.96532,     0.96641,      0.9671,     0.96935,     0.96917,      0.9704,     0.97037,     0.97179,\n",
       "            0.97177,     0.97168,     0.97163,      0.9716,     0.97157,     0.97151,     0.97146,     0.97286,     0.97292,     0.97393,     0.97414,      0.9741,     0.97407,     0.97406,     0.97405,     0.97545,     0.97539,     0.97535,     0.97671,     0.97817,     0.97813,     0.97808,     0.97807,\n",
       "            0.97805,     0.97801,     0.97799,     0.97797,     0.97787,     0.97839,     0.97918,     0.97931,     0.97917,     0.97908,     0.97894,     0.97887,      0.9788,     0.98036,     0.98165,     0.98186,     0.98176,     0.98324,     0.98321,     0.98319,     0.98318,     0.98474,     0.98473,\n",
       "            0.98469,     0.98627,     0.98625,     0.98612,      0.9861,     0.98608,     0.98606,     0.98597,     0.98593,     0.98591,     0.98727,     0.98759,     0.98755,     0.98752,     0.98743,     0.98915,     0.98929,     0.99091,     0.99082,      0.9908,     0.99074,       0.991,     0.99252,\n",
       "            0.99251,     0.99433,      0.9943,     0.99421,     0.99419,     0.99411,     0.99406,     0.99403,     0.99397,     0.99392,      0.9939,     0.99384,     0.99583,     0.99581,     0.99577,     0.99572,     0.99569,     0.99564,      0.9956,     0.99556,     0.99551,     0.99771,     0.99769,\n",
       "            0.99767,     0.99765,     0.99927,           1,           1,           1,           1,           1,           1,           1,           1,           1,           1,           1,           1,           1,           1,           1,           1,           1,           1,           1,           1,\n",
       "                  1,           1,           1,           1,           1,           1,           1,           1,           1,           1,           1,           1,           1,           1,           1,           1,           1,           1,           1,           1,           1,           1,           1,\n",
       "                  1,           1,           1,           1,           1,           1,           1,           1,           1,           1,           1,           1,           1,           1,           1,           1,           1,           1,           1,           1,           1,           1,           1,\n",
       "                  1,           1,           1,           1,           1,           1,           1,           1,           1,           1,           1,           1,           1,           1,           1,           1,           1,           1,           1,           1,           1,           1,           1,\n",
       "                  1,           1,           1,           1,           1,           1,           1,           1,           1,           1,           1,           1,           1,           1,           1,           1,           1,           1,           1,           1,           1,           1,           1,\n",
       "                  1,           1,           1,           1,           1,           1,           1,           1,           1,           1,           1,           1,           1,           1,           1,           1,           1,           1,           1,           1,           1,           1,           1,\n",
       "                  1,           1,           1,           1,           1,           1,           1,           1,           1,           1,           1]]), 'Confidence', 'Precision'], [array([          0,    0.001001,    0.002002,    0.003003,    0.004004,    0.005005,    0.006006,    0.007007,    0.008008,    0.009009,     0.01001,    0.011011,    0.012012,    0.013013,    0.014014,    0.015015,    0.016016,    0.017017,    0.018018,    0.019019,     0.02002,    0.021021,    0.022022,    0.023023,\n",
       "          0.024024,    0.025025,    0.026026,    0.027027,    0.028028,    0.029029,     0.03003,    0.031031,    0.032032,    0.033033,    0.034034,    0.035035,    0.036036,    0.037037,    0.038038,    0.039039,     0.04004,    0.041041,    0.042042,    0.043043,    0.044044,    0.045045,    0.046046,    0.047047,\n",
       "          0.048048,    0.049049,     0.05005,    0.051051,    0.052052,    0.053053,    0.054054,    0.055055,    0.056056,    0.057057,    0.058058,    0.059059,     0.06006,    0.061061,    0.062062,    0.063063,    0.064064,    0.065065,    0.066066,    0.067067,    0.068068,    0.069069,     0.07007,    0.071071,\n",
       "          0.072072,    0.073073,    0.074074,    0.075075,    0.076076,    0.077077,    0.078078,    0.079079,     0.08008,    0.081081,    0.082082,    0.083083,    0.084084,    0.085085,    0.086086,    0.087087,    0.088088,    0.089089,     0.09009,    0.091091,    0.092092,    0.093093,    0.094094,    0.095095,\n",
       "          0.096096,    0.097097,    0.098098,    0.099099,      0.1001,      0.1011,      0.1021,      0.1031,      0.1041,     0.10511,     0.10611,     0.10711,     0.10811,     0.10911,     0.11011,     0.11111,     0.11211,     0.11311,     0.11411,     0.11512,     0.11612,     0.11712,     0.11812,     0.11912,\n",
       "           0.12012,     0.12112,     0.12212,     0.12312,     0.12412,     0.12513,     0.12613,     0.12713,     0.12813,     0.12913,     0.13013,     0.13113,     0.13213,     0.13313,     0.13413,     0.13514,     0.13614,     0.13714,     0.13814,     0.13914,     0.14014,     0.14114,     0.14214,     0.14314,\n",
       "           0.14414,     0.14515,     0.14615,     0.14715,     0.14815,     0.14915,     0.15015,     0.15115,     0.15215,     0.15315,     0.15415,     0.15516,     0.15616,     0.15716,     0.15816,     0.15916,     0.16016,     0.16116,     0.16216,     0.16316,     0.16416,     0.16517,     0.16617,     0.16717,\n",
       "           0.16817,     0.16917,     0.17017,     0.17117,     0.17217,     0.17317,     0.17417,     0.17518,     0.17618,     0.17718,     0.17818,     0.17918,     0.18018,     0.18118,     0.18218,     0.18318,     0.18418,     0.18519,     0.18619,     0.18719,     0.18819,     0.18919,     0.19019,     0.19119,\n",
       "           0.19219,     0.19319,     0.19419,      0.1952,      0.1962,      0.1972,      0.1982,      0.1992,      0.2002,      0.2012,      0.2022,      0.2032,      0.2042,     0.20521,     0.20621,     0.20721,     0.20821,     0.20921,     0.21021,     0.21121,     0.21221,     0.21321,     0.21421,     0.21522,\n",
       "           0.21622,     0.21722,     0.21822,     0.21922,     0.22022,     0.22122,     0.22222,     0.22322,     0.22422,     0.22523,     0.22623,     0.22723,     0.22823,     0.22923,     0.23023,     0.23123,     0.23223,     0.23323,     0.23423,     0.23524,     0.23624,     0.23724,     0.23824,     0.23924,\n",
       "           0.24024,     0.24124,     0.24224,     0.24324,     0.24424,     0.24525,     0.24625,     0.24725,     0.24825,     0.24925,     0.25025,     0.25125,     0.25225,     0.25325,     0.25425,     0.25526,     0.25626,     0.25726,     0.25826,     0.25926,     0.26026,     0.26126,     0.26226,     0.26326,\n",
       "           0.26426,     0.26527,     0.26627,     0.26727,     0.26827,     0.26927,     0.27027,     0.27127,     0.27227,     0.27327,     0.27427,     0.27528,     0.27628,     0.27728,     0.27828,     0.27928,     0.28028,     0.28128,     0.28228,     0.28328,     0.28428,     0.28529,     0.28629,     0.28729,\n",
       "           0.28829,     0.28929,     0.29029,     0.29129,     0.29229,     0.29329,     0.29429,      0.2953,      0.2963,      0.2973,      0.2983,      0.2993,      0.3003,      0.3013,      0.3023,      0.3033,      0.3043,     0.30531,     0.30631,     0.30731,     0.30831,     0.30931,     0.31031,     0.31131,\n",
       "           0.31231,     0.31331,     0.31431,     0.31532,     0.31632,     0.31732,     0.31832,     0.31932,     0.32032,     0.32132,     0.32232,     0.32332,     0.32432,     0.32533,     0.32633,     0.32733,     0.32833,     0.32933,     0.33033,     0.33133,     0.33233,     0.33333,     0.33433,     0.33534,\n",
       "           0.33634,     0.33734,     0.33834,     0.33934,     0.34034,     0.34134,     0.34234,     0.34334,     0.34434,     0.34535,     0.34635,     0.34735,     0.34835,     0.34935,     0.35035,     0.35135,     0.35235,     0.35335,     0.35435,     0.35536,     0.35636,     0.35736,     0.35836,     0.35936,\n",
       "           0.36036,     0.36136,     0.36236,     0.36336,     0.36436,     0.36537,     0.36637,     0.36737,     0.36837,     0.36937,     0.37037,     0.37137,     0.37237,     0.37337,     0.37437,     0.37538,     0.37638,     0.37738,     0.37838,     0.37938,     0.38038,     0.38138,     0.38238,     0.38338,\n",
       "           0.38438,     0.38539,     0.38639,     0.38739,     0.38839,     0.38939,     0.39039,     0.39139,     0.39239,     0.39339,     0.39439,      0.3954,      0.3964,      0.3974,      0.3984,      0.3994,      0.4004,      0.4014,      0.4024,      0.4034,      0.4044,     0.40541,     0.40641,     0.40741,\n",
       "           0.40841,     0.40941,     0.41041,     0.41141,     0.41241,     0.41341,     0.41441,     0.41542,     0.41642,     0.41742,     0.41842,     0.41942,     0.42042,     0.42142,     0.42242,     0.42342,     0.42442,     0.42543,     0.42643,     0.42743,     0.42843,     0.42943,     0.43043,     0.43143,\n",
       "           0.43243,     0.43343,     0.43443,     0.43544,     0.43644,     0.43744,     0.43844,     0.43944,     0.44044,     0.44144,     0.44244,     0.44344,     0.44444,     0.44545,     0.44645,     0.44745,     0.44845,     0.44945,     0.45045,     0.45145,     0.45245,     0.45345,     0.45445,     0.45546,\n",
       "           0.45646,     0.45746,     0.45846,     0.45946,     0.46046,     0.46146,     0.46246,     0.46346,     0.46446,     0.46547,     0.46647,     0.46747,     0.46847,     0.46947,     0.47047,     0.47147,     0.47247,     0.47347,     0.47447,     0.47548,     0.47648,     0.47748,     0.47848,     0.47948,\n",
       "           0.48048,     0.48148,     0.48248,     0.48348,     0.48448,     0.48549,     0.48649,     0.48749,     0.48849,     0.48949,     0.49049,     0.49149,     0.49249,     0.49349,     0.49449,      0.4955,      0.4965,      0.4975,      0.4985,      0.4995,      0.5005,      0.5015,      0.5025,      0.5035,\n",
       "            0.5045,     0.50551,     0.50651,     0.50751,     0.50851,     0.50951,     0.51051,     0.51151,     0.51251,     0.51351,     0.51451,     0.51552,     0.51652,     0.51752,     0.51852,     0.51952,     0.52052,     0.52152,     0.52252,     0.52352,     0.52452,     0.52553,     0.52653,     0.52753,\n",
       "           0.52853,     0.52953,     0.53053,     0.53153,     0.53253,     0.53353,     0.53453,     0.53554,     0.53654,     0.53754,     0.53854,     0.53954,     0.54054,     0.54154,     0.54254,     0.54354,     0.54454,     0.54555,     0.54655,     0.54755,     0.54855,     0.54955,     0.55055,     0.55155,\n",
       "           0.55255,     0.55355,     0.55455,     0.55556,     0.55656,     0.55756,     0.55856,     0.55956,     0.56056,     0.56156,     0.56256,     0.56356,     0.56456,     0.56557,     0.56657,     0.56757,     0.56857,     0.56957,     0.57057,     0.57157,     0.57257,     0.57357,     0.57457,     0.57558,\n",
       "           0.57658,     0.57758,     0.57858,     0.57958,     0.58058,     0.58158,     0.58258,     0.58358,     0.58458,     0.58559,     0.58659,     0.58759,     0.58859,     0.58959,     0.59059,     0.59159,     0.59259,     0.59359,     0.59459,      0.5956,      0.5966,      0.5976,      0.5986,      0.5996,\n",
       "            0.6006,      0.6016,      0.6026,      0.6036,      0.6046,     0.60561,     0.60661,     0.60761,     0.60861,     0.60961,     0.61061,     0.61161,     0.61261,     0.61361,     0.61461,     0.61562,     0.61662,     0.61762,     0.61862,     0.61962,     0.62062,     0.62162,     0.62262,     0.62362,\n",
       "           0.62462,     0.62563,     0.62663,     0.62763,     0.62863,     0.62963,     0.63063,     0.63163,     0.63263,     0.63363,     0.63463,     0.63564,     0.63664,     0.63764,     0.63864,     0.63964,     0.64064,     0.64164,     0.64264,     0.64364,     0.64464,     0.64565,     0.64665,     0.64765,\n",
       "           0.64865,     0.64965,     0.65065,     0.65165,     0.65265,     0.65365,     0.65465,     0.65566,     0.65666,     0.65766,     0.65866,     0.65966,     0.66066,     0.66166,     0.66266,     0.66366,     0.66466,     0.66567,     0.66667,     0.66767,     0.66867,     0.66967,     0.67067,     0.67167,\n",
       "           0.67267,     0.67367,     0.67467,     0.67568,     0.67668,     0.67768,     0.67868,     0.67968,     0.68068,     0.68168,     0.68268,     0.68368,     0.68468,     0.68569,     0.68669,     0.68769,     0.68869,     0.68969,     0.69069,     0.69169,     0.69269,     0.69369,     0.69469,      0.6957,\n",
       "            0.6967,      0.6977,      0.6987,      0.6997,      0.7007,      0.7017,      0.7027,      0.7037,      0.7047,     0.70571,     0.70671,     0.70771,     0.70871,     0.70971,     0.71071,     0.71171,     0.71271,     0.71371,     0.71471,     0.71572,     0.71672,     0.71772,     0.71872,     0.71972,\n",
       "           0.72072,     0.72172,     0.72272,     0.72372,     0.72472,     0.72573,     0.72673,     0.72773,     0.72873,     0.72973,     0.73073,     0.73173,     0.73273,     0.73373,     0.73473,     0.73574,     0.73674,     0.73774,     0.73874,     0.73974,     0.74074,     0.74174,     0.74274,     0.74374,\n",
       "           0.74474,     0.74575,     0.74675,     0.74775,     0.74875,     0.74975,     0.75075,     0.75175,     0.75275,     0.75375,     0.75475,     0.75576,     0.75676,     0.75776,     0.75876,     0.75976,     0.76076,     0.76176,     0.76276,     0.76376,     0.76476,     0.76577,     0.76677,     0.76777,\n",
       "           0.76877,     0.76977,     0.77077,     0.77177,     0.77277,     0.77377,     0.77477,     0.77578,     0.77678,     0.77778,     0.77878,     0.77978,     0.78078,     0.78178,     0.78278,     0.78378,     0.78478,     0.78579,     0.78679,     0.78779,     0.78879,     0.78979,     0.79079,     0.79179,\n",
       "           0.79279,     0.79379,     0.79479,      0.7958,      0.7968,      0.7978,      0.7988,      0.7998,      0.8008,      0.8018,      0.8028,      0.8038,      0.8048,     0.80581,     0.80681,     0.80781,     0.80881,     0.80981,     0.81081,     0.81181,     0.81281,     0.81381,     0.81481,     0.81582,\n",
       "           0.81682,     0.81782,     0.81882,     0.81982,     0.82082,     0.82182,     0.82282,     0.82382,     0.82482,     0.82583,     0.82683,     0.82783,     0.82883,     0.82983,     0.83083,     0.83183,     0.83283,     0.83383,     0.83483,     0.83584,     0.83684,     0.83784,     0.83884,     0.83984,\n",
       "           0.84084,     0.84184,     0.84284,     0.84384,     0.84484,     0.84585,     0.84685,     0.84785,     0.84885,     0.84985,     0.85085,     0.85185,     0.85285,     0.85385,     0.85485,     0.85586,     0.85686,     0.85786,     0.85886,     0.85986,     0.86086,     0.86186,     0.86286,     0.86386,\n",
       "           0.86486,     0.86587,     0.86687,     0.86787,     0.86887,     0.86987,     0.87087,     0.87187,     0.87287,     0.87387,     0.87487,     0.87588,     0.87688,     0.87788,     0.87888,     0.87988,     0.88088,     0.88188,     0.88288,     0.88388,     0.88488,     0.88589,     0.88689,     0.88789,\n",
       "           0.88889,     0.88989,     0.89089,     0.89189,     0.89289,     0.89389,     0.89489,      0.8959,      0.8969,      0.8979,      0.8989,      0.8999,      0.9009,      0.9019,      0.9029,      0.9039,      0.9049,     0.90591,     0.90691,     0.90791,     0.90891,     0.90991,     0.91091,     0.91191,\n",
       "           0.91291,     0.91391,     0.91491,     0.91592,     0.91692,     0.91792,     0.91892,     0.91992,     0.92092,     0.92192,     0.92292,     0.92392,     0.92492,     0.92593,     0.92693,     0.92793,     0.92893,     0.92993,     0.93093,     0.93193,     0.93293,     0.93393,     0.93493,     0.93594,\n",
       "           0.93694,     0.93794,     0.93894,     0.93994,     0.94094,     0.94194,     0.94294,     0.94394,     0.94494,     0.94595,     0.94695,     0.94795,     0.94895,     0.94995,     0.95095,     0.95195,     0.95295,     0.95395,     0.95495,     0.95596,     0.95696,     0.95796,     0.95896,     0.95996,\n",
       "           0.96096,     0.96196,     0.96296,     0.96396,     0.96496,     0.96597,     0.96697,     0.96797,     0.96897,     0.96997,     0.97097,     0.97197,     0.97297,     0.97397,     0.97497,     0.97598,     0.97698,     0.97798,     0.97898,     0.97998,     0.98098,     0.98198,     0.98298,     0.98398,\n",
       "           0.98498,     0.98599,     0.98699,     0.98799,     0.98899,     0.98999,     0.99099,     0.99199,     0.99299,     0.99399,     0.99499,       0.996,       0.997,       0.998,       0.999,           1]), array([[    0.99053,     0.99053,     0.99053,     0.98737,     0.98632,     0.98421,     0.98105,     0.98105,     0.97789,     0.97684,     0.97684,     0.97474,     0.97474,     0.97368,     0.97263,     0.97263,     0.97158,     0.97158,     0.97158,     0.97158,     0.97158,     0.97158,     0.97158,\n",
       "            0.97158,     0.97158,     0.96947,     0.96947,     0.96947,     0.96947,     0.96947,     0.96947,     0.96947,     0.96947,     0.96737,     0.96632,     0.96526,     0.96526,     0.96421,     0.96421,     0.96421,     0.96316,     0.96316,     0.96316,     0.96211,     0.96211,     0.96211,\n",
       "            0.96211,     0.96211,     0.96211,     0.96211,     0.96105,     0.96105,     0.96105,     0.96105,        0.96,     0.95789,     0.95789,     0.95789,     0.95789,     0.95596,     0.95579,     0.95579,     0.95579,     0.95474,     0.95474,     0.95474,     0.95474,     0.95474,      0.9531,\n",
       "            0.95158,     0.95053,     0.94947,     0.94842,     0.94792,     0.94632,     0.94632,     0.94556,      0.9443,     0.94421,     0.94316,     0.94316,     0.94105,        0.94,     0.93684,     0.93684,     0.93684,     0.93579,     0.93579,     0.93579,     0.93474,     0.93434,     0.93158,\n",
       "            0.93053,     0.93053,     0.93053,     0.93053,     0.92947,     0.92947,     0.92947,     0.92947,     0.92947,     0.92932,     0.92842,     0.92842,     0.92842,     0.92842,     0.92652,     0.92556,     0.92526,     0.92105,     0.92105,     0.92027,     0.91895,     0.91895,     0.91895,\n",
       "            0.91821,     0.91789,     0.91789,     0.91684,     0.91684,     0.91684,     0.91627,     0.91579,     0.91579,     0.91579,     0.91579,     0.91579,     0.91579,     0.91474,     0.91474,     0.91474,     0.91474,     0.91474,     0.91474,      0.9141,     0.91263,     0.91263,     0.91263,\n",
       "            0.91263,     0.91263,     0.91263,     0.91263,     0.91158,     0.91053,     0.91053,     0.91053,     0.91053,     0.90994,     0.90947,     0.90947,     0.90947,     0.90947,     0.90842,     0.90842,     0.90842,     0.90842,     0.90842,     0.90842,     0.90737,     0.90737,     0.90737,\n",
       "            0.90737,     0.90673,     0.90632,     0.90526,     0.90526,     0.90526,     0.90526,     0.90526,     0.90316,     0.90316,      0.9029,     0.90211,     0.90211,     0.90105,     0.90105,     0.90105,     0.90105,     0.90105,     0.90105,         0.9,         0.9,         0.9,         0.9,\n",
       "                0.9,     0.89906,     0.89895,     0.89895,     0.89895,     0.89789,     0.89789,     0.89789,     0.89789,     0.89789,     0.89789,     0.89684,     0.89684,     0.89684,     0.89684,     0.89579,     0.89474,     0.89405,     0.89368,     0.89368,     0.89263,     0.89263,     0.89263,\n",
       "            0.89263,     0.89158,     0.89158,     0.89158,     0.89158,     0.89158,     0.89158,     0.89158,     0.89158,     0.89158,     0.89158,     0.89042,     0.88988,     0.88947,     0.88947,     0.88947,     0.88947,     0.88842,     0.88803,     0.88737,     0.88737,     0.88737,     0.88737,\n",
       "            0.88632,     0.88632,     0.88632,     0.88632,     0.88632,     0.88613,     0.88526,     0.88526,     0.88526,     0.88526,     0.88526,     0.88406,     0.88377,     0.88349,      0.8832,     0.88316,     0.88316,     0.88316,     0.88316,     0.88316,     0.88316,     0.88316,     0.88316,\n",
       "            0.88316,     0.88266,     0.88211,     0.88211,     0.88211,     0.88211,     0.88105,     0.88105,     0.88105,     0.88105,     0.88105,     0.88105,     0.88105,     0.88105,     0.88105,     0.88105,     0.88105,     0.88105,     0.88105,     0.88105,     0.88105,     0.88105,     0.88105,\n",
       "            0.88105,     0.87928,     0.87796,     0.87789,     0.87789,     0.87789,     0.87789,     0.87789,     0.87789,     0.87789,     0.87789,     0.87789,     0.87789,     0.87789,     0.87789,     0.87789,     0.87789,     0.87789,     0.87789,     0.87789,     0.87789,     0.87789,     0.87751,\n",
       "            0.87684,     0.87684,     0.87579,     0.87474,     0.87474,     0.87474,     0.87474,     0.87474,     0.87474,     0.87474,     0.87474,     0.87474,     0.87474,     0.87474,     0.87368,     0.87368,     0.87368,     0.87368,     0.87368,     0.87158,     0.87158,     0.87158,     0.87158,\n",
       "            0.87158,     0.87158,     0.87158,     0.87158,     0.87158,     0.87158,     0.87158,     0.87158,     0.87158,     0.87158,     0.87158,     0.87158,     0.87158,     0.87158,     0.87158,     0.87158,     0.87158,     0.87158,     0.87127,     0.87066,     0.87053,     0.87053,     0.87053,\n",
       "            0.87053,     0.87053,     0.87053,     0.87053,     0.87053,     0.87053,     0.87049,     0.86947,     0.86947,     0.86947,     0.86947,     0.86947,     0.86947,     0.86947,     0.86842,     0.86842,     0.86842,     0.86842,     0.86842,     0.86842,     0.86842,     0.86842,     0.86842,\n",
       "            0.86842,     0.86842,     0.86842,     0.86842,     0.86842,     0.86842,     0.86842,     0.86842,     0.86842,     0.86842,     0.86842,     0.86842,     0.86842,     0.86803,     0.86763,     0.86737,     0.86737,     0.86737,     0.86737,     0.86737,     0.86737,     0.86737,     0.86737,\n",
       "            0.86737,     0.86632,     0.86632,     0.86632,     0.86632,     0.86632,     0.86632,     0.86632,     0.86632,     0.86632,     0.86632,     0.86632,     0.86632,     0.86632,     0.86585,     0.86531,     0.86526,     0.86526,     0.86526,     0.86526,     0.86526,     0.86526,     0.86526,\n",
       "            0.86526,     0.86526,     0.86386,     0.86332,     0.86316,     0.86316,     0.86316,     0.86316,     0.86316,     0.86316,     0.86316,     0.86316,     0.86316,     0.86316,     0.86316,     0.86316,     0.86211,     0.86211,     0.86211,     0.86211,     0.86211,     0.86156,     0.86105,\n",
       "            0.86105,     0.86105,     0.86105,     0.86105,     0.86105,     0.86105,        0.86,        0.86,     0.85895,     0.85895,     0.85895,     0.85844,      0.8579,     0.85579,     0.85579,     0.85572,     0.85474,     0.85474,     0.85474,     0.85452,     0.85398,     0.85215,     0.85158,\n",
       "            0.85158,     0.85158,     0.85158,     0.85158,     0.85158,     0.85158,     0.85158,     0.85158,     0.85158,     0.85158,     0.85158,     0.85158,     0.85158,     0.85158,     0.85158,     0.85158,     0.85158,     0.85158,     0.85158,     0.85158,     0.85158,     0.85158,     0.85158,\n",
       "            0.85158,     0.85158,     0.85158,     0.84947,     0.84947,     0.84947,     0.84947,     0.84947,     0.84932,     0.84878,     0.84842,     0.84842,     0.84842,     0.84842,     0.84842,     0.84842,     0.84842,     0.84842,     0.84786,     0.84737,     0.84737,     0.84737,     0.84737,\n",
       "            0.84737,     0.84737,     0.84737,     0.84737,     0.84737,     0.84632,     0.84632,     0.84632,     0.84632,     0.84632,     0.84632,     0.84632,     0.84632,      0.8458,     0.84525,     0.84417,     0.84309,     0.84105,     0.84105,     0.84091,        0.84,        0.84,     0.83895,\n",
       "            0.83895,     0.83895,     0.83895,     0.83895,     0.83789,     0.83751,     0.83684,     0.83684,     0.83684,     0.83684,     0.83674,     0.83652,     0.83631,     0.83609,     0.83588,     0.83579,     0.83579,     0.83509,     0.83474,     0.83474,     0.83474,     0.83474,     0.83474,\n",
       "            0.83474,     0.83474,     0.83474,     0.83474,     0.83272,     0.83263,     0.83263,     0.83158,     0.83158,     0.83158,     0.83158,     0.83158,     0.83158,     0.83124,      0.8307,     0.82947,     0.82872,     0.82842,     0.82842,     0.82842,     0.82842,     0.82842,     0.82842,\n",
       "            0.82842,     0.82746,     0.82638,     0.82632,     0.82632,     0.82632,     0.82525,     0.82481,     0.82438,     0.82421,     0.82421,     0.82421,     0.82421,     0.82346,      0.8229,     0.82254,     0.82218,     0.82211,     0.82166,     0.82112,     0.82105,        0.82,        0.82,\n",
       "            0.81951,     0.81895,     0.81895,     0.81895,     0.81895,     0.81895,     0.81895,     0.81895,     0.81895,     0.81895,     0.81895,     0.81783,     0.81756,     0.81729,     0.81702,     0.81684,     0.81684,     0.81684,     0.81684,     0.81684,     0.81684,      0.8158,      0.8142,\n",
       "            0.81368,     0.81368,     0.81362,      0.8129,     0.81196,     0.81158,     0.81053,     0.81053,     0.81053,     0.80947,     0.80947,     0.80947,     0.80911,     0.80842,     0.80801,     0.80693,     0.80433,     0.80421,     0.80421,     0.80315,     0.80261,     0.80105,     0.80105,\n",
       "             0.8004,         0.8,         0.8,     0.79964,      0.7991,     0.79764,     0.79684,     0.79672,     0.79629,     0.79586,     0.79579,     0.79579,     0.79579,     0.79539,     0.79496,     0.79317,     0.79263,     0.79263,     0.79046,     0.78938,     0.78842,     0.78632,     0.78632,\n",
       "            0.78632,     0.78451,     0.78293,     0.78263,     0.78232,     0.77987,     0.77944,       0.779,     0.77743,     0.77689,     0.77638,     0.77474,     0.77474,     0.77474,     0.77469,     0.77368,     0.77244,     0.77158,     0.77158,     0.77158,     0.77138,     0.77053,     0.77053,\n",
       "            0.77053,     0.77053,     0.76861,     0.76701,     0.76593,     0.76338,     0.76316,     0.76211,     0.76161,     0.76053,     0.75893,     0.75785,      0.7567,     0.75411,     0.75263,     0.75263,     0.75251,     0.75179,      0.7512,     0.75066,     0.74919,     0.74842,     0.74775,\n",
       "            0.74438,     0.74211,     0.73959,     0.73865,     0.73793,     0.73722,     0.73684,     0.73579,     0.73263,     0.73249,     0.73095,     0.73053,     0.73007,     0.72947,     0.72947,     0.72714,     0.72395,     0.72297,     0.72225,     0.72153,     0.72081,     0.72009,        0.72,\n",
       "               0.72,        0.72,     0.71932,     0.71738,     0.71368,     0.71324,     0.71281,     0.71263,      0.7122,     0.71158,     0.71088,     0.70822,     0.70632,     0.70632,     0.70402,      0.7033,     0.70211,     0.70105,     0.69922,     0.69485,     0.69023,     0.68951,     0.68896,\n",
       "            0.68842,     0.68628,     0.68488,     0.68416,     0.68344,     0.68198,     0.68075,      0.6793,     0.67579,     0.67579,     0.67421,     0.67312,     0.67235,     0.67199,     0.67163,     0.66908,     0.66759,      0.6664,     0.66216,     0.66037,     0.65896,     0.65754,     0.65718,\n",
       "             0.6567,     0.65548,     0.65494,     0.65406,     0.65122,     0.65053,     0.65053,     0.64764,      0.6434,     0.64049,     0.63617,     0.63385,     0.63185,     0.63064,     0.62842,      0.6269,     0.62322,     0.61737,     0.61629,     0.61556,     0.61513,     0.61153,     0.61099,\n",
       "            0.60917,     0.60508,      0.6038,     0.59848,     0.59737,     0.59656,     0.59548,     0.59196,     0.59016,     0.58908,     0.58842,      0.5864,      0.5846,     0.58322,     0.57896,     0.57577,     0.57474,     0.57354,     0.56822,     0.56672,     0.56285,        0.56,     0.55881,\n",
       "            0.55809,     0.55422,     0.55077,     0.54254,     0.54019,     0.53296,     0.52869,     0.52548,     0.52017,     0.51637,      0.5148,     0.50948,     0.50311,      0.4999,     0.49564,     0.48937,     0.48606,      0.4809,     0.47648,     0.47222,      0.4669,     0.45764,     0.45417,\n",
       "            0.45127,     0.44774,     0.44421,     0.44132,     0.43917,     0.43595,     0.42748,     0.42111,      0.4179,     0.40892,     0.40679,     0.39985,     0.38822,      0.3808,     0.37022,     0.36385,     0.35853,     0.35427,     0.35106,     0.34813,     0.34569,     0.33932,     0.33506,\n",
       "            0.32869,     0.32537,     0.31701,     0.31485,     0.31164,     0.30211,     0.29259,     0.28516,     0.27774,     0.27032,     0.25974,     0.25511,     0.24561,     0.24064,     0.23135,      0.2258,     0.21837,     0.20358,     0.19827,     0.19295,     0.18974,     0.18169,     0.18016,\n",
       "            0.17532,     0.17164,     0.16422,     0.15469,     0.14727,     0.13985,     0.13463,     0.12816,       0.126,     0.12279,     0.11716,     0.11503,     0.11035,     0.10963,     0.10811,     0.10669,     0.10032,    0.096976,    0.091686,    0.087531,    0.085373,    0.077952,    0.076318,\n",
       "           0.073636,    0.071478,    0.068267,    0.066109,    0.061846,    0.058635,     0.05332,     0.04716,    0.044793,    0.038773,    0.038054,    0.036214,    0.034397,    0.032951,    0.030793,    0.029581,    0.028124,    0.027405,    0.026344,    0.023159,    0.021554,    0.018922,    0.018382,\n",
       "           0.017826,    0.017106,     0.01458,    0.013562,    0.012843,    0.011071,    0.010003,   0.0086592,   0.0065276,   0.0058822,   0.0053427,   0.0048952,   0.0044636,    0.004032,   0.0036004,   0.0031689,   0.0026321,   0.0020968,   0.0017372,   0.0013775,           0,           0,           0,\n",
       "                  0,           0,           0,           0,           0,           0,           0,           0,           0,           0,           0,           0,           0,           0,           0,           0,           0,           0,           0,           0,           0,           0,           0,\n",
       "                  0,           0,           0,           0,           0,           0,           0,           0,           0,           0,           0]]), 'Confidence', 'Recall']]\n",
       "fitness: 0.6930095838166327\n",
       "keys: ['metrics/precision(B)', 'metrics/recall(B)', 'metrics/mAP50(B)', 'metrics/mAP50-95(B)']\n",
       "maps: array([    0.66885])\n",
       "names: {0: 'fire'}\n",
       "plot: True\n",
       "results_dict: {'metrics/precision(B)': 0.9081623446584681, 'metrics/recall(B)': 0.8010526315789473, 'metrics/mAP50(B)': 0.9104044101087179, 'metrics/mAP50-95(B)': 0.6688546031175121, 'fitness': 0.6930095838166327}\n",
       "save_dir: PosixPath('runs/detect/train4')\n",
       "speed: {'preprocess': 0.16239080504110898, 'inference': 1.9345601710875027, 'loss': 0.0005910729432243825, 'postprocess': 1.1172896962863348}\n",
       "task: 'detect'"
      ]
     },
     "execution_count": 20,
     "metadata": {},
     "output_type": "execute_result"
    }
   ],
   "source": [
    "model.train(data=data_yaml, epochs=50, batch=16, imgsz=640, device=device)"
   ]
  },
  {
   "cell_type": "markdown",
   "metadata": {},
   "source": [
    "### Evaluate model"
   ]
  },
  {
   "cell_type": "code",
   "execution_count": null,
   "metadata": {
    "collapsed": true,
    "execution": {
     "iopub.execute_input": "2025-03-12T07:50:24.111024Z",
     "iopub.status.busy": "2025-03-12T07:50:24.110690Z",
     "iopub.status.idle": "2025-03-12T07:50:34.125428Z",
     "shell.execute_reply": "2025-03-12T07:50:34.124490Z",
     "shell.execute_reply.started": "2025-03-12T07:50:24.110996Z"
    },
    "jupyter": {
     "outputs_hidden": true
    },
    "trusted": true
   },
   "outputs": [
    {
     "name": "stdout",
     "output_type": "stream",
     "text": [
      "Ultralytics 8.3.88 🚀 Python-3.10.12 torch-2.5.1+cu121 CUDA:0 (Tesla P100-PCIE-16GB, 16269MiB)\n",
      "Model summary (fused): 72 layers, 3,005,843 parameters, 0 gradients, 8.1 GFLOPs\n"
     ]
    },
    {
     "name": "stderr",
     "output_type": "stream",
     "text": [
      "\u001b[34m\u001b[1mval: \u001b[0mScanning /kaggle/input/fire-detection/Fire-Detection/valid/labels... 754 images, 2 backgrounds, 0 corrupt: 100%|██████████| 754/754 [00:00<00:00, 949.87it/s]\n"
     ]
    },
    {
     "name": "stdout",
     "output_type": "stream",
     "text": [
      "\u001b[34m\u001b[1mval: \u001b[0mWARNING ⚠️ Cache directory /kaggle/input/fire-detection/Fire-Detection/valid is not writeable, cache not saved.\n"
     ]
    },
    {
     "name": "stderr",
     "output_type": "stream",
     "text": [
      "                 Class     Images  Instances      Box(P          R      mAP50  mAP50-95): 100%|██████████| 48/48 [00:05<00:00,  8.61it/s]\n"
     ]
    },
    {
     "name": "stdout",
     "output_type": "stream",
     "text": [
      "                   all        754        950      0.909      0.804      0.911      0.668\n"
     ]
    },
    {
     "name": "stderr",
     "output_type": "stream",
     "text": [
      "/usr/local/lib/python3.10/dist-packages/matplotlib/colors.py:721: RuntimeWarning: invalid value encountered in less\n",
      "  xa[xa < 0] = -1\n",
      "/usr/local/lib/python3.10/dist-packages/matplotlib/colors.py:721: RuntimeWarning: invalid value encountered in less\n",
      "  xa[xa < 0] = -1\n"
     ]
    },
    {
     "name": "stdout",
     "output_type": "stream",
     "text": [
      "Speed: 0.5ms preprocess, 2.4ms inference, 0.0ms loss, 0.7ms postprocess per image\n",
      "Results saved to \u001b[1mruns/detect/train42\u001b[0m\n",
      "Evaluation Metrics: ultralytics.utils.metrics.DetMetrics object with attributes:\n",
      "\n",
      "ap_class_index: array([0])\n",
      "box: ultralytics.utils.metrics.Metric object\n",
      "confusion_matrix: <ultralytics.utils.metrics.ConfusionMatrix object at 0x7ad6bed5a290>\n",
      "curves: ['Precision-Recall(B)', 'F1-Confidence(B)', 'Precision-Confidence(B)', 'Recall-Confidence(B)']\n",
      "curves_results: [[array([          0,    0.001001,    0.002002,    0.003003,    0.004004,    0.005005,    0.006006,    0.007007,    0.008008,    0.009009,     0.01001,    0.011011,    0.012012,    0.013013,    0.014014,    0.015015,    0.016016,    0.017017,    0.018018,    0.019019,     0.02002,    0.021021,    0.022022,    0.023023,\n",
      "          0.024024,    0.025025,    0.026026,    0.027027,    0.028028,    0.029029,     0.03003,    0.031031,    0.032032,    0.033033,    0.034034,    0.035035,    0.036036,    0.037037,    0.038038,    0.039039,     0.04004,    0.041041,    0.042042,    0.043043,    0.044044,    0.045045,    0.046046,    0.047047,\n",
      "          0.048048,    0.049049,     0.05005,    0.051051,    0.052052,    0.053053,    0.054054,    0.055055,    0.056056,    0.057057,    0.058058,    0.059059,     0.06006,    0.061061,    0.062062,    0.063063,    0.064064,    0.065065,    0.066066,    0.067067,    0.068068,    0.069069,     0.07007,    0.071071,\n",
      "          0.072072,    0.073073,    0.074074,    0.075075,    0.076076,    0.077077,    0.078078,    0.079079,     0.08008,    0.081081,    0.082082,    0.083083,    0.084084,    0.085085,    0.086086,    0.087087,    0.088088,    0.089089,     0.09009,    0.091091,    0.092092,    0.093093,    0.094094,    0.095095,\n",
      "          0.096096,    0.097097,    0.098098,    0.099099,      0.1001,      0.1011,      0.1021,      0.1031,      0.1041,     0.10511,     0.10611,     0.10711,     0.10811,     0.10911,     0.11011,     0.11111,     0.11211,     0.11311,     0.11411,     0.11512,     0.11612,     0.11712,     0.11812,     0.11912,\n",
      "           0.12012,     0.12112,     0.12212,     0.12312,     0.12412,     0.12513,     0.12613,     0.12713,     0.12813,     0.12913,     0.13013,     0.13113,     0.13213,     0.13313,     0.13413,     0.13514,     0.13614,     0.13714,     0.13814,     0.13914,     0.14014,     0.14114,     0.14214,     0.14314,\n",
      "           0.14414,     0.14515,     0.14615,     0.14715,     0.14815,     0.14915,     0.15015,     0.15115,     0.15215,     0.15315,     0.15415,     0.15516,     0.15616,     0.15716,     0.15816,     0.15916,     0.16016,     0.16116,     0.16216,     0.16316,     0.16416,     0.16517,     0.16617,     0.16717,\n",
      "           0.16817,     0.16917,     0.17017,     0.17117,     0.17217,     0.17317,     0.17417,     0.17518,     0.17618,     0.17718,     0.17818,     0.17918,     0.18018,     0.18118,     0.18218,     0.18318,     0.18418,     0.18519,     0.18619,     0.18719,     0.18819,     0.18919,     0.19019,     0.19119,\n",
      "           0.19219,     0.19319,     0.19419,      0.1952,      0.1962,      0.1972,      0.1982,      0.1992,      0.2002,      0.2012,      0.2022,      0.2032,      0.2042,     0.20521,     0.20621,     0.20721,     0.20821,     0.20921,     0.21021,     0.21121,     0.21221,     0.21321,     0.21421,     0.21522,\n",
      "           0.21622,     0.21722,     0.21822,     0.21922,     0.22022,     0.22122,     0.22222,     0.22322,     0.22422,     0.22523,     0.22623,     0.22723,     0.22823,     0.22923,     0.23023,     0.23123,     0.23223,     0.23323,     0.23423,     0.23524,     0.23624,     0.23724,     0.23824,     0.23924,\n",
      "           0.24024,     0.24124,     0.24224,     0.24324,     0.24424,     0.24525,     0.24625,     0.24725,     0.24825,     0.24925,     0.25025,     0.25125,     0.25225,     0.25325,     0.25425,     0.25526,     0.25626,     0.25726,     0.25826,     0.25926,     0.26026,     0.26126,     0.26226,     0.26326,\n",
      "           0.26426,     0.26527,     0.26627,     0.26727,     0.26827,     0.26927,     0.27027,     0.27127,     0.27227,     0.27327,     0.27427,     0.27528,     0.27628,     0.27728,     0.27828,     0.27928,     0.28028,     0.28128,     0.28228,     0.28328,     0.28428,     0.28529,     0.28629,     0.28729,\n",
      "           0.28829,     0.28929,     0.29029,     0.29129,     0.29229,     0.29329,     0.29429,      0.2953,      0.2963,      0.2973,      0.2983,      0.2993,      0.3003,      0.3013,      0.3023,      0.3033,      0.3043,     0.30531,     0.30631,     0.30731,     0.30831,     0.30931,     0.31031,     0.31131,\n",
      "           0.31231,     0.31331,     0.31431,     0.31532,     0.31632,     0.31732,     0.31832,     0.31932,     0.32032,     0.32132,     0.32232,     0.32332,     0.32432,     0.32533,     0.32633,     0.32733,     0.32833,     0.32933,     0.33033,     0.33133,     0.33233,     0.33333,     0.33433,     0.33534,\n",
      "           0.33634,     0.33734,     0.33834,     0.33934,     0.34034,     0.34134,     0.34234,     0.34334,     0.34434,     0.34535,     0.34635,     0.34735,     0.34835,     0.34935,     0.35035,     0.35135,     0.35235,     0.35335,     0.35435,     0.35536,     0.35636,     0.35736,     0.35836,     0.35936,\n",
      "           0.36036,     0.36136,     0.36236,     0.36336,     0.36436,     0.36537,     0.36637,     0.36737,     0.36837,     0.36937,     0.37037,     0.37137,     0.37237,     0.37337,     0.37437,     0.37538,     0.37638,     0.37738,     0.37838,     0.37938,     0.38038,     0.38138,     0.38238,     0.38338,\n",
      "           0.38438,     0.38539,     0.38639,     0.38739,     0.38839,     0.38939,     0.39039,     0.39139,     0.39239,     0.39339,     0.39439,      0.3954,      0.3964,      0.3974,      0.3984,      0.3994,      0.4004,      0.4014,      0.4024,      0.4034,      0.4044,     0.40541,     0.40641,     0.40741,\n",
      "           0.40841,     0.40941,     0.41041,     0.41141,     0.41241,     0.41341,     0.41441,     0.41542,     0.41642,     0.41742,     0.41842,     0.41942,     0.42042,     0.42142,     0.42242,     0.42342,     0.42442,     0.42543,     0.42643,     0.42743,     0.42843,     0.42943,     0.43043,     0.43143,\n",
      "           0.43243,     0.43343,     0.43443,     0.43544,     0.43644,     0.43744,     0.43844,     0.43944,     0.44044,     0.44144,     0.44244,     0.44344,     0.44444,     0.44545,     0.44645,     0.44745,     0.44845,     0.44945,     0.45045,     0.45145,     0.45245,     0.45345,     0.45445,     0.45546,\n",
      "           0.45646,     0.45746,     0.45846,     0.45946,     0.46046,     0.46146,     0.46246,     0.46346,     0.46446,     0.46547,     0.46647,     0.46747,     0.46847,     0.46947,     0.47047,     0.47147,     0.47247,     0.47347,     0.47447,     0.47548,     0.47648,     0.47748,     0.47848,     0.47948,\n",
      "           0.48048,     0.48148,     0.48248,     0.48348,     0.48448,     0.48549,     0.48649,     0.48749,     0.48849,     0.48949,     0.49049,     0.49149,     0.49249,     0.49349,     0.49449,      0.4955,      0.4965,      0.4975,      0.4985,      0.4995,      0.5005,      0.5015,      0.5025,      0.5035,\n",
      "            0.5045,     0.50551,     0.50651,     0.50751,     0.50851,     0.50951,     0.51051,     0.51151,     0.51251,     0.51351,     0.51451,     0.51552,     0.51652,     0.51752,     0.51852,     0.51952,     0.52052,     0.52152,     0.52252,     0.52352,     0.52452,     0.52553,     0.52653,     0.52753,\n",
      "           0.52853,     0.52953,     0.53053,     0.53153,     0.53253,     0.53353,     0.53453,     0.53554,     0.53654,     0.53754,     0.53854,     0.53954,     0.54054,     0.54154,     0.54254,     0.54354,     0.54454,     0.54555,     0.54655,     0.54755,     0.54855,     0.54955,     0.55055,     0.55155,\n",
      "           0.55255,     0.55355,     0.55455,     0.55556,     0.55656,     0.55756,     0.55856,     0.55956,     0.56056,     0.56156,     0.56256,     0.56356,     0.56456,     0.56557,     0.56657,     0.56757,     0.56857,     0.56957,     0.57057,     0.57157,     0.57257,     0.57357,     0.57457,     0.57558,\n",
      "           0.57658,     0.57758,     0.57858,     0.57958,     0.58058,     0.58158,     0.58258,     0.58358,     0.58458,     0.58559,     0.58659,     0.58759,     0.58859,     0.58959,     0.59059,     0.59159,     0.59259,     0.59359,     0.59459,      0.5956,      0.5966,      0.5976,      0.5986,      0.5996,\n",
      "            0.6006,      0.6016,      0.6026,      0.6036,      0.6046,     0.60561,     0.60661,     0.60761,     0.60861,     0.60961,     0.61061,     0.61161,     0.61261,     0.61361,     0.61461,     0.61562,     0.61662,     0.61762,     0.61862,     0.61962,     0.62062,     0.62162,     0.62262,     0.62362,\n",
      "           0.62462,     0.62563,     0.62663,     0.62763,     0.62863,     0.62963,     0.63063,     0.63163,     0.63263,     0.63363,     0.63463,     0.63564,     0.63664,     0.63764,     0.63864,     0.63964,     0.64064,     0.64164,     0.64264,     0.64364,     0.64464,     0.64565,     0.64665,     0.64765,\n",
      "           0.64865,     0.64965,     0.65065,     0.65165,     0.65265,     0.65365,     0.65465,     0.65566,     0.65666,     0.65766,     0.65866,     0.65966,     0.66066,     0.66166,     0.66266,     0.66366,     0.66466,     0.66567,     0.66667,     0.66767,     0.66867,     0.66967,     0.67067,     0.67167,\n",
      "           0.67267,     0.67367,     0.67467,     0.67568,     0.67668,     0.67768,     0.67868,     0.67968,     0.68068,     0.68168,     0.68268,     0.68368,     0.68468,     0.68569,     0.68669,     0.68769,     0.68869,     0.68969,     0.69069,     0.69169,     0.69269,     0.69369,     0.69469,      0.6957,\n",
      "            0.6967,      0.6977,      0.6987,      0.6997,      0.7007,      0.7017,      0.7027,      0.7037,      0.7047,     0.70571,     0.70671,     0.70771,     0.70871,     0.70971,     0.71071,     0.71171,     0.71271,     0.71371,     0.71471,     0.71572,     0.71672,     0.71772,     0.71872,     0.71972,\n",
      "           0.72072,     0.72172,     0.72272,     0.72372,     0.72472,     0.72573,     0.72673,     0.72773,     0.72873,     0.72973,     0.73073,     0.73173,     0.73273,     0.73373,     0.73473,     0.73574,     0.73674,     0.73774,     0.73874,     0.73974,     0.74074,     0.74174,     0.74274,     0.74374,\n",
      "           0.74474,     0.74575,     0.74675,     0.74775,     0.74875,     0.74975,     0.75075,     0.75175,     0.75275,     0.75375,     0.75475,     0.75576,     0.75676,     0.75776,     0.75876,     0.75976,     0.76076,     0.76176,     0.76276,     0.76376,     0.76476,     0.76577,     0.76677,     0.76777,\n",
      "           0.76877,     0.76977,     0.77077,     0.77177,     0.77277,     0.77377,     0.77477,     0.77578,     0.77678,     0.77778,     0.77878,     0.77978,     0.78078,     0.78178,     0.78278,     0.78378,     0.78478,     0.78579,     0.78679,     0.78779,     0.78879,     0.78979,     0.79079,     0.79179,\n",
      "           0.79279,     0.79379,     0.79479,      0.7958,      0.7968,      0.7978,      0.7988,      0.7998,      0.8008,      0.8018,      0.8028,      0.8038,      0.8048,     0.80581,     0.80681,     0.80781,     0.80881,     0.80981,     0.81081,     0.81181,     0.81281,     0.81381,     0.81481,     0.81582,\n",
      "           0.81682,     0.81782,     0.81882,     0.81982,     0.82082,     0.82182,     0.82282,     0.82382,     0.82482,     0.82583,     0.82683,     0.82783,     0.82883,     0.82983,     0.83083,     0.83183,     0.83283,     0.83383,     0.83483,     0.83584,     0.83684,     0.83784,     0.83884,     0.83984,\n",
      "           0.84084,     0.84184,     0.84284,     0.84384,     0.84484,     0.84585,     0.84685,     0.84785,     0.84885,     0.84985,     0.85085,     0.85185,     0.85285,     0.85385,     0.85485,     0.85586,     0.85686,     0.85786,     0.85886,     0.85986,     0.86086,     0.86186,     0.86286,     0.86386,\n",
      "           0.86486,     0.86587,     0.86687,     0.86787,     0.86887,     0.86987,     0.87087,     0.87187,     0.87287,     0.87387,     0.87487,     0.87588,     0.87688,     0.87788,     0.87888,     0.87988,     0.88088,     0.88188,     0.88288,     0.88388,     0.88488,     0.88589,     0.88689,     0.88789,\n",
      "           0.88889,     0.88989,     0.89089,     0.89189,     0.89289,     0.89389,     0.89489,      0.8959,      0.8969,      0.8979,      0.8989,      0.8999,      0.9009,      0.9019,      0.9029,      0.9039,      0.9049,     0.90591,     0.90691,     0.90791,     0.90891,     0.90991,     0.91091,     0.91191,\n",
      "           0.91291,     0.91391,     0.91491,     0.91592,     0.91692,     0.91792,     0.91892,     0.91992,     0.92092,     0.92192,     0.92292,     0.92392,     0.92492,     0.92593,     0.92693,     0.92793,     0.92893,     0.92993,     0.93093,     0.93193,     0.93293,     0.93393,     0.93493,     0.93594,\n",
      "           0.93694,     0.93794,     0.93894,     0.93994,     0.94094,     0.94194,     0.94294,     0.94394,     0.94494,     0.94595,     0.94695,     0.94795,     0.94895,     0.94995,     0.95095,     0.95195,     0.95295,     0.95395,     0.95495,     0.95596,     0.95696,     0.95796,     0.95896,     0.95996,\n",
      "           0.96096,     0.96196,     0.96296,     0.96396,     0.96496,     0.96597,     0.96697,     0.96797,     0.96897,     0.96997,     0.97097,     0.97197,     0.97297,     0.97397,     0.97497,     0.97598,     0.97698,     0.97798,     0.97898,     0.97998,     0.98098,     0.98198,     0.98298,     0.98398,\n",
      "           0.98498,     0.98599,     0.98699,     0.98799,     0.98899,     0.98999,     0.99099,     0.99199,     0.99299,     0.99399,     0.99499,       0.996,       0.997,       0.998,       0.999,           1]), array([[          1,           1,           1,           1,           1,           1,           1,           1,           1,           1,           1,           1,           1,           1,           1,           1,           1,           1,           1,           1,           1,           1,           1,\n",
      "                  1,           1,           1,           1,           1,           1,           1,           1,           1,           1,           1,           1,           1,           1,           1,           1,           1,           1,           1,           1,           1,           1,           1,\n",
      "                  1,           1,           1,           1,           1,           1,           1,           1,           1,           1,           1,           1,           1,           1,           1,           1,           1,           1,           1,           1,           1,           1,           1,\n",
      "                  1,           1,           1,           1,           1,           1,           1,           1,           1,           1,           1,           1,           1,           1,           1,           1,           1,           1,           1,           1,           1,           1,           1,\n",
      "                  1,           1,           1,           1,           1,           1,           1,           1,           1,           1,           1,           1,           1,           1,           1,           1,           1,           1,           1,           1,           1,           1,           1,\n",
      "                  1,           1,           1,           1,           1,           1,           1,           1,           1,           1,           1,           1,           1,           1,           1,           1,           1,           1,           1,           1,           1,           1,           1,\n",
      "                  1,           1,           1,           1,           1,           1,           1,           1,           1,           1,           1,           1,           1,           1,           1,           1,           1,           1,           1,           1,           1,           1,           1,\n",
      "                  1,           1,           1,           1,           1,           1,           1,           1,           1,           1,           1,           1,           1,           1,           1,           1,           1,           1,           1,           1,           1,           1,           1,\n",
      "                  1,           1,           1,           1,           1,           1,           1,           1,           1,           1,           1,           1,           1,           1,           1,           1,           1,           1,           1,           1,           1,           1,           1,\n",
      "                  1,           1,           1,           1,           1,           1,           1,           1,           1,           1,           1,           1,           1,           1,           1,           1,           1,           1,           1,           1,           1,           1,           1,\n",
      "                  1,           1,           1,           1,           1,           1,           1,           1,           1,           1,           1,           1,           1,           1,           1,           1,           1,           1,           1,           1,           1,           1,           1,\n",
      "                  1,           1,           1,           1,           1,           1,           1,           1,           1,           1,           1,           1,           1,           1,           1,           1,           1,           1,           1,           1,           1,           1,           1,\n",
      "                  1,           1,           1,           1,           1,           1,           1,           1,           1,           1,           1,           1,           1,           1,           1,           1,           1,           1,           1,           1,           1,           1,           1,\n",
      "                  1,           1,           1,           1,           1,           1,           1,           1,           1,           1,           1,           1,           1,           1,           1,           1,           1,           1,           1,           1,           1,           1,           1,\n",
      "                  1,           1,           1,           1,           1,           1,           1,           1,           1,           1,           1,           1,           1,           1,           1,           1,           1,           1,           1,           1,           1,           1,           1,\n",
      "                  1,           1,           1,           1,           1,           1,           1,           1,           1,           1,           1,           1,           1,           1,           1,           1,           1,           1,           1,           1,           1,           1,           1,\n",
      "                  1,           1,           1,           1,           1,           1,           1,           1,           1,           1,           1,           1,           1,           1,           1,           1,           1,           1,           1,           1,           1,           1,           1,\n",
      "                  1,           1,           1,           1,           1,           1,           1,           1,           1,           1,           1,           1,           1,           1,           1,           1,           1,           1,           1,           1,           1,           1,           1,\n",
      "                  1,           1,           1,           1,           1,           1,           1,           1,           1,           1,           1,           1,           1,           1,           1,           1,           1,           1,           1,           1,           1,           1,           1,\n",
      "                  1,           1,           1,           1,           1,           1,           1,     0.99774,     0.99774,     0.99774,     0.99774,     0.99774,     0.99774,     0.99774,     0.99774,     0.99774,     0.99774,     0.99774,     0.99774,     0.99774,     0.99774,     0.99774,     0.99774,\n",
      "            0.99774,     0.99774,     0.99774,     0.99774,     0.99587,     0.99587,     0.99587,     0.99587,     0.99587,     0.99587,     0.99587,     0.99587,     0.99587,     0.99587,     0.99587,     0.99587,     0.99587,     0.99587,     0.99587,     0.99587,     0.99587,     0.99587,     0.99587,\n",
      "            0.99587,     0.99587,     0.99587,     0.99587,     0.99587,     0.99587,     0.99587,     0.99587,     0.99587,     0.99587,     0.99587,     0.99587,     0.99587,     0.99587,     0.99587,     0.99587,     0.99587,     0.99587,     0.99587,     0.99587,     0.99587,     0.99587,     0.99587,\n",
      "            0.99587,     0.99434,     0.99434,     0.99434,     0.99434,     0.99434,     0.99434,     0.99434,     0.99434,     0.99434,     0.99434,     0.99434,     0.99434,     0.99434,     0.99434,     0.99434,     0.99434,     0.99434,     0.99434,     0.99434,     0.99434,     0.99434,     0.99434,\n",
      "            0.99434,     0.99434,     0.99434,     0.99434,     0.99434,     0.99434,     0.99434,     0.99434,     0.99434,     0.99434,     0.99434,     0.99434,     0.99434,     0.99434,     0.99434,     0.99434,     0.99434,     0.99434,     0.99434,     0.99434,     0.99434,     0.99434,     0.99434,\n",
      "            0.99434,     0.99434,     0.99434,     0.99255,     0.99255,     0.99255,     0.99255,     0.99255,     0.99255,     0.99093,     0.99093,     0.99093,     0.99093,     0.99093,     0.99093,     0.99093,     0.99093,     0.99093,     0.99093,     0.99093,     0.99093,     0.99093,     0.99093,\n",
      "            0.98925,     0.98925,     0.98925,     0.98925,     0.98925,     0.98925,     0.98763,     0.98763,     0.98763,     0.98763,     0.98763,     0.98763,     0.98763,     0.98632,     0.98632,     0.98632,     0.98632,     0.98632,     0.98632,     0.98632,     0.98632,     0.98632,     0.98632,\n",
      "            0.98632,     0.98632,     0.98632,     0.98632,     0.98632,     0.98632,     0.98632,     0.98632,     0.98632,     0.98472,     0.98472,     0.98472,     0.98336,     0.98336,     0.98336,     0.98336,     0.98336,     0.98336,     0.98336,     0.98336,     0.98336,     0.98336,     0.98336,\n",
      "            0.98336,     0.98188,     0.98188,     0.98188,     0.98188,     0.98188,     0.98039,     0.98039,     0.98039,     0.98039,      0.9794,      0.9794,      0.9794,      0.9794,      0.9794,      0.9794,      0.9794,      0.9794,      0.9794,      0.9794,      0.9794,      0.9794,      0.9794,\n",
      "             0.9794,      0.9794,      0.9794,      0.9794,      0.9794,      0.9794,     0.97816,     0.97816,     0.97816,     0.97816,     0.97816,     0.97816,     0.97816,     0.97816,     0.97816,     0.97816,     0.97671,     0.97671,     0.97554,     0.97554,     0.97554,     0.97554,     0.97554,\n",
      "            0.97554,     0.97554,     0.97554,     0.97554,      0.9742,      0.9742,      0.9742,      0.9742,      0.9742,     0.97293,     0.97293,     0.97293,     0.97293,     0.97293,     0.97177,     0.97177,     0.97177,     0.97177,     0.97177,     0.97177,     0.97177,     0.97072,     0.97072,\n",
      "            0.97072,     0.97072,     0.97072,     0.97072,     0.97072,     0.97072,     0.97072,     0.97072,     0.96807,     0.96807,     0.96807,     0.96807,     0.96552,     0.96552,     0.96552,     0.96552,     0.96552,     0.96434,     0.96434,     0.96434,     0.96434,     0.96302,     0.96176,\n",
      "            0.96176,     0.96176,     0.96062,     0.96062,     0.96062,     0.96062,     0.95933,     0.95718,     0.95718,     0.95718,     0.95718,     0.95718,     0.95718,     0.95718,     0.95718,     0.95718,     0.95592,     0.95473,     0.95473,     0.95355,     0.95355,     0.95355,     0.95232,\n",
      "            0.95109,     0.94986,     0.94913,     0.94913,     0.94913,     0.94913,     0.94913,     0.94913,     0.94913,     0.94913,       0.948,       0.948,     0.94681,     0.94452,     0.94452,     0.94452,      0.9435,      0.9435,      0.9435,      0.9435,     0.94278,     0.94278,     0.94278,\n",
      "            0.94278,     0.94278,     0.94278,     0.94278,     0.94049,     0.94049,     0.93967,     0.93967,     0.93967,     0.93967,     0.93967,     0.93854,     0.93147,     0.93047,     0.93047,     0.92777,     0.92777,     0.92777,     0.92777,     0.92777,     0.92777,     0.92777,     0.92777,\n",
      "            0.92777,     0.92777,      0.9268,      0.9268,     0.92469,     0.92469,     0.92383,     0.92383,     0.92383,     0.92166,     0.92063,     0.91971,     0.91971,     0.91425,     0.91425,     0.91346,     0.91346,     0.91346,     0.91029,     0.90952,     0.90952,     0.90952,     0.90888,\n",
      "            0.90888,     0.90888,     0.90888,     0.90791,     0.90376,     0.90175,     0.89977,     0.89895,     0.89895,     0.89699,     0.89607,     0.89607,      0.8922,      0.8922,     0.87627,     0.87542,     0.87068,     0.86903,     0.86903,      0.8663,     0.86549,     0.86279,     0.86199,\n",
      "            0.85854,     0.85854,      0.8559,     0.85145,     0.84813,     0.84813,      0.8411,     0.84038,     0.84038,     0.83966,     0.83631,     0.83299,     0.83144,     0.83144,     0.83144,     0.83144,     0.83144,     0.83144,     0.82904,     0.82096,     0.82096,      0.8137,     0.81062,\n",
      "               0.81,     0.78738,     0.78703,     0.78703,     0.78345,      0.7829,      0.7829,     0.78257,     0.78257,        0.78,        0.78,     0.77505,     0.77307,     0.76345,     0.76345,     0.75527,     0.74661,      0.7375,     0.72544,     0.71937,     0.71466,     0.69308,     0.69308,\n",
      "            0.69276,        0.68,      0.6764,      0.6764,     0.67557,     0.66087,     0.65957,     0.65932,     0.64291,     0.63781,     0.63043,     0.63024,     0.62398,     0.62059,     0.61769,     0.61662,     0.61377,     0.61272,      0.6047,     0.60071,     0.59818,     0.59818,     0.59818,\n",
      "            0.59512,     0.59512,     0.59129,     0.59075,     0.58578,     0.58367,     0.58001,     0.57641,     0.57631,     0.57543,      0.5738,     0.57105,     0.56573,     0.56454,     0.56262,     0.56218,     0.55527,      0.5552,     0.54745,     0.54161,     0.53989,     0.53989,     0.53554,\n",
      "            0.53419,     0.53382,     0.53248,     0.53172,     0.53172,     0.53172,     0.53001,     0.53001,     0.53001,     0.52494,     0.51906,     0.51422,      0.5139,     0.51329,      0.5118,     0.51179,     0.50885,     0.50424,     0.50424,     0.50253,     0.50253,     0.50168,     0.50168,\n",
      "            0.50056,     0.49889,     0.49559,     0.49478,     0.48835,     0.48783,     0.48522,     0.48213,      0.4819,     0.48038,     0.47966,     0.47966,     0.47123,     0.46381,     0.46361,     0.45623,     0.45623,     0.45536,      0.4536,     0.44809,     0.43167,     0.42691,     0.41652,\n",
      "            0.41322,     0.40998,     0.40662,     0.40545,     0.38015,     0.37822,     0.33142,     0.31358,     0.30706,      0.2933,     0.28806,     0.26732,     0.26419,     0.26419,     0.25803,     0.25513,     0.23327,     0.23115,     0.22008,     0.21816,     0.20961,     0.18683,     0.17401,\n",
      "            0.15906,     0.15125,    0.093948,    0.082205,    0.070461,    0.058718,    0.046974,    0.035231,    0.023487,    0.011744,           0]]), 'Recall', 'Precision'], [array([          0,    0.001001,    0.002002,    0.003003,    0.004004,    0.005005,    0.006006,    0.007007,    0.008008,    0.009009,     0.01001,    0.011011,    0.012012,    0.013013,    0.014014,    0.015015,    0.016016,    0.017017,    0.018018,    0.019019,     0.02002,    0.021021,    0.022022,    0.023023,\n",
      "          0.024024,    0.025025,    0.026026,    0.027027,    0.028028,    0.029029,     0.03003,    0.031031,    0.032032,    0.033033,    0.034034,    0.035035,    0.036036,    0.037037,    0.038038,    0.039039,     0.04004,    0.041041,    0.042042,    0.043043,    0.044044,    0.045045,    0.046046,    0.047047,\n",
      "          0.048048,    0.049049,     0.05005,    0.051051,    0.052052,    0.053053,    0.054054,    0.055055,    0.056056,    0.057057,    0.058058,    0.059059,     0.06006,    0.061061,    0.062062,    0.063063,    0.064064,    0.065065,    0.066066,    0.067067,    0.068068,    0.069069,     0.07007,    0.071071,\n",
      "          0.072072,    0.073073,    0.074074,    0.075075,    0.076076,    0.077077,    0.078078,    0.079079,     0.08008,    0.081081,    0.082082,    0.083083,    0.084084,    0.085085,    0.086086,    0.087087,    0.088088,    0.089089,     0.09009,    0.091091,    0.092092,    0.093093,    0.094094,    0.095095,\n",
      "          0.096096,    0.097097,    0.098098,    0.099099,      0.1001,      0.1011,      0.1021,      0.1031,      0.1041,     0.10511,     0.10611,     0.10711,     0.10811,     0.10911,     0.11011,     0.11111,     0.11211,     0.11311,     0.11411,     0.11512,     0.11612,     0.11712,     0.11812,     0.11912,\n",
      "           0.12012,     0.12112,     0.12212,     0.12312,     0.12412,     0.12513,     0.12613,     0.12713,     0.12813,     0.12913,     0.13013,     0.13113,     0.13213,     0.13313,     0.13413,     0.13514,     0.13614,     0.13714,     0.13814,     0.13914,     0.14014,     0.14114,     0.14214,     0.14314,\n",
      "           0.14414,     0.14515,     0.14615,     0.14715,     0.14815,     0.14915,     0.15015,     0.15115,     0.15215,     0.15315,     0.15415,     0.15516,     0.15616,     0.15716,     0.15816,     0.15916,     0.16016,     0.16116,     0.16216,     0.16316,     0.16416,     0.16517,     0.16617,     0.16717,\n",
      "           0.16817,     0.16917,     0.17017,     0.17117,     0.17217,     0.17317,     0.17417,     0.17518,     0.17618,     0.17718,     0.17818,     0.17918,     0.18018,     0.18118,     0.18218,     0.18318,     0.18418,     0.18519,     0.18619,     0.18719,     0.18819,     0.18919,     0.19019,     0.19119,\n",
      "           0.19219,     0.19319,     0.19419,      0.1952,      0.1962,      0.1972,      0.1982,      0.1992,      0.2002,      0.2012,      0.2022,      0.2032,      0.2042,     0.20521,     0.20621,     0.20721,     0.20821,     0.20921,     0.21021,     0.21121,     0.21221,     0.21321,     0.21421,     0.21522,\n",
      "           0.21622,     0.21722,     0.21822,     0.21922,     0.22022,     0.22122,     0.22222,     0.22322,     0.22422,     0.22523,     0.22623,     0.22723,     0.22823,     0.22923,     0.23023,     0.23123,     0.23223,     0.23323,     0.23423,     0.23524,     0.23624,     0.23724,     0.23824,     0.23924,\n",
      "           0.24024,     0.24124,     0.24224,     0.24324,     0.24424,     0.24525,     0.24625,     0.24725,     0.24825,     0.24925,     0.25025,     0.25125,     0.25225,     0.25325,     0.25425,     0.25526,     0.25626,     0.25726,     0.25826,     0.25926,     0.26026,     0.26126,     0.26226,     0.26326,\n",
      "           0.26426,     0.26527,     0.26627,     0.26727,     0.26827,     0.26927,     0.27027,     0.27127,     0.27227,     0.27327,     0.27427,     0.27528,     0.27628,     0.27728,     0.27828,     0.27928,     0.28028,     0.28128,     0.28228,     0.28328,     0.28428,     0.28529,     0.28629,     0.28729,\n",
      "           0.28829,     0.28929,     0.29029,     0.29129,     0.29229,     0.29329,     0.29429,      0.2953,      0.2963,      0.2973,      0.2983,      0.2993,      0.3003,      0.3013,      0.3023,      0.3033,      0.3043,     0.30531,     0.30631,     0.30731,     0.30831,     0.30931,     0.31031,     0.31131,\n",
      "           0.31231,     0.31331,     0.31431,     0.31532,     0.31632,     0.31732,     0.31832,     0.31932,     0.32032,     0.32132,     0.32232,     0.32332,     0.32432,     0.32533,     0.32633,     0.32733,     0.32833,     0.32933,     0.33033,     0.33133,     0.33233,     0.33333,     0.33433,     0.33534,\n",
      "           0.33634,     0.33734,     0.33834,     0.33934,     0.34034,     0.34134,     0.34234,     0.34334,     0.34434,     0.34535,     0.34635,     0.34735,     0.34835,     0.34935,     0.35035,     0.35135,     0.35235,     0.35335,     0.35435,     0.35536,     0.35636,     0.35736,     0.35836,     0.35936,\n",
      "           0.36036,     0.36136,     0.36236,     0.36336,     0.36436,     0.36537,     0.36637,     0.36737,     0.36837,     0.36937,     0.37037,     0.37137,     0.37237,     0.37337,     0.37437,     0.37538,     0.37638,     0.37738,     0.37838,     0.37938,     0.38038,     0.38138,     0.38238,     0.38338,\n",
      "           0.38438,     0.38539,     0.38639,     0.38739,     0.38839,     0.38939,     0.39039,     0.39139,     0.39239,     0.39339,     0.39439,      0.3954,      0.3964,      0.3974,      0.3984,      0.3994,      0.4004,      0.4014,      0.4024,      0.4034,      0.4044,     0.40541,     0.40641,     0.40741,\n",
      "           0.40841,     0.40941,     0.41041,     0.41141,     0.41241,     0.41341,     0.41441,     0.41542,     0.41642,     0.41742,     0.41842,     0.41942,     0.42042,     0.42142,     0.42242,     0.42342,     0.42442,     0.42543,     0.42643,     0.42743,     0.42843,     0.42943,     0.43043,     0.43143,\n",
      "           0.43243,     0.43343,     0.43443,     0.43544,     0.43644,     0.43744,     0.43844,     0.43944,     0.44044,     0.44144,     0.44244,     0.44344,     0.44444,     0.44545,     0.44645,     0.44745,     0.44845,     0.44945,     0.45045,     0.45145,     0.45245,     0.45345,     0.45445,     0.45546,\n",
      "           0.45646,     0.45746,     0.45846,     0.45946,     0.46046,     0.46146,     0.46246,     0.46346,     0.46446,     0.46547,     0.46647,     0.46747,     0.46847,     0.46947,     0.47047,     0.47147,     0.47247,     0.47347,     0.47447,     0.47548,     0.47648,     0.47748,     0.47848,     0.47948,\n",
      "           0.48048,     0.48148,     0.48248,     0.48348,     0.48448,     0.48549,     0.48649,     0.48749,     0.48849,     0.48949,     0.49049,     0.49149,     0.49249,     0.49349,     0.49449,      0.4955,      0.4965,      0.4975,      0.4985,      0.4995,      0.5005,      0.5015,      0.5025,      0.5035,\n",
      "            0.5045,     0.50551,     0.50651,     0.50751,     0.50851,     0.50951,     0.51051,     0.51151,     0.51251,     0.51351,     0.51451,     0.51552,     0.51652,     0.51752,     0.51852,     0.51952,     0.52052,     0.52152,     0.52252,     0.52352,     0.52452,     0.52553,     0.52653,     0.52753,\n",
      "           0.52853,     0.52953,     0.53053,     0.53153,     0.53253,     0.53353,     0.53453,     0.53554,     0.53654,     0.53754,     0.53854,     0.53954,     0.54054,     0.54154,     0.54254,     0.54354,     0.54454,     0.54555,     0.54655,     0.54755,     0.54855,     0.54955,     0.55055,     0.55155,\n",
      "           0.55255,     0.55355,     0.55455,     0.55556,     0.55656,     0.55756,     0.55856,     0.55956,     0.56056,     0.56156,     0.56256,     0.56356,     0.56456,     0.56557,     0.56657,     0.56757,     0.56857,     0.56957,     0.57057,     0.57157,     0.57257,     0.57357,     0.57457,     0.57558,\n",
      "           0.57658,     0.57758,     0.57858,     0.57958,     0.58058,     0.58158,     0.58258,     0.58358,     0.58458,     0.58559,     0.58659,     0.58759,     0.58859,     0.58959,     0.59059,     0.59159,     0.59259,     0.59359,     0.59459,      0.5956,      0.5966,      0.5976,      0.5986,      0.5996,\n",
      "            0.6006,      0.6016,      0.6026,      0.6036,      0.6046,     0.60561,     0.60661,     0.60761,     0.60861,     0.60961,     0.61061,     0.61161,     0.61261,     0.61361,     0.61461,     0.61562,     0.61662,     0.61762,     0.61862,     0.61962,     0.62062,     0.62162,     0.62262,     0.62362,\n",
      "           0.62462,     0.62563,     0.62663,     0.62763,     0.62863,     0.62963,     0.63063,     0.63163,     0.63263,     0.63363,     0.63463,     0.63564,     0.63664,     0.63764,     0.63864,     0.63964,     0.64064,     0.64164,     0.64264,     0.64364,     0.64464,     0.64565,     0.64665,     0.64765,\n",
      "           0.64865,     0.64965,     0.65065,     0.65165,     0.65265,     0.65365,     0.65465,     0.65566,     0.65666,     0.65766,     0.65866,     0.65966,     0.66066,     0.66166,     0.66266,     0.66366,     0.66466,     0.66567,     0.66667,     0.66767,     0.66867,     0.66967,     0.67067,     0.67167,\n",
      "           0.67267,     0.67367,     0.67467,     0.67568,     0.67668,     0.67768,     0.67868,     0.67968,     0.68068,     0.68168,     0.68268,     0.68368,     0.68468,     0.68569,     0.68669,     0.68769,     0.68869,     0.68969,     0.69069,     0.69169,     0.69269,     0.69369,     0.69469,      0.6957,\n",
      "            0.6967,      0.6977,      0.6987,      0.6997,      0.7007,      0.7017,      0.7027,      0.7037,      0.7047,     0.70571,     0.70671,     0.70771,     0.70871,     0.70971,     0.71071,     0.71171,     0.71271,     0.71371,     0.71471,     0.71572,     0.71672,     0.71772,     0.71872,     0.71972,\n",
      "           0.72072,     0.72172,     0.72272,     0.72372,     0.72472,     0.72573,     0.72673,     0.72773,     0.72873,     0.72973,     0.73073,     0.73173,     0.73273,     0.73373,     0.73473,     0.73574,     0.73674,     0.73774,     0.73874,     0.73974,     0.74074,     0.74174,     0.74274,     0.74374,\n",
      "           0.74474,     0.74575,     0.74675,     0.74775,     0.74875,     0.74975,     0.75075,     0.75175,     0.75275,     0.75375,     0.75475,     0.75576,     0.75676,     0.75776,     0.75876,     0.75976,     0.76076,     0.76176,     0.76276,     0.76376,     0.76476,     0.76577,     0.76677,     0.76777,\n",
      "           0.76877,     0.76977,     0.77077,     0.77177,     0.77277,     0.77377,     0.77477,     0.77578,     0.77678,     0.77778,     0.77878,     0.77978,     0.78078,     0.78178,     0.78278,     0.78378,     0.78478,     0.78579,     0.78679,     0.78779,     0.78879,     0.78979,     0.79079,     0.79179,\n",
      "           0.79279,     0.79379,     0.79479,      0.7958,      0.7968,      0.7978,      0.7988,      0.7998,      0.8008,      0.8018,      0.8028,      0.8038,      0.8048,     0.80581,     0.80681,     0.80781,     0.80881,     0.80981,     0.81081,     0.81181,     0.81281,     0.81381,     0.81481,     0.81582,\n",
      "           0.81682,     0.81782,     0.81882,     0.81982,     0.82082,     0.82182,     0.82282,     0.82382,     0.82482,     0.82583,     0.82683,     0.82783,     0.82883,     0.82983,     0.83083,     0.83183,     0.83283,     0.83383,     0.83483,     0.83584,     0.83684,     0.83784,     0.83884,     0.83984,\n",
      "           0.84084,     0.84184,     0.84284,     0.84384,     0.84484,     0.84585,     0.84685,     0.84785,     0.84885,     0.84985,     0.85085,     0.85185,     0.85285,     0.85385,     0.85485,     0.85586,     0.85686,     0.85786,     0.85886,     0.85986,     0.86086,     0.86186,     0.86286,     0.86386,\n",
      "           0.86486,     0.86587,     0.86687,     0.86787,     0.86887,     0.86987,     0.87087,     0.87187,     0.87287,     0.87387,     0.87487,     0.87588,     0.87688,     0.87788,     0.87888,     0.87988,     0.88088,     0.88188,     0.88288,     0.88388,     0.88488,     0.88589,     0.88689,     0.88789,\n",
      "           0.88889,     0.88989,     0.89089,     0.89189,     0.89289,     0.89389,     0.89489,      0.8959,      0.8969,      0.8979,      0.8989,      0.8999,      0.9009,      0.9019,      0.9029,      0.9039,      0.9049,     0.90591,     0.90691,     0.90791,     0.90891,     0.90991,     0.91091,     0.91191,\n",
      "           0.91291,     0.91391,     0.91491,     0.91592,     0.91692,     0.91792,     0.91892,     0.91992,     0.92092,     0.92192,     0.92292,     0.92392,     0.92492,     0.92593,     0.92693,     0.92793,     0.92893,     0.92993,     0.93093,     0.93193,     0.93293,     0.93393,     0.93493,     0.93594,\n",
      "           0.93694,     0.93794,     0.93894,     0.93994,     0.94094,     0.94194,     0.94294,     0.94394,     0.94494,     0.94595,     0.94695,     0.94795,     0.94895,     0.94995,     0.95095,     0.95195,     0.95295,     0.95395,     0.95495,     0.95596,     0.95696,     0.95796,     0.95896,     0.95996,\n",
      "           0.96096,     0.96196,     0.96296,     0.96396,     0.96496,     0.96597,     0.96697,     0.96797,     0.96897,     0.96997,     0.97097,     0.97197,     0.97297,     0.97397,     0.97497,     0.97598,     0.97698,     0.97798,     0.97898,     0.97998,     0.98098,     0.98198,     0.98298,     0.98398,\n",
      "           0.98498,     0.98599,     0.98699,     0.98799,     0.98899,     0.98999,     0.99099,     0.99199,     0.99299,     0.99399,     0.99499,       0.996,       0.997,       0.998,       0.999,           1]), array([[    0.17969,     0.17978,     0.25263,     0.30046,     0.33545,     0.36069,       0.381,     0.40095,     0.41633,     0.42824,     0.44272,     0.45546,     0.46521,     0.47401,     0.48214,     0.48971,     0.49532,     0.50402,     0.51114,     0.51697,     0.52401,     0.53043,     0.53501,\n",
      "            0.53947,     0.54404,     0.54759,     0.55119,     0.55595,     0.55967,     0.56231,     0.56449,     0.56868,     0.57153,     0.57328,     0.57588,     0.57896,     0.58154,     0.58451,     0.58693,     0.58969,      0.5926,     0.59521,     0.59633,     0.59757,     0.59939,     0.60097,\n",
      "            0.60406,     0.60642,     0.60837,     0.61038,     0.61183,      0.6136,     0.61532,     0.61652,     0.61782,     0.61848,     0.62063,     0.62297,     0.62426,     0.62479,     0.62675,     0.62741,     0.62891,     0.63076,     0.63269,     0.63387,     0.63507,     0.63702,     0.63817,\n",
      "            0.63822,     0.63972,     0.64125,     0.64242,     0.64466,      0.6458,     0.64802,     0.64964,     0.65021,     0.65125,     0.65293,     0.65322,     0.65396,     0.65429,     0.65476,     0.65759,     0.65852,     0.65973,     0.66001,     0.66127,     0.66162,     0.66152,     0.66292,\n",
      "            0.66244,      0.6632,     0.66432,     0.66571,     0.66643,     0.66689,     0.66797,     0.66842,     0.66944,      0.6711,     0.67193,     0.67279,     0.67395,     0.67497,     0.67412,      0.6739,     0.67522,     0.67432,     0.67514,     0.67531,     0.67588,     0.67656,     0.67804,\n",
      "            0.67877,      0.6799,     0.67999,     0.68024,     0.68068,     0.68098,     0.68124,     0.68079,     0.68216,     0.68322,     0.68393,     0.68443,     0.68496,     0.68554,     0.68584,     0.68667,     0.68739,     0.68881,     0.68993,     0.69103,     0.69056,     0.69199,     0.69235,\n",
      "            0.69258,     0.69343,       0.695,     0.69543,     0.69559,     0.69593,     0.69608,     0.69599,     0.69647,     0.69698,     0.69687,     0.69752,     0.69751,     0.69829,     0.69885,     0.69915,     0.69971,     0.70038,     0.70067,     0.70142,     0.70115,     0.70193,     0.70238,\n",
      "            0.70273,     0.70305,     0.70323,      0.7035,     0.70408,     0.70391,     0.70418,     0.70408,      0.7044,     0.70502,     0.70564,     0.70627,     0.70703,     0.70834,     0.70884,     0.70903,     0.70928,     0.70957,     0.71005,     0.70992,     0.71114,     0.71178,     0.71306,\n",
      "            0.71334,     0.71352,     0.71344,      0.7132,     0.71351,     0.71317,     0.71334,     0.71386,     0.71475,     0.71532,     0.71586,     0.71613,     0.71614,     0.71661,     0.71787,      0.7164,     0.71704,     0.71741,     0.71825,     0.71842,     0.71869,     0.71922,     0.71998,\n",
      "            0.72092,     0.72101,     0.72132,     0.72247,     0.72291,     0.72388,     0.72413,     0.72478,     0.72525,     0.72636,     0.72656,     0.72623,     0.72689,     0.72672,     0.72715,     0.72751,      0.7277,     0.72891,     0.72867,     0.72876,      0.7293,     0.72977,     0.73006,\n",
      "            0.73044,     0.73081,     0.73148,     0.73184,     0.73266,     0.73261,     0.73418,     0.73468,     0.73622,     0.73646,     0.73663,     0.73613,     0.73595,     0.73604,     0.73612,     0.73645,     0.73714,     0.73742,      0.7379,     0.73865,     0.73936,     0.73962,     0.74046,\n",
      "             0.7406,     0.74105,     0.74155,     0.74203,     0.74297,     0.74389,     0.74395,     0.74413,     0.74503,       0.746,     0.74644,     0.74714,     0.74785,     0.74843,     0.74893,     0.74917,     0.75029,     0.75068,     0.75163,     0.75252,     0.75296,      0.7531,     0.75324,\n",
      "             0.7544,     0.75421,     0.75439,     0.75484,     0.75465,     0.75533,     0.75582,     0.75646,       0.757,     0.75771,     0.75876,      0.7591,     0.75967,     0.76016,     0.76033,      0.7605,     0.76066,     0.76081,     0.76124,     0.76183,     0.76329,     0.76349,     0.76375,\n",
      "             0.7634,     0.76362,     0.76534,     0.76561,     0.76685,     0.76697,     0.76709,     0.76763,     0.76823,     0.76909,     0.77008,     0.77057,     0.77112,     0.77254,     0.77306,     0.77269,     0.77245,      0.7731,     0.77373,     0.77396,     0.77465,     0.77506,     0.77592,\n",
      "            0.77607,     0.77621,     0.77651,     0.77736,     0.77807,     0.77842,     0.77869,     0.77958,     0.77979,     0.78103,     0.78174,     0.78259,     0.78314,     0.78358,     0.78393,     0.78426,     0.78543,     0.78577,     0.78546,     0.78584,     0.78625,     0.78689,      0.7872,\n",
      "            0.78736,     0.78752,      0.7877,     0.78786,       0.788,     0.78814,     0.78779,      0.7878,     0.78839,     0.78853,     0.78867,     0.78886,     0.78923,     0.79063,     0.79105,     0.79089,     0.79105,     0.79123,     0.79148,     0.79198,     0.79214,     0.79229,     0.79277,\n",
      "            0.79288,     0.79299,     0.79318,     0.79368,     0.79401,     0.79455,      0.7962,     0.79654,     0.79668,     0.79683,      0.7971,     0.79743,     0.79766,     0.79781,     0.79751,     0.79771,     0.79795,     0.79905,     0.79922,     0.79938,     0.80013,     0.80113,     0.80173,\n",
      "            0.80206,     0.80249,     0.80321,     0.80351,     0.80404,     0.80435,     0.80464,     0.80497,     0.80521,     0.80541,     0.80614,     0.80663,     0.80735,     0.80705,     0.80732,     0.80796,     0.80865,      0.8089,     0.80943,     0.80973,     0.80984,     0.80995,     0.81025,\n",
      "            0.81105,     0.81154,     0.81134,     0.81114,      0.8106,     0.81163,     0.81212,     0.81224,     0.81237,     0.81255,     0.81303,     0.81409,     0.81442,      0.8153,     0.81582,     0.81557,     0.81583,     0.81605,     0.81625,     0.81648,     0.81673,     0.81655,      0.8174,\n",
      "            0.81778,     0.81787,     0.81797,     0.81807,     0.81817,     0.81844,     0.81891,     0.81842,     0.81909,     0.81931,     0.81835,     0.81867,     0.81822,      0.8184,     0.81828,       0.818,     0.81846,     0.81926,     0.81955,     0.81967,     0.81979,     0.81991,     0.81931,\n",
      "            0.81886,     0.81909,     0.81862,     0.81931,     0.81955,      0.8197,     0.81988,     0.82145,     0.82214,     0.82256,     0.82289,     0.82344,     0.82434,     0.82533,     0.82695,     0.82736,     0.82792,     0.82866,     0.82919,     0.82944,     0.82957,     0.82966,     0.82975,\n",
      "            0.82984,     0.83013,     0.83059,     0.83052,     0.83017,      0.8305,     0.83074,     0.83102,     0.83153,     0.83126,     0.83136,     0.83214,     0.83334,     0.83351,     0.83368,     0.83398,     0.83446,     0.83475,      0.8345,     0.83445,     0.83488,     0.83515,     0.83538,\n",
      "            0.83575,     0.83681,     0.83767,     0.83794,     0.83795,     0.83758,     0.83757,     0.83767,     0.83776,     0.83786,     0.83798,     0.83823,     0.83874,     0.83851,     0.83828,     0.83773,     0.83731,     0.83694,     0.83609,     0.83584,      0.8359,     0.83637,     0.83649,\n",
      "            0.83661,     0.83674,     0.83738,     0.83751,     0.83755,     0.83795,     0.83856,     0.83862,     0.83833,     0.83825,     0.83846,     0.83851,     0.83822,     0.83803,     0.83817,     0.83831,     0.83838,     0.83784,     0.83805,     0.83842,     0.83934,     0.83964,      0.8399,\n",
      "            0.84026,     0.84086,     0.84116,     0.84115,     0.84044,     0.84074,     0.84093,     0.84191,     0.84179,     0.84194,     0.84209,      0.8424,     0.84288,     0.84342,     0.84335,     0.84395,      0.8442,      0.8434,     0.84369,     0.84388,     0.84408,      0.8443,     0.84451,\n",
      "            0.84474,     0.84456,     0.84415,     0.84467,     0.84514,     0.84538,     0.84524,     0.84492,     0.84495,     0.84545,     0.84575,       0.846,     0.84555,     0.84493,     0.84515,     0.84541,     0.84569,     0.84563,     0.84582,     0.84606,     0.84678,     0.84732,     0.84699,\n",
      "            0.84722,     0.84829,     0.84911,     0.85002,     0.85076,     0.85093,      0.8511,     0.85131,      0.8516,     0.85221,     0.85301,       0.854,      0.8528,     0.85292,     0.85304,     0.85316,     0.85338,     0.85371,     0.85404,     0.85435,     0.85433,     0.85434,     0.85398,\n",
      "            0.85469,     0.85419,     0.85378,     0.85363,     0.85395,     0.85354,      0.8538,     0.85408,     0.85426,     0.85493,     0.85513,     0.85533,      0.8558,     0.85544,     0.85469,     0.85373,     0.85316,     0.85327,     0.85338,     0.85349,     0.85359,     0.85178,     0.85207,\n",
      "            0.85167,     0.85189,     0.85254,      0.8529,     0.85207,     0.85145,      0.8511,     0.85092,     0.85113,     0.85134,     0.85238,     0.85308,     0.85312,     0.85285,     0.85251,     0.85246,     0.85199,     0.85192,       0.852,     0.85123,     0.85085,     0.84996,      0.8504,\n",
      "               0.85,     0.84953,     0.84921,     0.84899,     0.84877,     0.84726,     0.84699,     0.84672,     0.84613,     0.84575,     0.84543,      0.8447,     0.84507,     0.84524,     0.84541,     0.84424,     0.84419,     0.84572,     0.84661,     0.84684,     0.84639,     0.84637,     0.84652,\n",
      "            0.84668,     0.84628,     0.84516,      0.8448,     0.84359,     0.84316,     0.84269,     0.84341,     0.84292,     0.84195,     0.84153,     0.84045,     0.83909,       0.838,     0.83766,     0.83739,     0.83754,     0.83734,     0.83682,     0.83626,     0.83603,     0.83636,     0.83557,\n",
      "            0.83533,     0.83284,     0.83228,      0.8304,     0.83056,     0.83017,     0.83026,     0.82994,     0.82871,     0.82891,     0.82852,     0.82788,     0.82792,     0.82751,     0.82775,     0.82749,     0.82438,     0.82353,     0.82313,     0.82241,     0.82165,     0.82205,     0.82228,\n",
      "            0.82249,     0.82242,     0.82193,     0.82137,     0.81977,     0.81908,     0.81877,       0.819,     0.81868,      0.8186,     0.81843,     0.81768,     0.81634,     0.81587,     0.81445,     0.81324,     0.81324,     0.81335,     0.81125,     0.80957,     0.80713,     0.80587,     0.80554,\n",
      "            0.80585,     0.80466,     0.80345,     0.80308,     0.80169,     0.80079,     0.80124,     0.79968,     0.79827,     0.79755,     0.79715,     0.79608,     0.79556,     0.79524,     0.79525,     0.79396,     0.79178,     0.78915,      0.7885,     0.78797,     0.78772,     0.78655,     0.78624,\n",
      "            0.78593,     0.78496,     0.78458,     0.78282,     0.78181,     0.78129,     0.78159,     0.77858,     0.77623,     0.77449,     0.77279,     0.76859,     0.76781,     0.76726,     0.76607,     0.76548,     0.76194,     0.75803,     0.75754,      0.7571,     0.75674,     0.75458,     0.75337,\n",
      "             0.7526,     0.75139,     0.74895,     0.74536,     0.74416,     0.74351,     0.74277,     0.73973,     0.73843,     0.73712,     0.73745,     0.73495,     0.73428,     0.73211,     0.73046,     0.72835,     0.72725,     0.72643,     0.72404,     0.72159,     0.71904,     0.71684,     0.71608,\n",
      "            0.71385,     0.71119,     0.70901,     0.70361,     0.69623,      0.6937,     0.69079,     0.68857,     0.68284,     0.68109,     0.67614,     0.67241,     0.67065,     0.66625,     0.66196,     0.65875,     0.65507,     0.65064,     0.64472,     0.63896,     0.63402,     0.62733,     0.62418,\n",
      "             0.6216,     0.61777,      0.6145,     0.61201,     0.61024,     0.60458,     0.59782,     0.59251,     0.58483,     0.58047,     0.57892,     0.57344,     0.56143,     0.55366,     0.54022,     0.53296,     0.52737,     0.52389,     0.52024,     0.51684,     0.51337,      0.5069,     0.50207,\n",
      "            0.49417,     0.48681,     0.48174,     0.47912,     0.47046,     0.46313,     0.45204,     0.44629,     0.43562,     0.42568,     0.41381,     0.40511,     0.39422,     0.38723,     0.37744,     0.36862,     0.35742,     0.33875,     0.32964,     0.32343,     0.31587,     0.30769,     0.30451,\n",
      "            0.29866,     0.28696,     0.28223,      0.2675,     0.26075,     0.24556,     0.23733,     0.22932,     0.22392,     0.21568,     0.21054,     0.20609,     0.20076,     0.19744,     0.19483,     0.19241,     0.18227,     0.17335,     0.16803,     0.16175,     0.15593,     0.14414,     0.14171,\n",
      "            0.13714,     0.13265,     0.12828,     0.12239,     0.12011,     0.11077,    0.099156,     0.09121,    0.086172,    0.074738,    0.073323,    0.068602,    0.066564,    0.063639,    0.059619,    0.056806,    0.055192,    0.053335,    0.048089,    0.045534,    0.041797,    0.037057,    0.036178,\n",
      "           0.035298,    0.033091,    0.028754,    0.027085,    0.024972,    0.021746,    0.019625,    0.016702,     0.01274,    0.011691,    0.010733,    0.009789,   0.0088489,   0.0079146,   0.0069861,   0.0060712,   0.0051973,   0.0043227,   0.0033921,   0.0024518,           0,           0,           0,\n",
      "                  0,           0,           0,           0,           0,           0,           0,           0,           0,           0,           0,           0,           0,           0,           0,           0,           0,           0,           0,           0,           0,           0,           0,\n",
      "                  0,           0,           0,           0,           0,           0,           0,           0,           0,           0,           0]]), 'Confidence', 'F1'], [array([          0,    0.001001,    0.002002,    0.003003,    0.004004,    0.005005,    0.006006,    0.007007,    0.008008,    0.009009,     0.01001,    0.011011,    0.012012,    0.013013,    0.014014,    0.015015,    0.016016,    0.017017,    0.018018,    0.019019,     0.02002,    0.021021,    0.022022,    0.023023,\n",
      "          0.024024,    0.025025,    0.026026,    0.027027,    0.028028,    0.029029,     0.03003,    0.031031,    0.032032,    0.033033,    0.034034,    0.035035,    0.036036,    0.037037,    0.038038,    0.039039,     0.04004,    0.041041,    0.042042,    0.043043,    0.044044,    0.045045,    0.046046,    0.047047,\n",
      "          0.048048,    0.049049,     0.05005,    0.051051,    0.052052,    0.053053,    0.054054,    0.055055,    0.056056,    0.057057,    0.058058,    0.059059,     0.06006,    0.061061,    0.062062,    0.063063,    0.064064,    0.065065,    0.066066,    0.067067,    0.068068,    0.069069,     0.07007,    0.071071,\n",
      "          0.072072,    0.073073,    0.074074,    0.075075,    0.076076,    0.077077,    0.078078,    0.079079,     0.08008,    0.081081,    0.082082,    0.083083,    0.084084,    0.085085,    0.086086,    0.087087,    0.088088,    0.089089,     0.09009,    0.091091,    0.092092,    0.093093,    0.094094,    0.095095,\n",
      "          0.096096,    0.097097,    0.098098,    0.099099,      0.1001,      0.1011,      0.1021,      0.1031,      0.1041,     0.10511,     0.10611,     0.10711,     0.10811,     0.10911,     0.11011,     0.11111,     0.11211,     0.11311,     0.11411,     0.11512,     0.11612,     0.11712,     0.11812,     0.11912,\n",
      "           0.12012,     0.12112,     0.12212,     0.12312,     0.12412,     0.12513,     0.12613,     0.12713,     0.12813,     0.12913,     0.13013,     0.13113,     0.13213,     0.13313,     0.13413,     0.13514,     0.13614,     0.13714,     0.13814,     0.13914,     0.14014,     0.14114,     0.14214,     0.14314,\n",
      "           0.14414,     0.14515,     0.14615,     0.14715,     0.14815,     0.14915,     0.15015,     0.15115,     0.15215,     0.15315,     0.15415,     0.15516,     0.15616,     0.15716,     0.15816,     0.15916,     0.16016,     0.16116,     0.16216,     0.16316,     0.16416,     0.16517,     0.16617,     0.16717,\n",
      "           0.16817,     0.16917,     0.17017,     0.17117,     0.17217,     0.17317,     0.17417,     0.17518,     0.17618,     0.17718,     0.17818,     0.17918,     0.18018,     0.18118,     0.18218,     0.18318,     0.18418,     0.18519,     0.18619,     0.18719,     0.18819,     0.18919,     0.19019,     0.19119,\n",
      "           0.19219,     0.19319,     0.19419,      0.1952,      0.1962,      0.1972,      0.1982,      0.1992,      0.2002,      0.2012,      0.2022,      0.2032,      0.2042,     0.20521,     0.20621,     0.20721,     0.20821,     0.20921,     0.21021,     0.21121,     0.21221,     0.21321,     0.21421,     0.21522,\n",
      "           0.21622,     0.21722,     0.21822,     0.21922,     0.22022,     0.22122,     0.22222,     0.22322,     0.22422,     0.22523,     0.22623,     0.22723,     0.22823,     0.22923,     0.23023,     0.23123,     0.23223,     0.23323,     0.23423,     0.23524,     0.23624,     0.23724,     0.23824,     0.23924,\n",
      "           0.24024,     0.24124,     0.24224,     0.24324,     0.24424,     0.24525,     0.24625,     0.24725,     0.24825,     0.24925,     0.25025,     0.25125,     0.25225,     0.25325,     0.25425,     0.25526,     0.25626,     0.25726,     0.25826,     0.25926,     0.26026,     0.26126,     0.26226,     0.26326,\n",
      "           0.26426,     0.26527,     0.26627,     0.26727,     0.26827,     0.26927,     0.27027,     0.27127,     0.27227,     0.27327,     0.27427,     0.27528,     0.27628,     0.27728,     0.27828,     0.27928,     0.28028,     0.28128,     0.28228,     0.28328,     0.28428,     0.28529,     0.28629,     0.28729,\n",
      "           0.28829,     0.28929,     0.29029,     0.29129,     0.29229,     0.29329,     0.29429,      0.2953,      0.2963,      0.2973,      0.2983,      0.2993,      0.3003,      0.3013,      0.3023,      0.3033,      0.3043,     0.30531,     0.30631,     0.30731,     0.30831,     0.30931,     0.31031,     0.31131,\n",
      "           0.31231,     0.31331,     0.31431,     0.31532,     0.31632,     0.31732,     0.31832,     0.31932,     0.32032,     0.32132,     0.32232,     0.32332,     0.32432,     0.32533,     0.32633,     0.32733,     0.32833,     0.32933,     0.33033,     0.33133,     0.33233,     0.33333,     0.33433,     0.33534,\n",
      "           0.33634,     0.33734,     0.33834,     0.33934,     0.34034,     0.34134,     0.34234,     0.34334,     0.34434,     0.34535,     0.34635,     0.34735,     0.34835,     0.34935,     0.35035,     0.35135,     0.35235,     0.35335,     0.35435,     0.35536,     0.35636,     0.35736,     0.35836,     0.35936,\n",
      "           0.36036,     0.36136,     0.36236,     0.36336,     0.36436,     0.36537,     0.36637,     0.36737,     0.36837,     0.36937,     0.37037,     0.37137,     0.37237,     0.37337,     0.37437,     0.37538,     0.37638,     0.37738,     0.37838,     0.37938,     0.38038,     0.38138,     0.38238,     0.38338,\n",
      "           0.38438,     0.38539,     0.38639,     0.38739,     0.38839,     0.38939,     0.39039,     0.39139,     0.39239,     0.39339,     0.39439,      0.3954,      0.3964,      0.3974,      0.3984,      0.3994,      0.4004,      0.4014,      0.4024,      0.4034,      0.4044,     0.40541,     0.40641,     0.40741,\n",
      "           0.40841,     0.40941,     0.41041,     0.41141,     0.41241,     0.41341,     0.41441,     0.41542,     0.41642,     0.41742,     0.41842,     0.41942,     0.42042,     0.42142,     0.42242,     0.42342,     0.42442,     0.42543,     0.42643,     0.42743,     0.42843,     0.42943,     0.43043,     0.43143,\n",
      "           0.43243,     0.43343,     0.43443,     0.43544,     0.43644,     0.43744,     0.43844,     0.43944,     0.44044,     0.44144,     0.44244,     0.44344,     0.44444,     0.44545,     0.44645,     0.44745,     0.44845,     0.44945,     0.45045,     0.45145,     0.45245,     0.45345,     0.45445,     0.45546,\n",
      "           0.45646,     0.45746,     0.45846,     0.45946,     0.46046,     0.46146,     0.46246,     0.46346,     0.46446,     0.46547,     0.46647,     0.46747,     0.46847,     0.46947,     0.47047,     0.47147,     0.47247,     0.47347,     0.47447,     0.47548,     0.47648,     0.47748,     0.47848,     0.47948,\n",
      "           0.48048,     0.48148,     0.48248,     0.48348,     0.48448,     0.48549,     0.48649,     0.48749,     0.48849,     0.48949,     0.49049,     0.49149,     0.49249,     0.49349,     0.49449,      0.4955,      0.4965,      0.4975,      0.4985,      0.4995,      0.5005,      0.5015,      0.5025,      0.5035,\n",
      "            0.5045,     0.50551,     0.50651,     0.50751,     0.50851,     0.50951,     0.51051,     0.51151,     0.51251,     0.51351,     0.51451,     0.51552,     0.51652,     0.51752,     0.51852,     0.51952,     0.52052,     0.52152,     0.52252,     0.52352,     0.52452,     0.52553,     0.52653,     0.52753,\n",
      "           0.52853,     0.52953,     0.53053,     0.53153,     0.53253,     0.53353,     0.53453,     0.53554,     0.53654,     0.53754,     0.53854,     0.53954,     0.54054,     0.54154,     0.54254,     0.54354,     0.54454,     0.54555,     0.54655,     0.54755,     0.54855,     0.54955,     0.55055,     0.55155,\n",
      "           0.55255,     0.55355,     0.55455,     0.55556,     0.55656,     0.55756,     0.55856,     0.55956,     0.56056,     0.56156,     0.56256,     0.56356,     0.56456,     0.56557,     0.56657,     0.56757,     0.56857,     0.56957,     0.57057,     0.57157,     0.57257,     0.57357,     0.57457,     0.57558,\n",
      "           0.57658,     0.57758,     0.57858,     0.57958,     0.58058,     0.58158,     0.58258,     0.58358,     0.58458,     0.58559,     0.58659,     0.58759,     0.58859,     0.58959,     0.59059,     0.59159,     0.59259,     0.59359,     0.59459,      0.5956,      0.5966,      0.5976,      0.5986,      0.5996,\n",
      "            0.6006,      0.6016,      0.6026,      0.6036,      0.6046,     0.60561,     0.60661,     0.60761,     0.60861,     0.60961,     0.61061,     0.61161,     0.61261,     0.61361,     0.61461,     0.61562,     0.61662,     0.61762,     0.61862,     0.61962,     0.62062,     0.62162,     0.62262,     0.62362,\n",
      "           0.62462,     0.62563,     0.62663,     0.62763,     0.62863,     0.62963,     0.63063,     0.63163,     0.63263,     0.63363,     0.63463,     0.63564,     0.63664,     0.63764,     0.63864,     0.63964,     0.64064,     0.64164,     0.64264,     0.64364,     0.64464,     0.64565,     0.64665,     0.64765,\n",
      "           0.64865,     0.64965,     0.65065,     0.65165,     0.65265,     0.65365,     0.65465,     0.65566,     0.65666,     0.65766,     0.65866,     0.65966,     0.66066,     0.66166,     0.66266,     0.66366,     0.66466,     0.66567,     0.66667,     0.66767,     0.66867,     0.66967,     0.67067,     0.67167,\n",
      "           0.67267,     0.67367,     0.67467,     0.67568,     0.67668,     0.67768,     0.67868,     0.67968,     0.68068,     0.68168,     0.68268,     0.68368,     0.68468,     0.68569,     0.68669,     0.68769,     0.68869,     0.68969,     0.69069,     0.69169,     0.69269,     0.69369,     0.69469,      0.6957,\n",
      "            0.6967,      0.6977,      0.6987,      0.6997,      0.7007,      0.7017,      0.7027,      0.7037,      0.7047,     0.70571,     0.70671,     0.70771,     0.70871,     0.70971,     0.71071,     0.71171,     0.71271,     0.71371,     0.71471,     0.71572,     0.71672,     0.71772,     0.71872,     0.71972,\n",
      "           0.72072,     0.72172,     0.72272,     0.72372,     0.72472,     0.72573,     0.72673,     0.72773,     0.72873,     0.72973,     0.73073,     0.73173,     0.73273,     0.73373,     0.73473,     0.73574,     0.73674,     0.73774,     0.73874,     0.73974,     0.74074,     0.74174,     0.74274,     0.74374,\n",
      "           0.74474,     0.74575,     0.74675,     0.74775,     0.74875,     0.74975,     0.75075,     0.75175,     0.75275,     0.75375,     0.75475,     0.75576,     0.75676,     0.75776,     0.75876,     0.75976,     0.76076,     0.76176,     0.76276,     0.76376,     0.76476,     0.76577,     0.76677,     0.76777,\n",
      "           0.76877,     0.76977,     0.77077,     0.77177,     0.77277,     0.77377,     0.77477,     0.77578,     0.77678,     0.77778,     0.77878,     0.77978,     0.78078,     0.78178,     0.78278,     0.78378,     0.78478,     0.78579,     0.78679,     0.78779,     0.78879,     0.78979,     0.79079,     0.79179,\n",
      "           0.79279,     0.79379,     0.79479,      0.7958,      0.7968,      0.7978,      0.7988,      0.7998,      0.8008,      0.8018,      0.8028,      0.8038,      0.8048,     0.80581,     0.80681,     0.80781,     0.80881,     0.80981,     0.81081,     0.81181,     0.81281,     0.81381,     0.81481,     0.81582,\n",
      "           0.81682,     0.81782,     0.81882,     0.81982,     0.82082,     0.82182,     0.82282,     0.82382,     0.82482,     0.82583,     0.82683,     0.82783,     0.82883,     0.82983,     0.83083,     0.83183,     0.83283,     0.83383,     0.83483,     0.83584,     0.83684,     0.83784,     0.83884,     0.83984,\n",
      "           0.84084,     0.84184,     0.84284,     0.84384,     0.84484,     0.84585,     0.84685,     0.84785,     0.84885,     0.84985,     0.85085,     0.85185,     0.85285,     0.85385,     0.85485,     0.85586,     0.85686,     0.85786,     0.85886,     0.85986,     0.86086,     0.86186,     0.86286,     0.86386,\n",
      "           0.86486,     0.86587,     0.86687,     0.86787,     0.86887,     0.86987,     0.87087,     0.87187,     0.87287,     0.87387,     0.87487,     0.87588,     0.87688,     0.87788,     0.87888,     0.87988,     0.88088,     0.88188,     0.88288,     0.88388,     0.88488,     0.88589,     0.88689,     0.88789,\n",
      "           0.88889,     0.88989,     0.89089,     0.89189,     0.89289,     0.89389,     0.89489,      0.8959,      0.8969,      0.8979,      0.8989,      0.8999,      0.9009,      0.9019,      0.9029,      0.9039,      0.9049,     0.90591,     0.90691,     0.90791,     0.90891,     0.90991,     0.91091,     0.91191,\n",
      "           0.91291,     0.91391,     0.91491,     0.91592,     0.91692,     0.91792,     0.91892,     0.91992,     0.92092,     0.92192,     0.92292,     0.92392,     0.92492,     0.92593,     0.92693,     0.92793,     0.92893,     0.92993,     0.93093,     0.93193,     0.93293,     0.93393,     0.93493,     0.93594,\n",
      "           0.93694,     0.93794,     0.93894,     0.93994,     0.94094,     0.94194,     0.94294,     0.94394,     0.94494,     0.94595,     0.94695,     0.94795,     0.94895,     0.94995,     0.95095,     0.95195,     0.95295,     0.95395,     0.95495,     0.95596,     0.95696,     0.95796,     0.95896,     0.95996,\n",
      "           0.96096,     0.96196,     0.96296,     0.96396,     0.96496,     0.96597,     0.96697,     0.96797,     0.96897,     0.96997,     0.97097,     0.97197,     0.97297,     0.97397,     0.97497,     0.97598,     0.97698,     0.97798,     0.97898,     0.97998,     0.98098,     0.98198,     0.98298,     0.98398,\n",
      "           0.98498,     0.98599,     0.98699,     0.98799,     0.98899,     0.98999,     0.99099,     0.99199,     0.99299,     0.99399,     0.99499,       0.996,       0.997,       0.998,       0.999,           1]), array([[   0.098794,     0.09885,     0.14475,     0.17716,     0.20205,      0.2208,     0.23634,      0.2519,     0.26438,     0.27415,     0.28613,     0.29706,      0.3054,     0.31314,     0.32039,     0.32711,     0.33226,     0.34014,     0.34666,     0.35204,     0.35861,     0.36464,     0.36899,\n",
      "            0.37324,     0.37763,     0.38139,     0.38489,     0.38954,     0.39321,     0.39583,     0.39798,     0.40216,     0.40502,     0.40715,     0.40978,     0.41315,     0.41592,     0.41916,     0.42166,     0.42452,     0.42775,     0.43047,     0.43164,     0.43316,     0.43507,     0.43674,\n",
      "               0.44,     0.44251,     0.44459,     0.44675,     0.44853,     0.45043,     0.45229,     0.45382,     0.45547,     0.45642,     0.45877,     0.46134,     0.46275,     0.46383,     0.46599,     0.46672,     0.46838,     0.47044,     0.47284,     0.47416,     0.47551,      0.4777,     0.47932,\n",
      "            0.47959,     0.48182,     0.48383,     0.48543,     0.48831,     0.48987,     0.49243,     0.49429,     0.49525,     0.49674,      0.4987,     0.49934,     0.50039,     0.50148,     0.50263,     0.50628,     0.50738,     0.50884,     0.50947,     0.51097,      0.5117,     0.51189,     0.51389,\n",
      "            0.51396,     0.51487,     0.51622,     0.51791,     0.51878,     0.51967,     0.52098,     0.52151,     0.52276,     0.52512,     0.52614,     0.52719,     0.52862,     0.52989,     0.52952,      0.5296,     0.53122,     0.53099,     0.53234,     0.53272,     0.53401,     0.53536,      0.5372,\n",
      "            0.53813,     0.53954,     0.53979,     0.54034,      0.5409,     0.54128,     0.54161,     0.54136,     0.54313,     0.54448,     0.54538,     0.54602,     0.54669,     0.54743,     0.54819,     0.54926,     0.55018,     0.55199,     0.55344,     0.55506,       0.555,     0.55688,     0.55733,\n",
      "            0.55763,     0.55874,     0.56078,     0.56134,     0.56195,     0.56239,     0.56259,     0.56287,     0.56349,     0.56416,     0.56442,     0.56528,     0.56567,      0.5667,     0.56744,     0.56783,     0.56857,     0.56946,     0.56984,     0.57083,     0.57089,     0.57192,     0.57252,\n",
      "              0.573,     0.57341,     0.57407,     0.57444,     0.57521,      0.5754,     0.57609,     0.57627,     0.57692,     0.57774,     0.57858,     0.57986,     0.58089,     0.58265,     0.58354,     0.58403,     0.58437,     0.58477,     0.58542,     0.58557,     0.58735,     0.58821,     0.58997,\n",
      "            0.59035,      0.5906,     0.59065,     0.59061,     0.59104,     0.59103,     0.59125,     0.59198,     0.59321,     0.59399,     0.59473,     0.59511,     0.59558,     0.59624,     0.59798,     0.59734,     0.59822,     0.59875,     0.59991,     0.60015,     0.60064,     0.60175,     0.60281,\n",
      "            0.60413,     0.60454,     0.60518,      0.6068,     0.60742,     0.60878,     0.60915,     0.61007,     0.61073,     0.61231,     0.61259,     0.61262,     0.61369,     0.61381,     0.61443,     0.61493,     0.61521,     0.61746,     0.61748,     0.61774,     0.61851,      0.6192,     0.61961,\n",
      "            0.62067,     0.62122,     0.62218,      0.6227,     0.62395,     0.62433,     0.62662,     0.62734,      0.6296,     0.62995,     0.63019,     0.63028,     0.63027,      0.6304,     0.63052,     0.63101,     0.63202,     0.63243,     0.63313,     0.63425,     0.63528,     0.63568,     0.63691,\n",
      "            0.63758,     0.63833,     0.63908,      0.6398,     0.64118,     0.64256,     0.64321,     0.64349,     0.64482,     0.64628,     0.64694,       0.648,     0.64906,     0.64994,      0.6507,     0.65106,     0.65275,     0.65334,     0.65478,     0.65614,      0.6568,     0.65702,     0.65723,\n",
      "            0.65922,     0.65929,     0.65957,     0.66086,     0.66115,      0.6622,     0.66295,     0.66394,     0.66477,     0.66587,     0.66749,     0.66801,      0.6689,     0.66966,     0.66993,     0.67019,     0.67043,     0.67067,     0.67134,     0.67226,     0.67452,     0.67485,     0.67525,\n",
      "            0.67533,     0.67629,       0.679,     0.68006,     0.68202,     0.68221,     0.68239,     0.68325,     0.68421,     0.68557,     0.68715,     0.68793,      0.6888,     0.69108,      0.6919,     0.69276,      0.6929,     0.69395,     0.69497,     0.69534,     0.69645,     0.69711,     0.69851,\n",
      "            0.69874,     0.69898,     0.69947,     0.70084,       0.702,     0.70257,       0.703,     0.70446,      0.7048,     0.70683,     0.70799,     0.70939,     0.71029,     0.71101,      0.7116,     0.71214,     0.71407,     0.71464,     0.71482,     0.71545,     0.71614,      0.7172,     0.71772,\n",
      "            0.71798,     0.71826,     0.71854,     0.71882,     0.71905,     0.71929,      0.7192,     0.71943,     0.72043,     0.72065,     0.72088,     0.72121,     0.72183,     0.72416,      0.7253,     0.72533,     0.72561,      0.7259,     0.72633,     0.72718,     0.72743,     0.72769,      0.7285,\n",
      "            0.72869,     0.72887,      0.7292,     0.73004,      0.7306,     0.73151,     0.73432,     0.73489,     0.73514,     0.73539,     0.73585,     0.73641,      0.7368,     0.73739,     0.73731,     0.73764,     0.73805,     0.73994,     0.74023,     0.74052,      0.7418,     0.74353,     0.74456,\n",
      "            0.74511,     0.74644,     0.74789,     0.74841,     0.74933,     0.74987,     0.75037,     0.75095,     0.75137,     0.75172,     0.75299,     0.75384,     0.75511,     0.75537,     0.75584,     0.75698,     0.75819,     0.75862,     0.75955,     0.76008,     0.76027,     0.76047,     0.76101,\n",
      "            0.76241,     0.76341,     0.76334,     0.76326,     0.76306,     0.76508,     0.76595,     0.76617,     0.76639,     0.76671,     0.76758,     0.76947,     0.77006,     0.77162,     0.77256,     0.77295,     0.77343,     0.77382,     0.77418,     0.77459,     0.77504,     0.77557,      0.7771,\n",
      "            0.77778,     0.77796,     0.77814,     0.77831,     0.77849,     0.77899,     0.77997,     0.77979,     0.78189,     0.78231,     0.78218,     0.78288,     0.78293,     0.78326,     0.78337,     0.78341,     0.78425,     0.78573,     0.78626,     0.78648,      0.7867,     0.78692,      0.7868,\n",
      "            0.78664,      0.7872,     0.78722,     0.78849,     0.78895,     0.78922,     0.78956,     0.79247,     0.79376,     0.79454,     0.79516,     0.79619,     0.79786,     0.79972,     0.80276,     0.80354,     0.80461,       0.806,       0.807,     0.80748,     0.80772,     0.80789,     0.80807,\n",
      "            0.80824,     0.80879,     0.80994,      0.8106,     0.81049,      0.8114,     0.81185,     0.81239,     0.81336,     0.81356,       0.814,     0.81551,      0.8178,     0.81813,     0.81846,     0.81904,     0.81996,     0.82089,     0.82081,     0.82193,     0.82275,     0.82329,     0.82374,\n",
      "            0.82444,     0.82651,     0.82819,     0.82873,       0.829,     0.82889,     0.82901,      0.8292,     0.82938,     0.82957,      0.8298,      0.8303,     0.83142,     0.83135,     0.83129,     0.83113,     0.83101,      0.8309,     0.83065,     0.83132,     0.83287,     0.83381,     0.83405,\n",
      "            0.83429,     0.83454,     0.83582,     0.83627,     0.83721,     0.83801,     0.83923,     0.83962,     0.83954,     0.83967,     0.84009,     0.84035,     0.84027,     0.84028,     0.84057,     0.84085,     0.84109,     0.84094,      0.8414,     0.84213,     0.84399,     0.84461,     0.84512,\n",
      "            0.84586,     0.84707,     0.84769,     0.84807,      0.8484,       0.849,     0.84939,     0.85145,     0.85226,     0.85257,     0.85287,     0.85351,      0.8545,     0.85587,     0.85658,     0.85781,     0.85833,     0.85893,     0.85954,     0.85993,     0.86035,     0.86079,     0.86124,\n",
      "            0.86171,     0.86275,     0.86277,     0.86386,     0.86484,     0.86534,     0.86629,     0.86621,     0.86676,     0.86781,     0.86844,     0.86898,     0.86892,     0.86906,     0.86953,     0.87007,     0.87066,     0.87173,     0.87213,     0.87264,     0.87417,     0.87533,     0.87622,\n",
      "             0.8775,     0.87982,     0.88159,     0.88354,     0.88515,     0.88551,     0.88587,     0.88633,     0.88697,     0.88828,     0.89002,     0.89219,     0.89207,     0.89233,     0.89259,     0.89285,     0.89334,     0.89407,     0.89478,     0.89548,     0.89602,     0.89697,      0.8969,\n",
      "            0.89894,     0.89885,     0.89877,     0.89899,     0.89976,     0.90008,     0.90066,     0.90257,     0.90429,      0.9058,     0.90625,     0.90669,     0.90775,     0.90883,      0.9087,     0.90854,     0.90845,      0.9087,     0.90895,     0.90919,     0.90944,     0.90937,     0.91027,\n",
      "            0.91047,     0.91098,     0.91246,     0.91328,     0.91332,     0.91321,     0.91316,     0.91427,     0.91475,     0.91523,     0.91763,     0.91925,     0.91969,     0.91964,     0.91959,     0.92063,     0.92096,     0.92161,     0.92241,     0.92363,     0.92465,     0.92452,     0.92586,\n",
      "            0.92669,     0.92662,     0.92767,     0.92764,     0.92761,      0.9274,     0.92736,     0.92732,     0.92724,     0.92719,     0.92714,     0.92855,     0.92944,     0.92986,     0.93028,     0.93047,     0.93141,     0.93563,     0.93781,     0.93837,     0.93848,     0.93877,     0.93915,\n",
      "            0.93954,     0.93961,     0.93948,     0.93944,      0.9393,     0.94041,     0.94036,     0.94277,     0.94272,     0.94261,     0.94256,     0.94244,     0.94229,     0.94336,     0.94332,     0.94329,     0.94404,     0.94448,     0.94442,     0.94436,     0.94687,     0.94771,     0.94791,\n",
      "             0.9491,     0.94886,      0.9488,     0.94861,     0.94986,     0.94983,     0.95081,      0.9523,     0.95344,     0.95472,     0.95468,     0.95463,      0.9559,     0.95587,     0.95662,     0.95714,     0.95688,     0.95681,     0.95677,     0.95671,     0.95671,     0.95779,     0.95844,\n",
      "            0.95899,     0.95931,     0.95927,     0.96054,     0.96174,     0.96168,     0.96166,     0.96301,     0.96298,      0.9635,      0.9643,     0.96425,      0.9655,     0.96547,     0.96537,     0.96529,     0.96618,     0.96803,     0.96857,     0.97057,     0.97043,     0.97035,     0.97069,\n",
      "            0.97159,      0.9717,     0.97163,     0.97161,     0.97153,     0.97147,     0.97293,     0.97285,     0.97277,     0.97273,     0.97416,      0.9741,     0.97407,     0.97406,     0.97474,     0.97546,     0.97535,     0.97522,     0.97667,     0.97751,     0.97814,     0.97809,     0.97807,\n",
      "            0.97806,     0.97801,       0.978,     0.97792,     0.97787,     0.97785,      0.9788,     0.97926,     0.97916,     0.97909,     0.97901,     0.97883,     0.97898,     0.98035,      0.9803,     0.98157,     0.98287,     0.98322,      0.9832,     0.98319,     0.98317,      0.9831,     0.98348,\n",
      "            0.98468,     0.98631,     0.98624,     0.98614,      0.9861,     0.98608,     0.98606,     0.98597,     0.98593,     0.98589,     0.98758,     0.98757,     0.98755,     0.98749,     0.98921,     0.98916,     0.98993,      0.9909,     0.99086,     0.99081,     0.99076,     0.99239,     0.99254,\n",
      "             0.9925,     0.99433,      0.9943,     0.99423,     0.99414,     0.99411,     0.99407,     0.99404,     0.99396,     0.99394,     0.99387,     0.99382,     0.99585,     0.99581,     0.99577,     0.99574,     0.99571,     0.99566,      0.9956,     0.99554,     0.99549,      0.9977,     0.99769,\n",
      "            0.99767,     0.99765,           1,           1,           1,           1,           1,           1,           1,           1,           1,           1,           1,           1,           1,           1,           1,           1,           1,           1,           1,           1,           1,\n",
      "                  1,           1,           1,           1,           1,           1,           1,           1,           1,           1,           1,           1,           1,           1,           1,           1,           1,           1,           1,           1,           1,           1,           1,\n",
      "                  1,           1,           1,           1,           1,           1,           1,           1,           1,           1,           1,           1,           1,           1,           1,           1,           1,           1,           1,           1,           1,           1,           1,\n",
      "                  1,           1,           1,           1,           1,           1,           1,           1,           1,           1,           1,           1,           1,           1,           1,           1,           1,           1,           1,           1,           1,           1,           1,\n",
      "                  1,           1,           1,           1,           1,           1,           1,           1,           1,           1,           1,           1,           1,           1,           1,           1,           1,           1,           1,           1,           1,           1,           1,\n",
      "                  1,           1,           1,           1,           1,           1,           1,           1,           1,           1,           1,           1,           1,           1,           1,           1,           1,           1,           1,           1,           1,           1,           1,\n",
      "                  1,           1,           1,           1,           1,           1,           1,           1,           1,           1,           1]]), 'Confidence', 'Precision'], [array([          0,    0.001001,    0.002002,    0.003003,    0.004004,    0.005005,    0.006006,    0.007007,    0.008008,    0.009009,     0.01001,    0.011011,    0.012012,    0.013013,    0.014014,    0.015015,    0.016016,    0.017017,    0.018018,    0.019019,     0.02002,    0.021021,    0.022022,    0.023023,\n",
      "          0.024024,    0.025025,    0.026026,    0.027027,    0.028028,    0.029029,     0.03003,    0.031031,    0.032032,    0.033033,    0.034034,    0.035035,    0.036036,    0.037037,    0.038038,    0.039039,     0.04004,    0.041041,    0.042042,    0.043043,    0.044044,    0.045045,    0.046046,    0.047047,\n",
      "          0.048048,    0.049049,     0.05005,    0.051051,    0.052052,    0.053053,    0.054054,    0.055055,    0.056056,    0.057057,    0.058058,    0.059059,     0.06006,    0.061061,    0.062062,    0.063063,    0.064064,    0.065065,    0.066066,    0.067067,    0.068068,    0.069069,     0.07007,    0.071071,\n",
      "          0.072072,    0.073073,    0.074074,    0.075075,    0.076076,    0.077077,    0.078078,    0.079079,     0.08008,    0.081081,    0.082082,    0.083083,    0.084084,    0.085085,    0.086086,    0.087087,    0.088088,    0.089089,     0.09009,    0.091091,    0.092092,    0.093093,    0.094094,    0.095095,\n",
      "          0.096096,    0.097097,    0.098098,    0.099099,      0.1001,      0.1011,      0.1021,      0.1031,      0.1041,     0.10511,     0.10611,     0.10711,     0.10811,     0.10911,     0.11011,     0.11111,     0.11211,     0.11311,     0.11411,     0.11512,     0.11612,     0.11712,     0.11812,     0.11912,\n",
      "           0.12012,     0.12112,     0.12212,     0.12312,     0.12412,     0.12513,     0.12613,     0.12713,     0.12813,     0.12913,     0.13013,     0.13113,     0.13213,     0.13313,     0.13413,     0.13514,     0.13614,     0.13714,     0.13814,     0.13914,     0.14014,     0.14114,     0.14214,     0.14314,\n",
      "           0.14414,     0.14515,     0.14615,     0.14715,     0.14815,     0.14915,     0.15015,     0.15115,     0.15215,     0.15315,     0.15415,     0.15516,     0.15616,     0.15716,     0.15816,     0.15916,     0.16016,     0.16116,     0.16216,     0.16316,     0.16416,     0.16517,     0.16617,     0.16717,\n",
      "           0.16817,     0.16917,     0.17017,     0.17117,     0.17217,     0.17317,     0.17417,     0.17518,     0.17618,     0.17718,     0.17818,     0.17918,     0.18018,     0.18118,     0.18218,     0.18318,     0.18418,     0.18519,     0.18619,     0.18719,     0.18819,     0.18919,     0.19019,     0.19119,\n",
      "           0.19219,     0.19319,     0.19419,      0.1952,      0.1962,      0.1972,      0.1982,      0.1992,      0.2002,      0.2012,      0.2022,      0.2032,      0.2042,     0.20521,     0.20621,     0.20721,     0.20821,     0.20921,     0.21021,     0.21121,     0.21221,     0.21321,     0.21421,     0.21522,\n",
      "           0.21622,     0.21722,     0.21822,     0.21922,     0.22022,     0.22122,     0.22222,     0.22322,     0.22422,     0.22523,     0.22623,     0.22723,     0.22823,     0.22923,     0.23023,     0.23123,     0.23223,     0.23323,     0.23423,     0.23524,     0.23624,     0.23724,     0.23824,     0.23924,\n",
      "           0.24024,     0.24124,     0.24224,     0.24324,     0.24424,     0.24525,     0.24625,     0.24725,     0.24825,     0.24925,     0.25025,     0.25125,     0.25225,     0.25325,     0.25425,     0.25526,     0.25626,     0.25726,     0.25826,     0.25926,     0.26026,     0.26126,     0.26226,     0.26326,\n",
      "           0.26426,     0.26527,     0.26627,     0.26727,     0.26827,     0.26927,     0.27027,     0.27127,     0.27227,     0.27327,     0.27427,     0.27528,     0.27628,     0.27728,     0.27828,     0.27928,     0.28028,     0.28128,     0.28228,     0.28328,     0.28428,     0.28529,     0.28629,     0.28729,\n",
      "           0.28829,     0.28929,     0.29029,     0.29129,     0.29229,     0.29329,     0.29429,      0.2953,      0.2963,      0.2973,      0.2983,      0.2993,      0.3003,      0.3013,      0.3023,      0.3033,      0.3043,     0.30531,     0.30631,     0.30731,     0.30831,     0.30931,     0.31031,     0.31131,\n",
      "           0.31231,     0.31331,     0.31431,     0.31532,     0.31632,     0.31732,     0.31832,     0.31932,     0.32032,     0.32132,     0.32232,     0.32332,     0.32432,     0.32533,     0.32633,     0.32733,     0.32833,     0.32933,     0.33033,     0.33133,     0.33233,     0.33333,     0.33433,     0.33534,\n",
      "           0.33634,     0.33734,     0.33834,     0.33934,     0.34034,     0.34134,     0.34234,     0.34334,     0.34434,     0.34535,     0.34635,     0.34735,     0.34835,     0.34935,     0.35035,     0.35135,     0.35235,     0.35335,     0.35435,     0.35536,     0.35636,     0.35736,     0.35836,     0.35936,\n",
      "           0.36036,     0.36136,     0.36236,     0.36336,     0.36436,     0.36537,     0.36637,     0.36737,     0.36837,     0.36937,     0.37037,     0.37137,     0.37237,     0.37337,     0.37437,     0.37538,     0.37638,     0.37738,     0.37838,     0.37938,     0.38038,     0.38138,     0.38238,     0.38338,\n",
      "           0.38438,     0.38539,     0.38639,     0.38739,     0.38839,     0.38939,     0.39039,     0.39139,     0.39239,     0.39339,     0.39439,      0.3954,      0.3964,      0.3974,      0.3984,      0.3994,      0.4004,      0.4014,      0.4024,      0.4034,      0.4044,     0.40541,     0.40641,     0.40741,\n",
      "           0.40841,     0.40941,     0.41041,     0.41141,     0.41241,     0.41341,     0.41441,     0.41542,     0.41642,     0.41742,     0.41842,     0.41942,     0.42042,     0.42142,     0.42242,     0.42342,     0.42442,     0.42543,     0.42643,     0.42743,     0.42843,     0.42943,     0.43043,     0.43143,\n",
      "           0.43243,     0.43343,     0.43443,     0.43544,     0.43644,     0.43744,     0.43844,     0.43944,     0.44044,     0.44144,     0.44244,     0.44344,     0.44444,     0.44545,     0.44645,     0.44745,     0.44845,     0.44945,     0.45045,     0.45145,     0.45245,     0.45345,     0.45445,     0.45546,\n",
      "           0.45646,     0.45746,     0.45846,     0.45946,     0.46046,     0.46146,     0.46246,     0.46346,     0.46446,     0.46547,     0.46647,     0.46747,     0.46847,     0.46947,     0.47047,     0.47147,     0.47247,     0.47347,     0.47447,     0.47548,     0.47648,     0.47748,     0.47848,     0.47948,\n",
      "           0.48048,     0.48148,     0.48248,     0.48348,     0.48448,     0.48549,     0.48649,     0.48749,     0.48849,     0.48949,     0.49049,     0.49149,     0.49249,     0.49349,     0.49449,      0.4955,      0.4965,      0.4975,      0.4985,      0.4995,      0.5005,      0.5015,      0.5025,      0.5035,\n",
      "            0.5045,     0.50551,     0.50651,     0.50751,     0.50851,     0.50951,     0.51051,     0.51151,     0.51251,     0.51351,     0.51451,     0.51552,     0.51652,     0.51752,     0.51852,     0.51952,     0.52052,     0.52152,     0.52252,     0.52352,     0.52452,     0.52553,     0.52653,     0.52753,\n",
      "           0.52853,     0.52953,     0.53053,     0.53153,     0.53253,     0.53353,     0.53453,     0.53554,     0.53654,     0.53754,     0.53854,     0.53954,     0.54054,     0.54154,     0.54254,     0.54354,     0.54454,     0.54555,     0.54655,     0.54755,     0.54855,     0.54955,     0.55055,     0.55155,\n",
      "           0.55255,     0.55355,     0.55455,     0.55556,     0.55656,     0.55756,     0.55856,     0.55956,     0.56056,     0.56156,     0.56256,     0.56356,     0.56456,     0.56557,     0.56657,     0.56757,     0.56857,     0.56957,     0.57057,     0.57157,     0.57257,     0.57357,     0.57457,     0.57558,\n",
      "           0.57658,     0.57758,     0.57858,     0.57958,     0.58058,     0.58158,     0.58258,     0.58358,     0.58458,     0.58559,     0.58659,     0.58759,     0.58859,     0.58959,     0.59059,     0.59159,     0.59259,     0.59359,     0.59459,      0.5956,      0.5966,      0.5976,      0.5986,      0.5996,\n",
      "            0.6006,      0.6016,      0.6026,      0.6036,      0.6046,     0.60561,     0.60661,     0.60761,     0.60861,     0.60961,     0.61061,     0.61161,     0.61261,     0.61361,     0.61461,     0.61562,     0.61662,     0.61762,     0.61862,     0.61962,     0.62062,     0.62162,     0.62262,     0.62362,\n",
      "           0.62462,     0.62563,     0.62663,     0.62763,     0.62863,     0.62963,     0.63063,     0.63163,     0.63263,     0.63363,     0.63463,     0.63564,     0.63664,     0.63764,     0.63864,     0.63964,     0.64064,     0.64164,     0.64264,     0.64364,     0.64464,     0.64565,     0.64665,     0.64765,\n",
      "           0.64865,     0.64965,     0.65065,     0.65165,     0.65265,     0.65365,     0.65465,     0.65566,     0.65666,     0.65766,     0.65866,     0.65966,     0.66066,     0.66166,     0.66266,     0.66366,     0.66466,     0.66567,     0.66667,     0.66767,     0.66867,     0.66967,     0.67067,     0.67167,\n",
      "           0.67267,     0.67367,     0.67467,     0.67568,     0.67668,     0.67768,     0.67868,     0.67968,     0.68068,     0.68168,     0.68268,     0.68368,     0.68468,     0.68569,     0.68669,     0.68769,     0.68869,     0.68969,     0.69069,     0.69169,     0.69269,     0.69369,     0.69469,      0.6957,\n",
      "            0.6967,      0.6977,      0.6987,      0.6997,      0.7007,      0.7017,      0.7027,      0.7037,      0.7047,     0.70571,     0.70671,     0.70771,     0.70871,     0.70971,     0.71071,     0.71171,     0.71271,     0.71371,     0.71471,     0.71572,     0.71672,     0.71772,     0.71872,     0.71972,\n",
      "           0.72072,     0.72172,     0.72272,     0.72372,     0.72472,     0.72573,     0.72673,     0.72773,     0.72873,     0.72973,     0.73073,     0.73173,     0.73273,     0.73373,     0.73473,     0.73574,     0.73674,     0.73774,     0.73874,     0.73974,     0.74074,     0.74174,     0.74274,     0.74374,\n",
      "           0.74474,     0.74575,     0.74675,     0.74775,     0.74875,     0.74975,     0.75075,     0.75175,     0.75275,     0.75375,     0.75475,     0.75576,     0.75676,     0.75776,     0.75876,     0.75976,     0.76076,     0.76176,     0.76276,     0.76376,     0.76476,     0.76577,     0.76677,     0.76777,\n",
      "           0.76877,     0.76977,     0.77077,     0.77177,     0.77277,     0.77377,     0.77477,     0.77578,     0.77678,     0.77778,     0.77878,     0.77978,     0.78078,     0.78178,     0.78278,     0.78378,     0.78478,     0.78579,     0.78679,     0.78779,     0.78879,     0.78979,     0.79079,     0.79179,\n",
      "           0.79279,     0.79379,     0.79479,      0.7958,      0.7968,      0.7978,      0.7988,      0.7998,      0.8008,      0.8018,      0.8028,      0.8038,      0.8048,     0.80581,     0.80681,     0.80781,     0.80881,     0.80981,     0.81081,     0.81181,     0.81281,     0.81381,     0.81481,     0.81582,\n",
      "           0.81682,     0.81782,     0.81882,     0.81982,     0.82082,     0.82182,     0.82282,     0.82382,     0.82482,     0.82583,     0.82683,     0.82783,     0.82883,     0.82983,     0.83083,     0.83183,     0.83283,     0.83383,     0.83483,     0.83584,     0.83684,     0.83784,     0.83884,     0.83984,\n",
      "           0.84084,     0.84184,     0.84284,     0.84384,     0.84484,     0.84585,     0.84685,     0.84785,     0.84885,     0.84985,     0.85085,     0.85185,     0.85285,     0.85385,     0.85485,     0.85586,     0.85686,     0.85786,     0.85886,     0.85986,     0.86086,     0.86186,     0.86286,     0.86386,\n",
      "           0.86486,     0.86587,     0.86687,     0.86787,     0.86887,     0.86987,     0.87087,     0.87187,     0.87287,     0.87387,     0.87487,     0.87588,     0.87688,     0.87788,     0.87888,     0.87988,     0.88088,     0.88188,     0.88288,     0.88388,     0.88488,     0.88589,     0.88689,     0.88789,\n",
      "           0.88889,     0.88989,     0.89089,     0.89189,     0.89289,     0.89389,     0.89489,      0.8959,      0.8969,      0.8979,      0.8989,      0.8999,      0.9009,      0.9019,      0.9029,      0.9039,      0.9049,     0.90591,     0.90691,     0.90791,     0.90891,     0.90991,     0.91091,     0.91191,\n",
      "           0.91291,     0.91391,     0.91491,     0.91592,     0.91692,     0.91792,     0.91892,     0.91992,     0.92092,     0.92192,     0.92292,     0.92392,     0.92492,     0.92593,     0.92693,     0.92793,     0.92893,     0.92993,     0.93093,     0.93193,     0.93293,     0.93393,     0.93493,     0.93594,\n",
      "           0.93694,     0.93794,     0.93894,     0.93994,     0.94094,     0.94194,     0.94294,     0.94394,     0.94494,     0.94595,     0.94695,     0.94795,     0.94895,     0.94995,     0.95095,     0.95195,     0.95295,     0.95395,     0.95495,     0.95596,     0.95696,     0.95796,     0.95896,     0.95996,\n",
      "           0.96096,     0.96196,     0.96296,     0.96396,     0.96496,     0.96597,     0.96697,     0.96797,     0.96897,     0.96997,     0.97097,     0.97197,     0.97297,     0.97397,     0.97497,     0.97598,     0.97698,     0.97798,     0.97898,     0.97998,     0.98098,     0.98198,     0.98298,     0.98398,\n",
      "           0.98498,     0.98599,     0.98699,     0.98799,     0.98899,     0.98999,     0.99099,     0.99199,     0.99299,     0.99399,     0.99499,       0.996,       0.997,       0.998,       0.999,           1]), array([[    0.99158,     0.99158,     0.99158,     0.98842,     0.98737,     0.98421,     0.98211,     0.98211,     0.97895,     0.97789,     0.97789,     0.97579,     0.97579,     0.97474,     0.97368,     0.97368,     0.97263,     0.97263,     0.97263,     0.97263,     0.97263,     0.97263,     0.97263,\n",
      "            0.97263,     0.97263,     0.97053,     0.97053,     0.97053,     0.97053,     0.97053,     0.97053,     0.97053,     0.97053,     0.96842,     0.96842,     0.96708,     0.96632,     0.96526,     0.96526,     0.96526,     0.96421,     0.96421,     0.96421,     0.96316,     0.96316,     0.96316,\n",
      "            0.96316,     0.96316,     0.96316,     0.96316,     0.96211,     0.96211,     0.96211,     0.96105,        0.96,     0.95895,     0.95895,     0.95895,     0.95895,     0.95684,     0.95684,     0.95684,     0.95684,     0.95684,     0.95579,     0.95579,     0.95579,     0.95579,      0.9545,\n",
      "            0.95368,     0.95158,     0.95053,     0.94947,     0.94827,     0.94737,     0.94737,     0.94737,     0.94632,     0.94526,     0.94526,     0.94421,     0.94356,     0.94105,     0.93895,     0.93789,     0.93789,     0.93785,     0.93684,     0.93684,     0.93579,     0.93474,     0.93368,\n",
      "            0.93158,     0.93158,     0.93158,     0.93158,     0.93158,     0.93053,     0.93053,     0.93053,     0.93053,     0.92947,     0.92947,     0.92947,     0.92947,     0.92947,     0.92737,     0.92632,     0.92632,     0.92361,     0.92263,     0.92211,      0.9204,     0.91895,     0.91895,\n",
      "            0.91895,     0.91895,     0.91858,     0.91789,     0.91789,     0.91789,     0.91789,     0.91696,     0.91684,     0.91684,     0.91684,     0.91684,     0.91684,     0.91684,     0.91579,     0.91579,     0.91579,     0.91579,     0.91579,     0.91525,     0.91374,     0.91368,     0.91368,\n",
      "            0.91368,     0.91368,     0.91368,     0.91368,     0.91263,     0.91263,     0.91263,     0.91158,     0.91158,     0.91158,     0.91053,     0.91053,     0.90947,     0.90947,     0.90947,     0.90947,     0.90947,     0.90947,     0.90947,     0.90947,     0.90842,     0.90842,     0.90842,\n",
      "            0.90842,     0.90842,     0.90737,     0.90737,     0.90737,     0.90632,     0.90552,     0.90475,     0.90421,     0.90421,     0.90421,     0.90316,     0.90316,     0.90316,     0.90266,     0.90211,     0.90211,     0.90211,     0.90211,     0.90132,     0.90105,     0.90105,     0.90105,\n",
      "            0.90105,     0.90105,     0.90067,         0.9,         0.9,     0.89895,     0.89895,     0.89895,     0.89895,     0.89895,     0.89895,     0.89895,     0.89789,     0.89789,     0.89789,     0.89474,     0.89474,     0.89474,     0.89474,     0.89474,      0.8945,     0.89368,     0.89368,\n",
      "            0.89368,     0.89307,     0.89263,     0.89263,     0.89263,     0.89263,     0.89263,     0.89263,     0.89263,     0.89263,     0.89263,     0.89158,      0.8913,     0.89053,     0.89053,     0.89053,     0.89053,     0.88947,     0.88868,     0.88842,     0.88842,     0.88842,     0.88842,\n",
      "            0.88737,     0.88737,     0.88737,     0.88737,     0.88725,     0.88632,     0.88632,     0.88632,     0.88632,     0.88632,     0.88632,     0.88469,     0.88421,     0.88421,     0.88421,     0.88421,     0.88421,     0.88421,     0.88421,     0.88421,     0.88421,     0.88421,     0.88421,\n",
      "            0.88333,     0.88316,     0.88316,     0.88316,     0.88316,     0.88316,     0.88211,     0.88211,     0.88211,     0.88211,     0.88211,     0.88211,     0.88211,     0.88211,     0.88211,     0.88211,     0.88211,     0.88211,     0.88211,     0.88211,     0.88211,     0.88211,     0.88211,\n",
      "            0.88171,     0.88105,     0.88105,     0.87997,     0.87895,     0.87895,     0.87895,     0.87895,     0.87895,     0.87895,     0.87895,     0.87895,     0.87895,     0.87895,     0.87895,     0.87895,     0.87895,     0.87895,     0.87895,     0.87895,     0.87895,     0.87895,     0.87895,\n",
      "            0.87789,     0.87684,     0.87684,     0.87579,     0.87579,     0.87579,     0.87579,     0.87579,     0.87579,     0.87579,     0.87579,     0.87579,     0.87579,     0.87579,     0.87579,     0.87345,     0.87263,     0.87263,     0.87263,     0.87263,     0.87263,     0.87263,     0.87263,\n",
      "            0.87263,     0.87263,     0.87263,     0.87263,     0.87263,     0.87263,     0.87263,     0.87263,     0.87263,     0.87263,     0.87263,     0.87263,     0.87263,     0.87263,     0.87263,     0.87263,     0.87263,     0.87263,     0.87158,     0.87158,     0.87158,     0.87158,     0.87158,\n",
      "            0.87158,     0.87158,     0.87158,     0.87158,     0.87158,     0.87158,     0.87084,     0.87053,     0.87053,     0.87053,     0.87053,     0.87053,     0.87053,     0.87053,      0.8699,     0.86947,     0.86947,     0.86947,     0.86947,     0.86947,     0.86947,     0.86947,     0.86947,\n",
      "            0.86947,     0.86947,     0.86947,     0.86947,     0.86947,     0.86947,     0.86947,     0.86947,     0.86947,     0.86947,     0.86947,     0.86947,     0.86947,       0.869,     0.86842,     0.86842,     0.86842,     0.86842,     0.86842,     0.86842,     0.86842,     0.86842,     0.86842,\n",
      "            0.86842,     0.86764,     0.86737,     0.86737,     0.86737,     0.86737,     0.86737,     0.86737,     0.86737,     0.86737,     0.86737,     0.86737,     0.86737,     0.86632,     0.86632,     0.86632,     0.86632,     0.86632,     0.86632,     0.86632,     0.86632,     0.86632,     0.86632,\n",
      "            0.86632,     0.86614,     0.86578,     0.86542,     0.86445,     0.86421,     0.86421,     0.86421,     0.86421,     0.86421,     0.86421,     0.86421,     0.86421,     0.86421,     0.86421,     0.86316,     0.86316,     0.86316,     0.86316,     0.86316,     0.86316,     0.86211,     0.86211,\n",
      "            0.86211,     0.86211,     0.86211,     0.86211,     0.86211,     0.86211,     0.86195,     0.86107,        0.86,        0.86,     0.85803,     0.85789,     0.85684,     0.85684,     0.85645,     0.85579,     0.85579,     0.85579,     0.85579,     0.85579,     0.85579,     0.85579,     0.85462,\n",
      "            0.85383,     0.85368,     0.85263,     0.85263,     0.85263,     0.85263,     0.85263,     0.85263,     0.85263,     0.85263,     0.85263,     0.85263,     0.85263,     0.85263,     0.85263,     0.85263,     0.85263,     0.85263,     0.85263,     0.85263,     0.85263,     0.85263,     0.85263,\n",
      "            0.85263,     0.85263,     0.85231,     0.85144,     0.85083,     0.85053,     0.85053,     0.85053,     0.85053,     0.84975,     0.84947,     0.84947,     0.84947,     0.84947,     0.84947,     0.84947,     0.84947,     0.84909,     0.84864,     0.84737,     0.84737,     0.84737,     0.84737,\n",
      "            0.84737,     0.84737,     0.84737,     0.84737,      0.8471,     0.84646,     0.84632,     0.84632,     0.84632,     0.84632,     0.84632,     0.84632,     0.84619,      0.8458,      0.8454,     0.84444,     0.84371,     0.84307,      0.8416,     0.84041,     0.83895,     0.83895,     0.83895,\n",
      "            0.83895,     0.83895,     0.83895,     0.83875,     0.83789,     0.83789,     0.83789,     0.83762,     0.83713,     0.83684,     0.83684,     0.83668,     0.83617,     0.83579,     0.83579,     0.83579,     0.83569,     0.83476,     0.83474,     0.83474,     0.83474,     0.83474,     0.83474,\n",
      "            0.83474,     0.83474,     0.83474,     0.83434,     0.83263,     0.83263,     0.83263,     0.83258,     0.83158,     0.83158,     0.83158,     0.83158,     0.83158,     0.83134,     0.83053,     0.83053,     0.83053,     0.82842,     0.82842,     0.82842,     0.82842,     0.82842,     0.82842,\n",
      "            0.82842,     0.82711,     0.82632,     0.82632,     0.82632,     0.82632,     0.82519,     0.82465,     0.82421,     0.82421,     0.82421,     0.82421,      0.8234,     0.82211,     0.82211,     0.82211,     0.82211,     0.82105,     0.82105,     0.82105,     0.82105,     0.82105,     0.81964,\n",
      "            0.81895,     0.81895,     0.81895,     0.81895,     0.81895,     0.81895,     0.81895,     0.81895,     0.81895,     0.81895,     0.81895,     0.81895,     0.81684,     0.81684,     0.81684,     0.81684,     0.81684,     0.81684,     0.81684,     0.81684,     0.81636,     0.81558,     0.81498,\n",
      "             0.8146,     0.81377,     0.81308,     0.81263,     0.81258,     0.81158,     0.81158,     0.81053,     0.80947,     0.80947,     0.80947,     0.80947,     0.80947,     0.80798,     0.80674,     0.80516,     0.80421,     0.80421,     0.80421,     0.80421,     0.80421,     0.80105,     0.80086,\n",
      "                0.8,         0.8,         0.8,         0.8,     0.79852,     0.79751,     0.79694,     0.79579,     0.79579,     0.79579,     0.79579,     0.79579,     0.79554,      0.7951,     0.79454,     0.79368,     0.79263,     0.79204,     0.79158,     0.78935,     0.78796,     0.78652,     0.78632,\n",
      "            0.78503,     0.78429,     0.78299,     0.78263,     0.78228,     0.77988,     0.77944,       0.779,     0.77806,     0.77746,     0.77695,     0.77474,     0.77474,     0.77474,     0.77474,     0.77263,      0.7719,     0.77158,     0.77158,     0.77158,     0.77076,     0.77053,     0.77053,\n",
      "            0.77053,     0.76981,     0.76805,     0.76748,     0.76559,     0.76414,     0.76341,       0.763,     0.76223,     0.76071,     0.76005,     0.75838,     0.75627,     0.75382,     0.75329,     0.75286,     0.75263,     0.75203,     0.75123,     0.75037,     0.74842,     0.74842,     0.74703,\n",
      "            0.74592,      0.7421,     0.74125,     0.73838,     0.73788,     0.73729,     0.73684,     0.73545,     0.73284,      0.7324,     0.73181,     0.73085,     0.73016,     0.72955,     0.72947,     0.72877,      0.7241,     0.72284,     0.72225,     0.72118,        0.72,        0.72,        0.72,\n",
      "               0.72,     0.71972,     0.71899,     0.71742,     0.71433,     0.71331,     0.71285,     0.71246,     0.71198,     0.71158,     0.71089,     0.70979,      0.7071,     0.70641,     0.70434,     0.70258,     0.70211,     0.70129,     0.69789,     0.69438,     0.69087,     0.68907,     0.68842,\n",
      "            0.68842,     0.68662,     0.68491,     0.68437,      0.6824,     0.68112,     0.68105,     0.67885,     0.67685,     0.67583,     0.67457,     0.67308,     0.67235,     0.67189,     0.67158,      0.6694,     0.66636,     0.66271,     0.66112,        0.66,     0.65936,     0.65774,     0.65732,\n",
      "             0.6569,     0.65555,     0.65504,     0.65263,     0.65124,     0.65053,     0.65053,     0.64617,     0.64297,     0.64062,     0.63833,     0.63269,     0.63158,     0.63026,     0.62867,     0.62737,     0.62211,     0.61677,     0.61612,     0.61556,     0.61508,     0.61226,     0.61053,\n",
      "            0.60905,     0.60684,      0.6037,     0.59908,     0.59755,     0.59672,     0.59578,     0.59191,     0.59026,      0.5886,     0.58842,     0.58525,      0.5844,     0.58167,     0.57901,     0.57637,     0.57474,      0.5734,     0.57043,     0.56742,     0.56428,     0.56105,     0.56008,\n",
      "            0.55736,     0.55356,     0.55093,     0.54446,     0.53569,     0.53272,     0.52931,     0.52671,     0.52005,     0.51804,     0.51235,     0.50809,     0.50555,     0.50059,     0.49576,     0.49218,     0.48809,     0.48319,     0.47671,     0.47045,     0.46512,     0.45749,     0.45416,\n",
      "            0.45143,     0.44741,     0.44353,     0.44093,     0.43909,     0.43326,     0.42635,     0.42097,     0.41326,     0.40892,     0.40738,     0.40197,     0.39027,     0.38281,     0.37007,     0.36329,     0.35812,     0.35492,     0.35157,     0.34848,     0.34533,     0.33949,     0.33518,\n",
      "            0.32817,     0.32171,      0.3173,     0.31503,     0.30759,     0.30134,     0.29202,     0.28724,     0.27846,     0.27039,     0.26088,     0.25401,      0.2455,      0.2401,     0.23262,     0.22596,      0.2176,     0.20391,     0.19735,     0.19291,     0.18755,     0.18182,      0.1796,\n",
      "            0.17555,     0.16751,      0.1643,      0.1544,     0.14992,     0.13997,     0.13464,     0.12951,     0.12608,     0.12088,     0.11766,     0.11488,     0.11158,     0.10953,     0.10793,     0.10645,     0.10027,    0.094903,    0.091719,    0.087993,     0.08456,    0.077668,    0.076255,\n",
      "            0.07362,    0.071035,    0.068535,    0.065186,    0.063892,    0.058635,    0.052164,    0.047784,    0.045026,     0.03882,    0.038057,    0.035519,    0.034428,    0.032865,    0.030725,    0.029233,    0.028379,    0.027398,    0.024637,    0.023297,    0.021344,    0.018878,    0.018422,\n",
      "           0.017966,    0.016824,    0.014587,    0.013728,    0.012644,    0.010992,   0.0099095,   0.0084214,    0.006411,   0.0058796,   0.0053957,   0.0049186,   0.0044441,    0.003973,   0.0035053,   0.0030448,   0.0026054,    0.002166,   0.0016989,   0.0012274,           0,           0,           0,\n",
      "                  0,           0,           0,           0,           0,           0,           0,           0,           0,           0,           0,           0,           0,           0,           0,           0,           0,           0,           0,           0,           0,           0,           0,\n",
      "                  0,           0,           0,           0,           0,           0,           0,           0,           0,           0,           0]]), 'Confidence', 'Recall']]\n",
      "fitness: 0.6922553581077535\n",
      "keys: ['metrics/precision(B)', 'metrics/recall(B)', 'metrics/mAP50(B)', 'metrics/mAP50-95(B)']\n",
      "maps: array([    0.66792])\n",
      "names: {0: 'fire'}\n",
      "plot: True\n",
      "results_dict: {'metrics/precision(B)': 0.9094388741281244, 'metrics/recall(B)': 0.8042105263157895, 'metrics/mAP50(B)': 0.9112842800266148, 'metrics/mAP50-95(B)': 0.66791881122788, 'fitness': 0.6922553581077535}\n",
      "save_dir: PosixPath('runs/detect/train42')\n",
      "speed: {'preprocess': 0.5050807798402552, 'inference': 2.356854950928682, 'loss': 0.0006917519889954436, 'postprocess': 0.7101748952245953}\n",
      "task: 'detect'\n"
     ]
    }
   ],
   "source": [
    "metrics = model.val()\n",
    "print(\"Evaluation Metrics:\", metrics)"
   ]
  },
  {
   "cell_type": "markdown",
   "metadata": {},
   "source": [
    "---\n",
    "\n",
    "Download the model with name `best.pt` from the working directory."
   ]
  }
 ],
 "metadata": {
  "kaggle": {
   "accelerator": "gpu",
   "dataSources": [
    {
     "datasetId": 5353840,
     "sourceId": 8904920,
     "sourceType": "datasetVersion"
    }
   ],
   "isGpuEnabled": true,
   "isInternetEnabled": true,
   "language": "python",
   "sourceType": "notebook"
  },
  "kernelspec": {
   "display_name": "Python 3",
   "language": "python",
   "name": "python3"
  },
  "language_info": {
   "codemirror_mode": {
    "name": "ipython",
    "version": 3
   },
   "file_extension": ".py",
   "mimetype": "text/x-python",
   "name": "python",
   "nbconvert_exporter": "python",
   "pygments_lexer": "ipython3",
   "version": "3.10.12"
  }
 },
 "nbformat": 4,
 "nbformat_minor": 4
}
