{
 "cells": [
  {
   "cell_type": "code",
   "execution_count": 19,
   "metadata": {},
   "outputs": [],
   "source": [
    "import glob\n",
    "import os\n",
    "import pickle\n",
    "import faiss\n",
    "import numpy as np\n",
    "import matplotlib.pyplot as plt\n",
    "import cv2"
   ]
  },
  {
   "cell_type": "code",
   "execution_count": 38,
   "metadata": {},
   "outputs": [],
   "source": [
    "def label_feature_vectors(descriptors, label):\n",
    "    lableled_descriptors = []\n",
    "    for label, des_list in zip(label, descriptors):\n",
    "        lableled_descriptors.append([(label, des) for des in des_list if des is not None])\n",
    "    return lableled_descriptors"
   ]
  },
  {
   "cell_type": "code",
   "execution_count": 39,
   "metadata": {},
   "outputs": [],
   "source": [
    "def build_index(labeled_descriptors):\n",
    "    feature_vectors = np.array([des for label, des in labeled_descriptors])\n",
    "    labels = np.array([label for label, des in labeled_descriptors])\n",
    "    \n",
    "    index = faiss.IndexFlatL2(feature_vectors.shape[1])\n",
    "    index.train(feature_vectors)\n",
    "    index.add(feature_vectors)\n",
    "    return index"
   ]
  },
  {
   "cell_type": "code",
   "execution_count": 40,
   "metadata": {},
   "outputs": [
    {
     "data": {
      "text/plain": [
       "['bat1.jpg',\n",
       " 'bat10.jpg',\n",
       " 'bat11.jpg',\n",
       " 'bat12.jpg',\n",
       " 'bat13.jpg',\n",
       " 'bat14.jpg',\n",
       " 'bat15.jpg',\n",
       " 'bat16.jpg',\n",
       " 'bat17.jpg',\n",
       " 'bat18.jpg',\n",
       " 'bat19.jpg',\n",
       " 'bat2.jpg',\n",
       " 'bat20.jpg',\n",
       " 'bat21.jpg',\n",
       " 'bat22.jpg',\n",
       " 'bat23.jpg',\n",
       " 'bat24.jpg',\n",
       " 'bat25.jpg',\n",
       " 'bat26.jpg',\n",
       " 'bat27.jpg',\n",
       " 'bat28.jpg',\n",
       " 'bat29.jpg',\n",
       " 'bat3.jpg',\n",
       " 'bat30.jpg',\n",
       " 'bat31.jpg',\n",
       " 'bat32.jpg',\n",
       " 'bat33.jpg',\n",
       " 'bat34.jpg',\n",
       " 'bat35.jpg',\n",
       " 'bat36.jpg',\n",
       " 'bat37.jpg',\n",
       " 'bat38.jpg',\n",
       " 'bat39.jpg',\n",
       " 'bat4.jpg',\n",
       " 'bat40.jpg',\n",
       " 'bat41.jpg',\n",
       " 'bat42.jpg',\n",
       " 'bat43.jpg',\n",
       " 'bat44.jpg',\n",
       " 'bat45.jpg',\n",
       " 'bat46.jpg',\n",
       " 'bat47.jpg',\n",
       " 'bat48.jpg',\n",
       " 'bat49.jpg',\n",
       " 'bat5.jpg',\n",
       " 'bat50.jpg',\n",
       " 'bat51.jpg',\n",
       " 'bat52.jpg',\n",
       " 'bat53.jpg',\n",
       " 'bat54.jpg',\n",
       " 'bat55.jpg',\n",
       " 'bat56.jpg',\n",
       " 'bat57.jpg',\n",
       " 'bat58.jpg',\n",
       " 'bat59.jpg',\n",
       " 'bat6.jpg',\n",
       " 'bat60.jpg',\n",
       " 'bat61.jpg',\n",
       " 'bat62.jpg',\n",
       " 'bat63.jpg',\n",
       " 'bat64.jpg',\n",
       " 'bat65.jpg',\n",
       " 'bat7.jpg',\n",
       " 'bat8.jpg',\n",
       " 'bat9.jpg']"
      ]
     },
     "execution_count": 40,
     "metadata": {},
     "output_type": "execute_result"
    }
   ],
   "source": [
    "cPath ='Dataset/Dataset/Cricket_bat/'\n",
    "paths = os.listdir(cPath)\n",
    "paths"
   ]
  },
  {
   "cell_type": "code",
   "execution_count": 41,
   "metadata": {},
   "outputs": [],
   "source": [
    "ball_paths=glob.glob('Dataset/Dataset/Cricket_ball/*.jpg')+glob.glob('Dataset/Dataset/Cricket_ball/*.jfif')\n",
    "Car_paths=glob.glob('Dataset/Dataset/Car/*.jpg')+glob.glob('Dataset/Dataset/Car/*.jfif')\n",
    "bat_paths=glob.glob('Dataset/Dataset/Cricket_bat/*.jpg')+glob.glob('Dataset/Dataset/Cricket_bat/*.jfif')"
   ]
  },
  {
   "cell_type": "code",
   "execution_count": 42,
   "metadata": {},
   "outputs": [],
   "source": [
    "labels = [0]*len(ball_paths) + [1]*len(Car_paths) + [2]*len(bat_paths)"
   ]
  },
  {
   "cell_type": "code",
   "execution_count": 43,
   "metadata": {},
   "outputs": [],
   "source": [
    "orb = cv2.ORB_create()\n",
    "\n",
    "images = []\n",
    "descriptors = []\n",
    "\n",
    "for path in paths:\n",
    "    img = cv2.imread(path, 0)\n",
    "    kp, des = orb.detectAndCompute(img, None)\n",
    "    images.append(img)\n",
    "    descriptors.append(des)"
   ]
  },
  {
   "cell_type": "code",
   "execution_count": null,
   "metadata": {},
   "outputs": [
    {
     "ename": "TypeError",
     "evalue": "'NoneType' object is not iterable",
     "output_type": "error",
     "traceback": [
      "\u001b[1;31m---------------------------------------------------------------------------\u001b[0m",
      "\u001b[1;31mTypeError\u001b[0m                                 Traceback (most recent call last)",
      "Cell \u001b[1;32mIn[44], line 1\u001b[0m\n\u001b[1;32m----> 1\u001b[0m labeled_descriptors \u001b[38;5;241m=\u001b[39m \u001b[43mlabel_feature_vectors\u001b[49m\u001b[43m(\u001b[49m\u001b[43mdecriptors\u001b[49m\u001b[43m,\u001b[49m\u001b[43m \u001b[49m\u001b[43mlabels\u001b[49m\u001b[43m)\u001b[49m\n",
      "Cell \u001b[1;32mIn[38], line 4\u001b[0m, in \u001b[0;36mlabel_feature_vectors\u001b[1;34m(descriptors, label)\u001b[0m\n\u001b[0;32m      2\u001b[0m lableled_descriptors \u001b[38;5;241m=\u001b[39m []\n\u001b[0;32m      3\u001b[0m \u001b[38;5;28;01mfor\u001b[39;00m label, des_list \u001b[38;5;129;01min\u001b[39;00m \u001b[38;5;28mzip\u001b[39m(label, descriptors):\n\u001b[1;32m----> 4\u001b[0m     lableled_descriptors\u001b[38;5;241m.\u001b[39mappend([(label, des) \u001b[38;5;28;01mfor\u001b[39;00m des \u001b[38;5;129;01min\u001b[39;00m des_list \u001b[38;5;28;01mif\u001b[39;00m des \u001b[38;5;129;01mis\u001b[39;00m \u001b[38;5;129;01mnot\u001b[39;00m \u001b[38;5;28;01mNone\u001b[39;00m])\n\u001b[0;32m      5\u001b[0m \u001b[38;5;28;01mreturn\u001b[39;00m lableled_descriptors\n",
      "\u001b[1;31mTypeError\u001b[0m: 'NoneType' object is not iterable"
     ]
    }
   ],
   "source": [
    "labeled_descriptors = label_feature_vectors(descriptors, labels)"
   ]
  },
  {
   "cell_type": "code",
   "execution_count": null,
   "metadata": {},
   "outputs": [],
   "source": [
    "index = build_index(labeled_descriptors)\n",
    "\n",
    "faiss.write_index(index, 'faiss_index.index')\n",
    "\n",
    "with open('labeled_descriptors.pkl', 'wb') as labeled_descriptors_file:\n",
    "    pickle.dump(labeled_descriptors, labeled_descriptors_file)"
   ]
  },
  {
   "cell_type": "code",
   "execution_count": null,
   "metadata": {},
   "outputs": [],
   "source": [
    "query_img =cv2.imread('./Dataset/Cricket_ball/ball47.jpg', 0)\n",
    "_, query_des = orb.detectAndCompute(query_img, None)"
   ]
  },
  {
   "cell_type": "code",
   "execution_count": null,
   "metadata": {},
   "outputs": [],
   "source": [
    "if query_des is not None and len(query_des)>0:\n",
    "    distances={}\n",
    "    \n",
    "    for idx, des in enumerate(decriptors):\n",
    "        if "
   ]
  }
 ],
 "metadata": {
  "kernelspec": {
   "display_name": "Python 3",
   "language": "python",
   "name": "python3"
  },
  "language_info": {
   "codemirror_mode": {
    "name": "ipython",
    "version": 3
   },
   "file_extension": ".py",
   "mimetype": "text/x-python",
   "name": "python",
   "nbconvert_exporter": "python",
   "pygments_lexer": "ipython3",
   "version": "3.13.1"
  }
 },
 "nbformat": 4,
 "nbformat_minor": 2
}
