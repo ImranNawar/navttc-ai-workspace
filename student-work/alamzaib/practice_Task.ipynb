{
 "cells": [
  {
   "cell_type": "code",
   "execution_count": 1,
   "id": "d00b4092",
   "metadata": {},
   "outputs": [
    {
     "name": "stdout",
     "output_type": "stream",
     "text": [
      "Name: Ahmad\n",
      "Age: 25\n",
      "Height: 5.9\n"
     ]
    }
   ],
   "source": [
    "# Creating variables\n",
    "name = \"Ahmad\"  \n",
    "age = 25 \n",
    "height = 5.9 \n",
    "\n",
    "print(\"Name:\", name)\n",
    "print(\"Age:\", age)\n",
    "print(\"Height:\", height)\n"
   ]
  },
  {
   "cell_type": "code",
   "execution_count": 5,
   "id": "eb6469a1",
   "metadata": {},
   "outputs": [
    {
     "name": "stdout",
     "output_type": "stream",
     "text": [
      "Enter first number: 7\n",
      "Enter second number: 84\n",
      "Addition: 91\n",
      "Subtraction: -77\n",
      "Multiplication: 588\n",
      "Division: 0.08333333333333333\n"
     ]
    }
   ],
   "source": [
    "# Defining two numbers\n",
    "num1 =int(input(\"Enter first number: \")) \n",
    "num2 =int(input(\"Enter second number: \")) \n",
    "\n",
    "subtraction = num1 - num2\n",
    "addition = num1 + num2\n",
    "multiplication = num1 * num2\n",
    "division = num1 / num2 \n",
    "\n",
    "# Printing results\n",
    "print(\"Addition:\", addition)\n",
    "print(\"Subtraction:\", subtraction)\n",
    "print(\"Multiplication:\", multiplication)\n",
    "print(\"Division:\", division)\n"
   ]
  },
  {
   "cell_type": "code",
   "execution_count": 6,
   "id": "571baa80",
   "metadata": {},
   "outputs": [
    {
     "name": "stdout",
     "output_type": "stream",
     "text": [
      "Is it both sunny and raining? False\n",
      "Is it either sunny or raining? True\n",
      "It's sunny!\n"
     ]
    }
   ],
   "source": [
    "is_sunny = True\n",
    "is_raining = False\n",
    "\n",
    "both_sunny_and_raining = is_sunny and is_raining\n",
    "either_sunny_or_raining = is_sunny or is_raining\n",
    "\n",
    "print(\"Is it both sunny and raining?\", both_sunny_and_raining)\n",
    "print(\"Is it either sunny or raining?\", either_sunny_or_raining)\n",
    "\n",
    "if is_sunny:\n",
    "    print(\"It's sunny!\")\n"
   ]
  },
  {
   "cell_type": "code",
   "execution_count": 7,
   "id": "71c6b713",
   "metadata": {},
   "outputs": [
    {
     "name": "stdout",
     "output_type": "stream",
     "text": [
      "Enter temperature in Celsius: 67\n",
      "67.0°C is equal to 152.60000000000002°F\n"
     ]
    }
   ],
   "source": [
    "\n",
    "celsius = float(input(\"Enter temperature in Celsius: \"))\n",
    "\n",
    "fahrenheit = (9/5) * celsius + 32\n",
    "\n",
    "print(f\"{celsius}°C is equal to {fahrenheit}°F\")\n"
   ]
  },
  {
   "cell_type": "code",
   "execution_count": 8,
   "id": "e83be28e",
   "metadata": {},
   "outputs": [
    {
     "name": "stdout",
     "output_type": "stream",
     "text": [
      "Enter the base of the triangle: 43\n",
      "Enter the height of the triangle: 12\n",
      "The area of the triangle is 258.0 square units\n"
     ]
    }
   ],
   "source": [
    "\n",
    "base = float(input(\"Enter the base of the triangle: \"))\n",
    "height = float(input(\"Enter the height of the triangle: \"))\n",
    "area = 0.5 * base * height\n",
    "print(f\"The area of the triangle is {area} square units\")\n"
   ]
  },
  {
   "cell_type": "code",
   "execution_count": 9,
   "id": "5a7fd345",
   "metadata": {},
   "outputs": [
    {
     "name": "stdout",
     "output_type": "stream",
     "text": [
      "Enter a number: 6\n",
      "Multiplication Table of 6:\n",
      "6 x 1 = 6\n",
      "6 x 2 = 12\n",
      "6 x 3 = 18\n",
      "6 x 4 = 24\n",
      "6 x 5 = 30\n",
      "6 x 6 = 36\n",
      "6 x 7 = 42\n",
      "6 x 8 = 48\n",
      "6 x 9 = 54\n",
      "6 x 10 = 60\n"
     ]
    }
   ],
   "source": [
    "num = int(input(\"Enter a number: \"))\n",
    "\n",
    "print(f\"Multiplication Table of {num}:\")\n",
    "for i in range(1, 11):\n",
    "    print(f\"{num} x {i} = {num * i}\")\n"
   ]
  },
  {
   "cell_type": "code",
   "execution_count": 30,
   "id": "6fde494e",
   "metadata": {},
   "outputs": [
    {
     "name": "stdout",
     "output_type": "stream",
     "text": [
      "Enter a number: 10\n",
      "10 is even.\n"
     ]
    }
   ],
   "source": [
    "number = int(input(\"Enter a number: \"))\n",
    "def check_even_odd(num):\n",
    "    if num % 2 == 0:\n",
    "        print(f\"{num} is even.\")\n",
    "    else:\n",
    "        print(f\"{num} is odd.\")\n",
    "\n",
    "\n",
    "\n",
    "check_even_odd(number)\n",
    "\n"
   ]
  },
  {
   "cell_type": "code",
   "execution_count": 22,
   "id": "5284bc3b",
   "metadata": {},
   "outputs": [
    {
     "name": "stdout",
     "output_type": "stream",
     "text": [
      "Enter the length of the rectangle: 10.2\n",
      "Enter the width of the rectangle: 32\n",
      "The area of the rectangle is 326.4 square units.\n"
     ]
    }
   ],
   "source": [
    "length = float(input(\"Enter the length of the rectangle: \"))\n",
    "width = float(input(\"Enter the width of the rectangle: \"))\n",
    "\n",
    "class Rectangle:\n",
    "    def __init__(self, length, width):\n",
    "        self.length = length\n",
    "        self.width = width\n",
    "\n",
    "    def calculate_area(self):\n",
    "        return self.length * self.width\n",
    "\n",
    "\n",
    "rectangle = Rectangle(length, width)\n",
    "\n",
    "print(f\"The area of the rectangle is {rectangle.calculate_area()} square units.\")\n"
   ]
  },
  {
   "cell_type": "code",
   "execution_count": 16,
   "id": "0c7b9ff1",
   "metadata": {},
   "outputs": [
    {
     "name": "stdout",
     "output_type": "stream",
     "text": [
      "Enter your age: 45\n",
      "Are you a student? (yes/no): yes\n",
      "You are eligible for a 10% discount.\n"
     ]
    }
   ],
   "source": [
    "age = int(input(\"Enter your age: \"))\n",
    "is_student = input(\"Are you a student? (yes/no): \").strip().lower() == \"yes\"\n",
    "def discount(age, is_student):\n",
    "    if age >= 60:\n",
    "        if is_student:\n",
    "            return \"You are eligible for a 30% discount.\"\n",
    "        else:\n",
    "            return \"You are eligible for a 20% discount.\"\n",
    "    else:\n",
    "        if is_student:\n",
    "            return \"You are eligible for a 10% discount.\"\n",
    "        else:\n",
    "            return \"You are not eligible for a discount.\"\n",
    "\n",
    "print(discount(age, is_student))\n"
   ]
  },
  {
   "cell_type": "code",
   "execution_count": 31,
   "id": "55b3f8d0",
   "metadata": {},
   "outputs": [
    {
     "name": "stdout",
     "output_type": "stream",
     "text": [
      "     Name  Age  Grade\n",
      "0     Ali   20   85.0\n",
      "1    Sara   21   85.0\n",
      "3  Ayesha   22   92.0\n",
      "4   David   20   85.0\n"
     ]
    }
   ],
   "source": [
    "import pandas as pd\n",
    "import numpy as np\n",
    "\n",
    "data = {\n",
    "    'Name': ['Ali', 'Sara', 'John', 'Ayesha', 'David'],\n",
    "    'Age': [20, 21, 19, 22, 20],\n",
    "    'Grade': [85, np.nan, 78, 92, np.nan]  \n",
    "}\n",
    "\n",
    "df = pd.DataFrame(data)\n",
    "\n",
    "mean_grade = df['Grade'].mean(skipna=True)  \n",
    "df['Grade'].fillna(mean_grade, inplace=True)\n",
    "\n",
    "filtered_df = df[df['Grade'] > 80]\n",
    "\n",
    "print(filtered_df)\n"
   ]
  },
  {
   "cell_type": "code",
   "execution_count": 33,
   "id": "1d0ff3f7",
   "metadata": {},
   "outputs": [
    {
     "name": "stdout",
     "output_type": "stream",
     "text": [
      "Enter your height in meters: 1.7\n",
      "Enter your weight in kilograms: 56\n",
      "Your BMI is 19.38, which is classified as Normal weight.\n"
     ]
    }
   ],
   "source": [
    "# BMI Calculator\n",
    "\n",
    "# Get user input for height (m) and weight (kg)\n",
    "height = float(input(\"Enter your height in meters: \"))\n",
    "weight = float(input(\"Enter your weight in kilograms: \"))\n",
    "\n",
    "# Calculate BMI\n",
    "bmi = weight / (height ** 2)\n",
    "\n",
    "# Classify BMI\n",
    "if bmi < 18.5:\n",
    "    category = \"Underweight\"\n",
    "elif 18.5 <= bmi < 24.9:\n",
    "    category = \"Normal weight\"\n",
    "elif 25 <= bmi < 29.9:\n",
    "    category = \"Overweight\"\n",
    "else:\n",
    "    category = \"Obese\"\n",
    "\n",
    "# Display result\n",
    "print(f\"Your BMI is {bmi:.2f}, which is classified as {category}.\")\n"
   ]
  },
  {
   "cell_type": "code",
   "execution_count": 34,
   "id": "5cf4e01a",
   "metadata": {},
   "outputs": [],
   "source": [
    "import numpy as np\n",
    "import matplotlib.pyplot as plt\n",
    "\n",
    "random_data = np.random.rand(100)"
   ]
  },
  {
   "cell_type": "code",
   "execution_count": 44,
   "id": "7eaad209",
   "metadata": {},
   "outputs": [
    {
     "data": {
      "image/png": "[encoded data removed]",
      "text/plain": [
       "<Figure size 640x480 with 1 Axes>"
      ]
     },
     "metadata": {},
     "output_type": "display_data"
    }
   ],
   "source": [
    "import numpy as np\n",
    "import matplotlib.pyplot as plt\n",
    "\n",
    "random_data = np.random.randn(100)  \n",
    "\n",
    "plt.hist(random_data, bins=8, color='green', edgecolor='black', alpha=0.7)\n",
    "plt.xlabel(\"Value\")\n",
    "plt.ylabel(\"Frequency\")\n",
    "plt.title(\"Histogram of 100 Random Numbers\", fontsize='15', fontweight='bold',c='y')\n",
    "plt.grid()\n",
    "plt.show()\n"
   ]
  },
  {
   "cell_type": "code",
   "execution_count": 48,
   "id": "78610f09",
   "metadata": {},
   "outputs": [
    {
     "data": {
      "image/png": "[encoded data removed]",
      "text/plain": [
       "<Figure size 640x480 with 1 Axes>"
      ]
     },
     "metadata": {},
     "output_type": "display_data"
    }
   ],
   "source": [
    "import numpy as np\n",
    "import matplotlib.pyplot as plt\n",
    "from sklearn.linear_model import LinearRegression\n",
    "\n",
    "np.random.seed(42) \n",
    "X = np.random.rand(20, 1) * 10  \n",
    "y = 2.5 * X + np.random.randn(20, 1) * 2  # y = 2.5X + noise\n",
    "\n",
    "model = LinearRegression()\n",
    "model.fit(X, y)\n",
    "\n",
    "X_pred = np.linspace(0, 10, 100).reshape(-1, 1)\n",
    "y_pred = model.predict(X_pred)\n",
    "\n",
    "plt.scatter(X, y, color='blue', label='Data Points')\n",
    "plt.plot(X_pred, y_pred, color='green', linewidth=2, label='Regression Line')\n",
    "plt.xlabel(\"X values\",fontsize='15', fontweight='bold',c='y')\n",
    "plt.ylabel(\"y values\",fontsize='15', fontweight='bold',c='y')\n",
    "plt.title(\"Simple Linear Regression\",fontsize='15', fontweight='bold',c='y')\n",
    "plt.legend()\n",
    "plt.show()\n"
   ]
  },
  {
   "cell_type": "code",
   "execution_count": null,
   "id": "cc8b8f7b",
   "metadata": {},
   "outputs": [],
   "source": []
  }
 ],
 "metadata": {
  "kernelspec": {
   "display_name": "Python 3 (ipykernel)",
   "language": "python",
   "name": "python3"
  },
  "language_info": {
   "codemirror_mode": {
    "name": "ipython",
    "version": 3
   },
   "file_extension": ".py",
   "mimetype": "text/x-python",
   "name": "python",
   "nbconvert_exporter": "python",
   "pygments_lexer": "ipython3",
   "version": "3.11.5"
  }
 },
 "nbformat": 4,
 "nbformat_minor": 5
}
